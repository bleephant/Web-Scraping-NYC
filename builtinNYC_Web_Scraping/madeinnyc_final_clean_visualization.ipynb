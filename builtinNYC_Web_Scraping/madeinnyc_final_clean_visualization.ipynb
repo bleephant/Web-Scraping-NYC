{
 "cells": [
  {
   "cell_type": "code",
   "execution_count": 1,
   "metadata": {},
   "outputs": [],
   "source": [
    "import pandas as pd\n",
    "import numpy as np\n",
    "from matplotlib import pyplot as plt\n",
    "plt.style.use('ggplot')\n",
    "import seaborn as sns"
   ]
  },
  {
   "cell_type": "code",
   "execution_count": 2,
   "metadata": {},
   "outputs": [],
   "source": [
    "dfall = pd.read_csv('builtinnyc_data.csv', thousands=',')"
   ]
  },
  {
   "cell_type": "code",
   "execution_count": 3,
   "metadata": {},
   "outputs": [
    {
     "data": {
      "text/plain": [
       "(4991, 11)"
      ]
     },
     "execution_count": 3,
     "metadata": {},
     "output_type": "execute_result"
    }
   ],
   "source": [
    "dfall.shape"
   ]
  },
  {
   "cell_type": "code",
   "execution_count": 4,
   "metadata": {},
   "outputs": [
    {
     "data": {
      "text/plain": [
       "3435"
      ]
     },
     "execution_count": 4,
     "metadata": {},
     "output_type": "execute_result"
    }
   ],
   "source": [
    "len(dfall.i_name.unique())"
   ]
  },
  {
   "cell_type": "code",
   "execution_count": 5,
   "metadata": {},
   "outputs": [
    {
     "data": {
      "text/html": [
       "<div>\n",
       "<style scoped>\n",
       "    .dataframe tbody tr th:only-of-type {\n",
       "        vertical-align: middle;\n",
       "    }\n",
       "\n",
       "    .dataframe tbody tr th {\n",
       "        vertical-align: top;\n",
       "    }\n",
       "\n",
       "    .dataframe thead th {\n",
       "        text-align: right;\n",
       "    }\n",
       "</style>\n",
       "<table border=\"1\" class=\"dataframe\">\n",
       "  <thead>\n",
       "    <tr style=\"text-align: right;\">\n",
       "      <th></th>\n",
       "      <th>Unnamed: 0</th>\n",
       "      <th>address</th>\n",
       "      <th>company</th>\n",
       "      <th>date</th>\n",
       "      <th>description</th>\n",
       "      <th>funding</th>\n",
       "      <th>i_name</th>\n",
       "      <th>job_type</th>\n",
       "      <th>jobs</th>\n",
       "      <th>loc_employ</th>\n",
       "      <th>tot_employ</th>\n",
       "    </tr>\n",
       "  </thead>\n",
       "  <tbody>\n",
       "    <tr>\n",
       "      <td>408</td>\n",
       "      <td>119</td>\n",
       "      <td>625 6th Ave, New York, NY 10011</td>\n",
       "      <td>eBay</td>\n",
       "      <td>1995.0</td>\n",
       "      <td>eBay is where the world goes to shop, sell and...</td>\n",
       "      <td>NaN</td>\n",
       "      <td>eBay</td>\n",
       "      <td>eCommerce</td>\n",
       "      <td>NaN</td>\n",
       "      <td>527.0</td>\n",
       "      <td>25304.0</td>\n",
       "    </tr>\n",
       "    <tr>\n",
       "      <td>1742</td>\n",
       "      <td>73</td>\n",
       "      <td>New York , NY</td>\n",
       "      <td>Pijon</td>\n",
       "      <td>NaN</td>\n",
       "      <td>SpaceSplitter, dba Pijon, allows users to send...</td>\n",
       "      <td>NaN</td>\n",
       "      <td>Pijon</td>\n",
       "      <td>Consumer Web + Kids + Family</td>\n",
       "      <td>NaN</td>\n",
       "      <td>NaN</td>\n",
       "      <td>NaN</td>\n",
       "    </tr>\n",
       "    <tr>\n",
       "      <td>4022</td>\n",
       "      <td>285</td>\n",
       "      <td>New York , NY</td>\n",
       "      <td>Amplfy.me</td>\n",
       "      <td>NaN</td>\n",
       "      <td>Amplify.me is a New York-based stealth technol...</td>\n",
       "      <td>NaN</td>\n",
       "      <td>Amplfy.me</td>\n",
       "      <td>NaN</td>\n",
       "      <td>NaN</td>\n",
       "      <td>NaN</td>\n",
       "      <td>NaN</td>\n",
       "    </tr>\n",
       "    <tr>\n",
       "      <td>1930</td>\n",
       "      <td>65</td>\n",
       "      <td>2225 Lawson Lane, Santa Clara, CA 95054</td>\n",
       "      <td>ServiceNow</td>\n",
       "      <td>NaN</td>\n",
       "      <td>ServiceNow is the fastest-growing enterprise c...</td>\n",
       "      <td>NaN</td>\n",
       "      <td>ServiceNow</td>\n",
       "      <td>Software</td>\n",
       "      <td>NaN</td>\n",
       "      <td>NaN</td>\n",
       "      <td>NaN</td>\n",
       "    </tr>\n",
       "    <tr>\n",
       "      <td>2692</td>\n",
       "      <td>38</td>\n",
       "      <td>3600 Spruce St, Philadelphia, PA 19104</td>\n",
       "      <td>ThirdEye</td>\n",
       "      <td>NaN</td>\n",
       "      <td>We believe in empowering the blind; ThirdEye i...</td>\n",
       "      <td>NaN</td>\n",
       "      <td>ThirdEye</td>\n",
       "      <td>Healthtech</td>\n",
       "      <td>NaN</td>\n",
       "      <td>NaN</td>\n",
       "      <td>NaN</td>\n",
       "    </tr>\n",
       "    <tr>\n",
       "      <td>1234</td>\n",
       "      <td>157</td>\n",
       "      <td>New York , NY</td>\n",
       "      <td>Vizzuality</td>\n",
       "      <td>2009.0</td>\n",
       "      <td>Vizzuality is building an open source tool tha...</td>\n",
       "      <td>NaN</td>\n",
       "      <td>Vizzuality</td>\n",
       "      <td>Software + News + Entertainment</td>\n",
       "      <td>NaN</td>\n",
       "      <td>NaN</td>\n",
       "      <td>NaN</td>\n",
       "    </tr>\n",
       "    <tr>\n",
       "      <td>2536</td>\n",
       "      <td>82</td>\n",
       "      <td>1 World Trade Center , New York, NY 10007</td>\n",
       "      <td>Symphony</td>\n",
       "      <td>NaN</td>\n",
       "      <td>Symphony transforms the way users communicate ...</td>\n",
       "      <td>NaN</td>\n",
       "      <td>Symphony</td>\n",
       "      <td>Information Technology</td>\n",
       "      <td>NaN</td>\n",
       "      <td>NaN</td>\n",
       "      <td>NaN</td>\n",
       "    </tr>\n",
       "    <tr>\n",
       "      <td>1466</td>\n",
       "      <td>194</td>\n",
       "      <td>NaN</td>\n",
       "      <td>Enpass</td>\n",
       "      <td>NaN</td>\n",
       "      <td>Sinew Software Systems is the maker of Enpass ...</td>\n",
       "      <td>NaN</td>\n",
       "      <td>Enpass</td>\n",
       "      <td>Software</td>\n",
       "      <td>NaN</td>\n",
       "      <td>NaN</td>\n",
       "      <td>NaN</td>\n",
       "    </tr>\n",
       "    <tr>\n",
       "      <td>3277</td>\n",
       "      <td>623</td>\n",
       "      <td>NaN</td>\n",
       "      <td>JackDB</td>\n",
       "      <td>2014.0</td>\n",
       "      <td>JackDB is a software company that designs and ...</td>\n",
       "      <td>NaN</td>\n",
       "      <td>JackDB</td>\n",
       "      <td>Big Data</td>\n",
       "      <td>NaN</td>\n",
       "      <td>NaN</td>\n",
       "      <td>NaN</td>\n",
       "    </tr>\n",
       "    <tr>\n",
       "      <td>907</td>\n",
       "      <td>25</td>\n",
       "      <td>1740 Broadway 15th Floor, New York, NY 10019</td>\n",
       "      <td>SMB Compass</td>\n",
       "      <td>2017.0</td>\n",
       "      <td>SMB Compass is a bespoke business financing an...</td>\n",
       "      <td>NaN</td>\n",
       "      <td>SMB Compass</td>\n",
       "      <td>Fintech</td>\n",
       "      <td>NaN</td>\n",
       "      <td>NaN</td>\n",
       "      <td>NaN</td>\n",
       "    </tr>\n",
       "  </tbody>\n",
       "</table>\n",
       "</div>"
      ],
      "text/plain": [
       "      Unnamed: 0                                       address      company  \\\n",
       "408          119               625 6th Ave, New York, NY 10011         eBay   \n",
       "1742          73                                 New York , NY        Pijon   \n",
       "4022         285                                 New York , NY    Amplfy.me   \n",
       "1930          65       2225 Lawson Lane, Santa Clara, CA 95054   ServiceNow   \n",
       "2692          38        3600 Spruce St, Philadelphia, PA 19104     ThirdEye   \n",
       "1234         157                                 New York , NY   Vizzuality   \n",
       "2536          82     1 World Trade Center , New York, NY 10007     Symphony   \n",
       "1466         194                                           NaN       Enpass   \n",
       "3277         623                                           NaN       JackDB   \n",
       "907           25  1740 Broadway 15th Floor, New York, NY 10019  SMB Compass   \n",
       "\n",
       "        date                                        description funding  \\\n",
       "408   1995.0  eBay is where the world goes to shop, sell and...     NaN   \n",
       "1742     NaN  SpaceSplitter, dba Pijon, allows users to send...     NaN   \n",
       "4022     NaN  Amplify.me is a New York-based stealth technol...     NaN   \n",
       "1930     NaN  ServiceNow is the fastest-growing enterprise c...     NaN   \n",
       "2692     NaN  We believe in empowering the blind; ThirdEye i...     NaN   \n",
       "1234  2009.0  Vizzuality is building an open source tool tha...     NaN   \n",
       "2536     NaN  Symphony transforms the way users communicate ...     NaN   \n",
       "1466     NaN  Sinew Software Systems is the maker of Enpass ...     NaN   \n",
       "3277  2014.0  JackDB is a software company that designs and ...     NaN   \n",
       "907   2017.0  SMB Compass is a bespoke business financing an...     NaN   \n",
       "\n",
       "           i_name                         job_type jobs  loc_employ  \\\n",
       "408          eBay                        eCommerce  NaN       527.0   \n",
       "1742        Pijon     Consumer Web + Kids + Family  NaN         NaN   \n",
       "4022    Amplfy.me                              NaN  NaN         NaN   \n",
       "1930   ServiceNow                         Software  NaN         NaN   \n",
       "2692     ThirdEye                       Healthtech  NaN         NaN   \n",
       "1234   Vizzuality  Software + News + Entertainment  NaN         NaN   \n",
       "2536     Symphony           Information Technology  NaN         NaN   \n",
       "1466       Enpass                         Software  NaN         NaN   \n",
       "3277       JackDB                         Big Data  NaN         NaN   \n",
       "907   SMB Compass                          Fintech  NaN         NaN   \n",
       "\n",
       "      tot_employ  \n",
       "408      25304.0  \n",
       "1742         NaN  \n",
       "4022         NaN  \n",
       "1930         NaN  \n",
       "2692         NaN  \n",
       "1234         NaN  \n",
       "2536         NaN  \n",
       "1466         NaN  \n",
       "3277         NaN  \n",
       "907          NaN  "
      ]
     },
     "execution_count": 5,
     "metadata": {},
     "output_type": "execute_result"
    }
   ],
   "source": [
    "dfall.sample(10)"
   ]
  },
  {
   "cell_type": "code",
   "execution_count": 6,
   "metadata": {},
   "outputs": [],
   "source": [
    "dfall['jobs'] = dfall['jobs'].apply(lambda x: x.split(' ')[1] if x==x else x)"
   ]
  },
  {
   "cell_type": "code",
   "execution_count": 7,
   "metadata": {},
   "outputs": [],
   "source": [
    "dfall['jobs'] = dfall['jobs'].apply(lambda x: float(x) if x==x else x)"
   ]
  },
  {
   "cell_type": "code",
   "execution_count": 8,
   "metadata": {},
   "outputs": [],
   "source": [
    "dfall['funding'] = dfall['funding'].apply(lambda x: x[1:-1] if x==x else x)"
   ]
  },
  {
   "cell_type": "code",
   "execution_count": 9,
   "metadata": {},
   "outputs": [],
   "source": [
    "dfall['funding'] = dfall['funding'].apply(lambda x: float(x) if x==x else x)"
   ]
  },
  {
   "cell_type": "code",
   "execution_count": 10,
   "metadata": {},
   "outputs": [],
   "source": [
    "def job_split(jobs, index):\n",
    "    jobs = jobs.split(' + ')\n",
    "    try:\n",
    "        jobs[index]\n",
    "    except: \n",
    "        return None\n",
    "    return jobs[index]\n",
    "        "
   ]
  },
  {
   "cell_type": "code",
   "execution_count": 11,
   "metadata": {},
   "outputs": [],
   "source": [
    "dfall['job_t0'] = dfall['job_type'].apply(lambda x: job_split(x,0) if x==x else x)"
   ]
  },
  {
   "cell_type": "code",
   "execution_count": 12,
   "metadata": {},
   "outputs": [],
   "source": [
    "dfall['job_t1'] = dfall['job_type'].apply(lambda x: job_split(x,1) if x==x else x)"
   ]
  },
  {
   "cell_type": "code",
   "execution_count": 13,
   "metadata": {},
   "outputs": [],
   "source": [
    "dfall['job_t2'] = dfall['job_type'].apply(lambda x: job_split(x,2) if x==x else x)"
   ]
  },
  {
   "cell_type": "code",
   "execution_count": 14,
   "metadata": {},
   "outputs": [],
   "source": [
    "dfall['g_rate'] = dfall['tot_employ']/(2021 - dfall['date'])"
   ]
  },
  {
   "cell_type": "code",
   "execution_count": 15,
   "metadata": {},
   "outputs": [
    {
     "data": {
      "text/html": [
       "<div>\n",
       "<style scoped>\n",
       "    .dataframe tbody tr th:only-of-type {\n",
       "        vertical-align: middle;\n",
       "    }\n",
       "\n",
       "    .dataframe tbody tr th {\n",
       "        vertical-align: top;\n",
       "    }\n",
       "\n",
       "    .dataframe thead th {\n",
       "        text-align: right;\n",
       "    }\n",
       "</style>\n",
       "<table border=\"1\" class=\"dataframe\">\n",
       "  <thead>\n",
       "    <tr style=\"text-align: right;\">\n",
       "      <th></th>\n",
       "      <th>Unnamed: 0</th>\n",
       "      <th>address</th>\n",
       "      <th>company</th>\n",
       "      <th>date</th>\n",
       "      <th>description</th>\n",
       "      <th>funding</th>\n",
       "      <th>i_name</th>\n",
       "      <th>job_type</th>\n",
       "      <th>jobs</th>\n",
       "      <th>loc_employ</th>\n",
       "      <th>tot_employ</th>\n",
       "      <th>job_t0</th>\n",
       "      <th>job_t1</th>\n",
       "      <th>job_t2</th>\n",
       "      <th>g_rate</th>\n",
       "    </tr>\n",
       "  </thead>\n",
       "  <tbody>\n",
       "    <tr>\n",
       "      <td>0</td>\n",
       "      <td>0</td>\n",
       "      <td>Our office is located steps from Madison Squar...</td>\n",
       "      <td>Brigit</td>\n",
       "      <td>2017.0</td>\n",
       "      <td>Brigit is a mission-driven start-up that is di...</td>\n",
       "      <td>NaN</td>\n",
       "      <td>Brigit</td>\n",
       "      <td>Fintech</td>\n",
       "      <td>9.0</td>\n",
       "      <td>37.0</td>\n",
       "      <td>37.0</td>\n",
       "      <td>Fintech</td>\n",
       "      <td>None</td>\n",
       "      <td>None</td>\n",
       "      <td>9.250000</td>\n",
       "    </tr>\n",
       "    <tr>\n",
       "      <td>1</td>\n",
       "      <td>1</td>\n",
       "      <td>Our office is located in Midtown West - which ...</td>\n",
       "      <td>Zearn</td>\n",
       "      <td>2012.0</td>\n",
       "      <td>We are a nonprofit curriculum publisher and so...</td>\n",
       "      <td>NaN</td>\n",
       "      <td>Zearn</td>\n",
       "      <td>Edtech</td>\n",
       "      <td>1.0</td>\n",
       "      <td>30.0</td>\n",
       "      <td>60.0</td>\n",
       "      <td>Edtech</td>\n",
       "      <td>None</td>\n",
       "      <td>None</td>\n",
       "      <td>6.666667</td>\n",
       "    </tr>\n",
       "    <tr>\n",
       "      <td>2</td>\n",
       "      <td>2</td>\n",
       "      <td>We're located right in between Union Square an...</td>\n",
       "      <td>MaestroQA</td>\n",
       "      <td>2013.0</td>\n",
       "      <td>MaestroQA provides omni-channel customer servi...</td>\n",
       "      <td>6.3</td>\n",
       "      <td>MaestroQA</td>\n",
       "      <td>Cloud + Enterprise Web</td>\n",
       "      <td>4.0</td>\n",
       "      <td>31.0</td>\n",
       "      <td>32.0</td>\n",
       "      <td>Cloud</td>\n",
       "      <td>Enterprise Web</td>\n",
       "      <td>None</td>\n",
       "      <td>4.000000</td>\n",
       "    </tr>\n",
       "    <tr>\n",
       "      <td>3</td>\n",
       "      <td>3</td>\n",
       "      <td>Our NYC HQ is in a trendy area with lots of sh...</td>\n",
       "      <td>Gympass</td>\n",
       "      <td>2012.0</td>\n",
       "      <td>We simplify wellness so you can find everythin...</td>\n",
       "      <td>NaN</td>\n",
       "      <td>Gympass</td>\n",
       "      <td>Fitness + Healthtech</td>\n",
       "      <td>8.0</td>\n",
       "      <td>103.0</td>\n",
       "      <td>1126.0</td>\n",
       "      <td>Fitness</td>\n",
       "      <td>Healthtech</td>\n",
       "      <td>None</td>\n",
       "      <td>125.111111</td>\n",
       "    </tr>\n",
       "    <tr>\n",
       "      <td>4</td>\n",
       "      <td>4</td>\n",
       "      <td>3 World Trade Center, New York , NY 10007</td>\n",
       "      <td>IEX</td>\n",
       "      <td>2012.0</td>\n",
       "      <td>IEX develops transparent and trusted technolog...</td>\n",
       "      <td>NaN</td>\n",
       "      <td>IEX</td>\n",
       "      <td>Big Data + Fintech</td>\n",
       "      <td>13.0</td>\n",
       "      <td>110.0</td>\n",
       "      <td>125.0</td>\n",
       "      <td>Big Data</td>\n",
       "      <td>Fintech</td>\n",
       "      <td>None</td>\n",
       "      <td>13.888889</td>\n",
       "    </tr>\n",
       "  </tbody>\n",
       "</table>\n",
       "</div>"
      ],
      "text/plain": [
       "   Unnamed: 0                                            address    company  \\\n",
       "0           0  Our office is located steps from Madison Squar...     Brigit   \n",
       "1           1  Our office is located in Midtown West - which ...      Zearn   \n",
       "2           2  We're located right in between Union Square an...  MaestroQA   \n",
       "3           3  Our NYC HQ is in a trendy area with lots of sh...    Gympass   \n",
       "4           4          3 World Trade Center, New York , NY 10007        IEX   \n",
       "\n",
       "     date                                        description  funding  \\\n",
       "0  2017.0  Brigit is a mission-driven start-up that is di...      NaN   \n",
       "1  2012.0  We are a nonprofit curriculum publisher and so...      NaN   \n",
       "2  2013.0  MaestroQA provides omni-channel customer servi...      6.3   \n",
       "3  2012.0  We simplify wellness so you can find everythin...      NaN   \n",
       "4  2012.0  IEX develops transparent and trusted technolog...      NaN   \n",
       "\n",
       "      i_name                job_type  jobs  loc_employ  tot_employ    job_t0  \\\n",
       "0     Brigit                 Fintech   9.0        37.0        37.0   Fintech   \n",
       "1      Zearn                  Edtech   1.0        30.0        60.0    Edtech   \n",
       "2  MaestroQA  Cloud + Enterprise Web   4.0        31.0        32.0     Cloud   \n",
       "3    Gympass    Fitness + Healthtech   8.0       103.0      1126.0   Fitness   \n",
       "4        IEX      Big Data + Fintech  13.0       110.0       125.0  Big Data   \n",
       "\n",
       "           job_t1 job_t2      g_rate  \n",
       "0            None   None    9.250000  \n",
       "1            None   None    6.666667  \n",
       "2  Enterprise Web   None    4.000000  \n",
       "3      Healthtech   None  125.111111  \n",
       "4         Fintech   None   13.888889  "
      ]
     },
     "execution_count": 15,
     "metadata": {},
     "output_type": "execute_result"
    }
   ],
   "source": [
    "dfall.head()"
   ]
  },
  {
   "cell_type": "code",
   "execution_count": 16,
   "metadata": {},
   "outputs": [
    {
     "data": {
      "image/png": "[encoded data removed]",
      "text/plain": [
       "<Figure size 792x360 with 1 Axes>"
      ]
     },
     "metadata": {
      "needs_background": "light"
     },
     "output_type": "display_data"
    }
   ],
   "source": [
    "job_df = dfall[['jobs', 'job_t0']]\n",
    "j_grp_df = job_df.groupby('job_t0')\n",
    "key_list = j_grp_df.groups.keys()\n",
    "j_sum_df = pd.DataFrame(j_grp_df.sum())\n",
    "j_sum_df['industry'] = key_list\n",
    "j_sum_df = j_sum_df.sort_values('jobs', ascending=False)\n",
    "j_sum_df.replace([\"Artificial Intelligence\"],[\"AI\"], inplace=True)\n",
    "j_sub_df = j_sum_df.head(7)\n",
    "\n",
    "a4_dims = (11, 5)\n",
    "fig, ax = plt.subplots(figsize=a4_dims)\n",
    "pp = sns.barplot(j_sub_df['industry'], j_sub_df['jobs'], ci=None, color='blue')\n",
    "pp.set(xlabel='Job Sector', ylabel='No. of Job Listings')\n",
    "figure = pp.get_figure()\n",
    "pp.figure.savefig(\"jobs.png\")\n",
    "#med_list = df_grp.median()\n",
    "#df_med = pd.DataFrame(scatter_df.groupby(['real_date'])['tot_employ'].median())\n",
    "#df_med['date'] = range(1991,2020)\n",
    "#sns.regplot(df_med['real_date'], df_med['tot_employ'], order=1)"
   ]
  },
  {
   "cell_type": "code",
   "execution_count": 17,
   "metadata": {},
   "outputs": [
    {
     "data": {
      "image/png": "[encoded data removed]",
      "text/plain": [
       "<Figure size 792x360 with 1 Axes>"
      ]
     },
     "metadata": {
      "needs_background": "light"
     },
     "output_type": "display_data"
    }
   ],
   "source": [
    "job_df = dfall[['funding', 'job_t0']]\n",
    "j_grp_df = job_df.groupby('job_t0')\n",
    "key_list = j_grp_df.groups.keys()\n",
    "j_sum_df = pd.DataFrame(j_grp_df.sum())\n",
    "j_sum_df['industry'] = key_list\n",
    "j_sum_df = j_sum_df.sort_values('funding', ascending=False)\n",
    "j_sum_df.replace([\"Artificial Intelligence\",\"Information Technology\"],[\"AI\", \"IT\"], inplace=True)\n",
    "j_sub_df = j_sum_df.head(7)\n",
    "\n",
    "a4_dims = (11, 5)\n",
    "fig, ax = plt.subplots(figsize=a4_dims)\n",
    "pp = sns.barplot(j_sub_df['industry'], j_sub_df['funding'], ci=None, color='blue')\n",
    "pp.set(xlabel='Job Sector', ylabel='Investor Funding (M$)')\n",
    "figure = pp.get_figure()\n",
    "pp.figure.savefig(\"funding.png\")"
   ]
  },
  {
   "cell_type": "code",
   "execution_count": 18,
   "metadata": {},
   "outputs": [
    {
     "data": {
      "image/png": "[encoded data removed]",
      "text/plain": [
       "<Figure size 792x360 with 1 Axes>"
      ]
     },
     "metadata": {
      "needs_background": "light"
     },
     "output_type": "display_data"
    }
   ],
   "source": [
    "job_df = dfall[['tot_employ', 'job_t0']]\n",
    "j_grp_df = job_df.groupby('job_t0')\n",
    "key_list = j_grp_df.groups.keys()\n",
    "j_sum_df = pd.DataFrame(j_grp_df.sum())\n",
    "j_sum_df['industry'] = key_list\n",
    "j_sum_df = j_sum_df.sort_values('tot_employ', ascending=False)\n",
    "j_sum_df.replace([\"Artificial Intelligence\",\"Information Technology\",\n",
    "                 \"Natural Language Processing\"],[\"AI\", \"IT\", \"NLP\"], inplace=True)\n",
    "j_sub_df = j_sum_df.head(7)\n",
    "\n",
    "a4_dims = (11, 5)\n",
    "fig, ax = plt.subplots(figsize=a4_dims)\n",
    "plt.xlabel(\"Job Sector\")\n",
    "plt.ylabel(\"No. of Employees\")\n",
    "pp = sns.barplot(j_sub_df['industry'], j_sub_df['tot_employ'], ci=None, color='blue')\n",
    "pp.set(xlabel='Job Sector', ylabel='No. of Employees')\n",
    "figure = pp.get_figure()\n",
    "pp.figure.savefig(\"employees.png\")"
   ]
  },
  {
   "cell_type": "code",
   "execution_count": 19,
   "metadata": {},
   "outputs": [
    {
     "data": {
      "image/png": "[encoded data removed]",
      "text/plain": [
       "<Figure size 792x360 with 1 Axes>"
      ]
     },
     "metadata": {
      "needs_background": "light"
     },
     "output_type": "display_data"
    }
   ],
   "source": [
    "d_job_df = dfall[['date','job_t0']]\n",
    "d_grp_df = d_job_df.groupby('job_t0')\n",
    "key_list = d_grp_df.groups.keys()\n",
    "d_sum_df = pd.DataFrame(d_grp_df.median())\n",
    "d_sum_df['industry'] = key_list\n",
    "\n",
    "job_df = dfall[['tot_employ','job_t0']]\n",
    "j_grp_df = job_df.groupby('job_t0')\n",
    "key_list = j_grp_df.groups.keys()\n",
    "j_sum_df = pd.DataFrame(j_grp_df.median())\n",
    "j_sum_df['industry'] = key_list\n",
    "\n",
    "rate = pd.merge(d_sum_df, j_sum_df, on = 'industry')\n",
    "rate['g_rate']= rate['tot_employ']/(2021-rate['date'])\n",
    "rate = rate.sort_values('g_rate', ascending=False)\n",
    "rate.replace([\"Artificial Intelligence\",\"Information Technology\",\n",
    "                 \"Natural Language Processing\"],[\"AI\", \"IT\", \"NLP\"], inplace=True)\n",
    "rate = rate.head(5)\n",
    "\n",
    "a4_dims = (11, 5)\n",
    "fig, ax = plt.subplots(figsize=a4_dims)\n",
    "pp = sns.barplot(rate['industry'], rate['g_rate'], ci=None, color='blue')\n",
    "pp.set(xlabel='Job Sector', ylabel='Growth Rate (emp./year)')\n",
    "figure = pp.get_figure()\n",
    "pp.figure.savefig(\"growth.png\")\n"
   ]
  },
  {
   "cell_type": "code",
   "execution_count": 20,
   "metadata": {},
   "outputs": [
    {
     "data": {
      "image/png": "[encoded data removed]",
      "text/plain": [
       "<Figure size 432x288 with 1 Axes>"
      ]
     },
     "metadata": {
      "needs_background": "light"
     },
     "output_type": "display_data"
    }
   ],
   "source": [
    "scatter_df = dfall[['funding','tot_employ']]\n",
    "scatter_df = scatter_df.loc[scatter_df.apply(lambda x: np.abs(x - x.mean()) / x.std() < 3).all(axis=1)]\n",
    "g = sns.regplot(scatter_df['funding'], scatter_df['tot_employ'], order=1, scatter_kws={\"color\": \"black\"}, line_kws={\"color\": \"blue\"})\n",
    "g.set(xlabel='Investor Funding (M$)', ylabel='No. of Employees')\n",
    "figure = g.get_figure()\n",
    "g.figure.savefig(\"fund_scatter.png\")"
   ]
  },
  {
   "cell_type": "code",
   "execution_count": 21,
   "metadata": {},
   "outputs": [
    {
     "data": {
      "image/png": "[encoded data removed]",
      "text/plain": [
       "<Figure size 432x288 with 1 Axes>"
      ]
     },
     "metadata": {
      "needs_background": "light"
     },
     "output_type": "display_data"
    }
   ],
   "source": [
    "scatter_df = dfall[['g_rate','jobs']]\n",
    "scatter_df = scatter_df.loc[(scatter_df['g_rate']<100) & (scatter_df['jobs']<50) ]\n",
    "#scatter_df = scatter_df.loc[scatter_df.apply(lambda x: np.abs(x - x.mean()) / x.std() < 3).all(axis=1)]\n",
    "#scatter_df.plot.scatter(x='funding', y='tot_employ')\n",
    "g = sns.regplot(scatter_df['g_rate'], scatter_df['jobs'], order=1, scatter_kws={\"color\": \"black\"}, line_kws={\"color\": \"blue\"})\n",
    "g.set(xlabel='Growth Rate (emp./year)', ylabel='No. of Job Listings')\n",
    "figure = g.get_figure()\n",
    "g.figure.savefig(\"growth_scatter.png\")\n",
    "#sns.regplot(scatter_df['g_rate'], scatter_df['jobs'], order=1)"
   ]
  },
  {
   "cell_type": "code",
   "execution_count": 22,
   "metadata": {},
   "outputs": [
    {
     "data": {
      "image/png": "[encoded data removed]",
      "text/plain": [
       "<Figure size 432x288 with 1 Axes>"
      ]
     },
     "metadata": {
      "needs_background": "light"
     },
     "output_type": "display_data"
    }
   ],
   "source": [
    "scatter_df = dfall[['date', 'tot_employ']]\n",
    "scatter_df = scatter_df.loc[(scatter_df['date']>1995)]\n",
    "scatter_df = scatter_df.sort_values('date')\n",
    "df_med = pd.DataFrame(scatter_df.groupby(['date'])['tot_employ'].median())\n",
    "df_med['date'] = range(1996,2021)\n",
    "g = sns.regplot(df_med['date'], df_med['tot_employ'], order=1, scatter_kws={\"color\": \"black\"}, line_kws={\"color\": \"blue\"})\n",
    "g.set(xlabel='Year Founded', ylabel='Median No. Employees')\n",
    "figure = g.get_figure()\n",
    "g.figure.savefig(\"date_scatter.png\")\n",
    "#g = sns.regplot(scatter_df['g_rate'], scatter_df['jobs'], order=1, scatter_kws={\"color\": \"black\"}, line_kws={\"color\": \"blue\"})"
   ]
  },
  {
   "cell_type": "code",
   "execution_count": null,
   "metadata": {},
   "outputs": [],
   "source": []
  }
 ],
 "metadata": {
  "kernelspec": {
   "display_name": "Python 3",
   "language": "python",
   "name": "python3"
  },
  "language_info": {
   "codemirror_mode": {
    "name": "ipython",
    "version": 3
   },
   "file_extension": ".py",
   "mimetype": "text/x-python",
   "name": "python",
   "nbconvert_exporter": "python",
   "pygments_lexer": "ipython3",
   "version": "3.7.4"
  }
 },
 "nbformat": 4,
 "nbformat_minor": 2
}
