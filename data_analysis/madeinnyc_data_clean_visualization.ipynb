{
 "cells": [
  {
   "cell_type": "code",
   "execution_count": 1,
   "metadata": {},
   "outputs": [],
   "source": [
    "import pandas as pd\n",
    "import numpy as np\n",
    "from matplotlib import pyplot as plt\n",
    "plt.style.use('ggplot')"
   ]
  },
  {
   "cell_type": "code",
   "execution_count": 22,
   "metadata": {},
   "outputs": [],
   "source": [
    "from matplotlib import pyplot\n",
    "import seaborn as sns"
   ]
  },
  {
   "cell_type": "code",
   "execution_count": 2,
   "metadata": {},
   "outputs": [],
   "source": [
    "dfall = pd.read_csv('builtinnyc_data.csv', thousands=',')"
   ]
  },
  {
   "cell_type": "code",
   "execution_count": 3,
   "metadata": {},
   "outputs": [
    {
     "data": {
      "text/plain": [
       "(4991, 11)"
      ]
     },
     "execution_count": 3,
     "metadata": {},
     "output_type": "execute_result"
    }
   ],
   "source": [
    "dfall.shape"
   ]
  },
  {
   "cell_type": "code",
   "execution_count": 4,
   "metadata": {},
   "outputs": [
    {
     "data": {
      "text/plain": [
       "array(['Brigit', 'Zearn', 'MaestroQA', ..., 'NuWare', 'Splash Payments',\n",
       "       'Tend'], dtype=object)"
      ]
     },
     "execution_count": 4,
     "metadata": {},
     "output_type": "execute_result"
    }
   ],
   "source": [
    "dfall.i_name.unique()"
   ]
  },
  {
   "cell_type": "code",
   "execution_count": 94,
   "metadata": {},
   "outputs": [
    {
     "data": {
      "text/plain": [
       "2014.0    377\n",
       "2015.0    311\n",
       "2012.0    296\n",
       "2013.0    294\n",
       "2016.0    248\n",
       "         ... \n",
       "1957.0      1\n",
       "1960.0      1\n",
       "1929.0      1\n",
       "1917.0      1\n",
       "1968.0      1\n",
       "Name: date, Length: 62, dtype: int64"
      ]
     },
     "execution_count": 94,
     "metadata": {},
     "output_type": "execute_result"
    }
   ],
   "source": [
    "dfall['date'].value_counts()"
   ]
  },
  {
   "cell_type": "code",
   "execution_count": 95,
   "metadata": {},
   "outputs": [
    {
     "data": {
      "text/plain": [
       "Software                             272\n",
       "Fintech                              268\n",
       "Healthtech                           202\n",
       "AdTech                               168\n",
       "Edtech                               142\n",
       "                                    ... \n",
       "Machine Learning + Marketing Tech      1\n",
       "Computer Vision + eCommerce            1\n",
       "Software + Food                        1\n",
       "eCommerce + Internet of Things         1\n",
       "Wearables + Internet of Things         1\n",
       "Name: job_type, Length: 565, dtype: int64"
      ]
     },
     "execution_count": 95,
     "metadata": {},
     "output_type": "execute_result"
    }
   ],
   "source": [
    "dfall['job_type'].value_counts()"
   ]
  },
  {
   "cell_type": "code",
   "execution_count": 97,
   "metadata": {},
   "outputs": [
    {
     "data": {
      "text/plain": [
       "address        1362\n",
       "company           0\n",
       "date           1908\n",
       "description     422\n",
       "funding        4545\n",
       "i_name           10\n",
       "job_type        204\n",
       "jobs           4752\n",
       "loc_employ     3440\n",
       "tot_employ     3294\n",
       "dtype: int64"
      ]
     },
     "execution_count": 97,
     "metadata": {},
     "output_type": "execute_result"
    }
   ],
   "source": [
    "dfall.isna().sum()"
   ]
  },
  {
   "cell_type": "code",
   "execution_count": 98,
   "metadata": {},
   "outputs": [
    {
     "data": {
      "text/html": [
       "<div>\n",
       "<style scoped>\n",
       "    .dataframe tbody tr th:only-of-type {\n",
       "        vertical-align: middle;\n",
       "    }\n",
       "\n",
       "    .dataframe tbody tr th {\n",
       "        vertical-align: top;\n",
       "    }\n",
       "\n",
       "    .dataframe thead th {\n",
       "        text-align: right;\n",
       "    }\n",
       "</style>\n",
       "<table border=\"1\" class=\"dataframe\">\n",
       "  <thead>\n",
       "    <tr style=\"text-align: right;\">\n",
       "      <th></th>\n",
       "      <th>address</th>\n",
       "      <th>company</th>\n",
       "      <th>date</th>\n",
       "      <th>description</th>\n",
       "      <th>funding</th>\n",
       "      <th>i_name</th>\n",
       "      <th>job_type</th>\n",
       "      <th>jobs</th>\n",
       "      <th>loc_employ</th>\n",
       "      <th>tot_employ</th>\n",
       "    </tr>\n",
       "  </thead>\n",
       "  <tbody>\n",
       "    <tr>\n",
       "      <td>321</td>\n",
       "      <td>New York, NY</td>\n",
       "      <td>NYC Mesh</td>\n",
       "      <td>NaN</td>\n",
       "      <td>NYC Mesh is a volunteer-based organization tha...</td>\n",
       "      <td>NaN</td>\n",
       "      <td>NYC Mesh</td>\n",
       "      <td>Other</td>\n",
       "      <td>NaN</td>\n",
       "      <td>NaN</td>\n",
       "      <td>NaN</td>\n",
       "    </tr>\n",
       "    <tr>\n",
       "      <td>587</td>\n",
       "      <td>2 Hudson Place, Hoboken, NJ 07030</td>\n",
       "      <td>Flow Commerce</td>\n",
       "      <td>2015.0</td>\n",
       "      <td>Flow is an API driven SaaS platform that helps...</td>\n",
       "      <td>NaN</td>\n",
       "      <td>Flow Commerce</td>\n",
       "      <td>eCommerce + Software</td>\n",
       "      <td>NaN</td>\n",
       "      <td>35</td>\n",
       "      <td>40</td>\n",
       "    </tr>\n",
       "    <tr>\n",
       "      <td>445</td>\n",
       "      <td>3545 28th St, Astoria, NY 11106</td>\n",
       "      <td>Enable My Child</td>\n",
       "      <td>NaN</td>\n",
       "      <td>Enable My Child is a teletherapy company speci...</td>\n",
       "      <td>NaN</td>\n",
       "      <td>Enable My Child</td>\n",
       "      <td>Healthtech</td>\n",
       "      <td>NaN</td>\n",
       "      <td>NaN</td>\n",
       "      <td>NaN</td>\n",
       "    </tr>\n",
       "    <tr>\n",
       "      <td>112</td>\n",
       "      <td>335 Madison Ave., New York, NY 10017</td>\n",
       "      <td>Union Crate</td>\n",
       "      <td>2016.0</td>\n",
       "      <td>Union Crate is a supply chain platform that si...</td>\n",
       "      <td>NaN</td>\n",
       "      <td>Union Crate</td>\n",
       "      <td>Artificial Intelligence + Information Technology</td>\n",
       "      <td>NaN</td>\n",
       "      <td>9</td>\n",
       "      <td>23</td>\n",
       "    </tr>\n",
       "    <tr>\n",
       "      <td>131</td>\n",
       "      <td>304 Shivam Complex, Dr. Yagnik, Road, New York...</td>\n",
       "      <td>Alphanso Tech</td>\n",
       "      <td>2009.0</td>\n",
       "      <td>NaN</td>\n",
       "      <td>NaN</td>\n",
       "      <td>Alphanso Tech</td>\n",
       "      <td>eCommerce + Software</td>\n",
       "      <td>NaN</td>\n",
       "      <td>20</td>\n",
       "      <td>20</td>\n",
       "    </tr>\n",
       "    <tr>\n",
       "      <td>160</td>\n",
       "      <td>205 East 42nd Street, New York, NY 10017</td>\n",
       "      <td>Monaeo</td>\n",
       "      <td>NaN</td>\n",
       "      <td>Monaeo empowers individuals and enterprises wi...</td>\n",
       "      <td>NaN</td>\n",
       "      <td>Monaeo</td>\n",
       "      <td>Information Technology</td>\n",
       "      <td>NaN</td>\n",
       "      <td>NaN</td>\n",
       "      <td>NaN</td>\n",
       "    </tr>\n",
       "    <tr>\n",
       "      <td>1159</td>\n",
       "      <td>New York, NY</td>\n",
       "      <td>Chartbeat</td>\n",
       "      <td>2009.0</td>\n",
       "      <td>Chartbeat gives you real-time information abou...</td>\n",
       "      <td>NaN</td>\n",
       "      <td>Chartbeat</td>\n",
       "      <td>Big Data</td>\n",
       "      <td>NaN</td>\n",
       "      <td>NaN</td>\n",
       "      <td>NaN</td>\n",
       "    </tr>\n",
       "    <tr>\n",
       "      <td>413</td>\n",
       "      <td>401 Park Avenue, New York, NY 10016</td>\n",
       "      <td>Vitech Systems Group</td>\n",
       "      <td>NaN</td>\n",
       "      <td>Vitech Systems Group is one of the leading pro...</td>\n",
       "      <td>NaN</td>\n",
       "      <td>Vitech Systems Group</td>\n",
       "      <td>Software</td>\n",
       "      <td>NaN</td>\n",
       "      <td>NaN</td>\n",
       "      <td>NaN</td>\n",
       "    </tr>\n",
       "    <tr>\n",
       "      <td>4</td>\n",
       "      <td>NaN</td>\n",
       "      <td>Sayge</td>\n",
       "      <td>NaN</td>\n",
       "      <td>NaN</td>\n",
       "      <td>NaN</td>\n",
       "      <td>Sayge</td>\n",
       "      <td>HR Tech</td>\n",
       "      <td>NaN</td>\n",
       "      <td>NaN</td>\n",
       "      <td>NaN</td>\n",
       "    </tr>\n",
       "    <tr>\n",
       "      <td>98</td>\n",
       "      <td>111 River Street, Hoboken, NJ 07030</td>\n",
       "      <td>Wiley</td>\n",
       "      <td>NaN</td>\n",
       "      <td>For over 200 years we have been helping people...</td>\n",
       "      <td>NaN</td>\n",
       "      <td>Wiley</td>\n",
       "      <td>Other</td>\n",
       "      <td>NaN</td>\n",
       "      <td>NaN</td>\n",
       "      <td>NaN</td>\n",
       "    </tr>\n",
       "  </tbody>\n",
       "</table>\n",
       "</div>"
      ],
      "text/plain": [
       "                                                address               company  \\\n",
       "321                                        New York, NY              NYC Mesh   \n",
       "587                   2 Hudson Place, Hoboken, NJ 07030         Flow Commerce   \n",
       "445                     3545 28th St, Astoria, NY 11106       Enable My Child   \n",
       "112                335 Madison Ave., New York, NY 10017           Union Crate   \n",
       "131   304 Shivam Complex, Dr. Yagnik, Road, New York...         Alphanso Tech   \n",
       "160            205 East 42nd Street, New York, NY 10017                Monaeo   \n",
       "1159                                       New York, NY             Chartbeat   \n",
       "413                 401 Park Avenue, New York, NY 10016  Vitech Systems Group   \n",
       "4                                                   NaN                 Sayge   \n",
       "98                  111 River Street, Hoboken, NJ 07030                 Wiley   \n",
       "\n",
       "        date                                        description funding  \\\n",
       "321      NaN  NYC Mesh is a volunteer-based organization tha...     NaN   \n",
       "587   2015.0  Flow is an API driven SaaS platform that helps...     NaN   \n",
       "445      NaN  Enable My Child is a teletherapy company speci...     NaN   \n",
       "112   2016.0  Union Crate is a supply chain platform that si...     NaN   \n",
       "131   2009.0                                                NaN     NaN   \n",
       "160      NaN  Monaeo empowers individuals and enterprises wi...     NaN   \n",
       "1159  2009.0  Chartbeat gives you real-time information abou...     NaN   \n",
       "413      NaN  Vitech Systems Group is one of the leading pro...     NaN   \n",
       "4        NaN                                                NaN     NaN   \n",
       "98       NaN  For over 200 years we have been helping people...     NaN   \n",
       "\n",
       "                    i_name                                          job_type  \\\n",
       "321               NYC Mesh                                             Other   \n",
       "587          Flow Commerce                              eCommerce + Software   \n",
       "445        Enable My Child                                        Healthtech   \n",
       "112            Union Crate  Artificial Intelligence + Information Technology   \n",
       "131          Alphanso Tech                              eCommerce + Software   \n",
       "160                 Monaeo                            Information Technology   \n",
       "1159             Chartbeat                                          Big Data   \n",
       "413   Vitech Systems Group                                          Software   \n",
       "4                    Sayge                                           HR Tech   \n",
       "98                   Wiley                                             Other   \n",
       "\n",
       "     jobs loc_employ tot_employ  \n",
       "321   NaN        NaN        NaN  \n",
       "587   NaN         35         40  \n",
       "445   NaN        NaN        NaN  \n",
       "112   NaN          9         23  \n",
       "131   NaN         20         20  \n",
       "160   NaN        NaN        NaN  \n",
       "1159  NaN        NaN        NaN  \n",
       "413   NaN        NaN        NaN  \n",
       "4     NaN        NaN        NaN  \n",
       "98    NaN        NaN        NaN  "
      ]
     },
     "execution_count": 98,
     "metadata": {},
     "output_type": "execute_result"
    }
   ],
   "source": [
    "dfall.sample(10)"
   ]
  },
  {
   "cell_type": "code",
   "execution_count": 156,
   "metadata": {},
   "outputs": [
    {
     "data": {
      "text/html": [
       "<div>\n",
       "<style scoped>\n",
       "    .dataframe tbody tr th:only-of-type {\n",
       "        vertical-align: middle;\n",
       "    }\n",
       "\n",
       "    .dataframe tbody tr th {\n",
       "        vertical-align: top;\n",
       "    }\n",
       "\n",
       "    .dataframe thead th {\n",
       "        text-align: right;\n",
       "    }\n",
       "</style>\n",
       "<table border=\"1\" class=\"dataframe\">\n",
       "  <thead>\n",
       "    <tr style=\"text-align: right;\">\n",
       "      <th></th>\n",
       "      <th>Unnamed: 0</th>\n",
       "      <th>date</th>\n",
       "      <th>jobs</th>\n",
       "      <th>loc_employ</th>\n",
       "      <th>tot_employ</th>\n",
       "    </tr>\n",
       "  </thead>\n",
       "  <tbody>\n",
       "    <tr>\n",
       "      <td>count</td>\n",
       "      <td>4991.000000</td>\n",
       "      <td>3083.000000</td>\n",
       "      <td>239.000000</td>\n",
       "      <td>1551.000000</td>\n",
       "      <td>1697.000000</td>\n",
       "    </tr>\n",
       "    <tr>\n",
       "      <td>mean</td>\n",
       "      <td>325.443398</td>\n",
       "      <td>2011.235809</td>\n",
       "      <td>8.531381</td>\n",
       "      <td>96.114765</td>\n",
       "      <td>316.595757</td>\n",
       "    </tr>\n",
       "    <tr>\n",
       "      <td>std</td>\n",
       "      <td>341.856816</td>\n",
       "      <td>10.433460</td>\n",
       "      <td>10.894744</td>\n",
       "      <td>566.226261</td>\n",
       "      <td>1673.753586</td>\n",
       "    </tr>\n",
       "    <tr>\n",
       "      <td>min</td>\n",
       "      <td>0.000000</td>\n",
       "      <td>1887.000000</td>\n",
       "      <td>1.000000</td>\n",
       "      <td>-5.000000</td>\n",
       "      <td>1.000000</td>\n",
       "    </tr>\n",
       "    <tr>\n",
       "      <td>25%</td>\n",
       "      <td>77.500000</td>\n",
       "      <td>2010.000000</td>\n",
       "      <td>1.000000</td>\n",
       "      <td>5.000000</td>\n",
       "      <td>10.000000</td>\n",
       "    </tr>\n",
       "    <tr>\n",
       "      <td>50%</td>\n",
       "      <td>157.000000</td>\n",
       "      <td>2013.000000</td>\n",
       "      <td>4.000000</td>\n",
       "      <td>15.000000</td>\n",
       "      <td>35.000000</td>\n",
       "    </tr>\n",
       "    <tr>\n",
       "      <td>75%</td>\n",
       "      <td>544.000000</td>\n",
       "      <td>2016.000000</td>\n",
       "      <td>12.000000</td>\n",
       "      <td>50.000000</td>\n",
       "      <td>105.000000</td>\n",
       "    </tr>\n",
       "    <tr>\n",
       "      <td>max</td>\n",
       "      <td>1253.000000</td>\n",
       "      <td>2020.000000</td>\n",
       "      <td>73.000000</td>\n",
       "      <td>11000.000000</td>\n",
       "      <td>25304.000000</td>\n",
       "    </tr>\n",
       "  </tbody>\n",
       "</table>\n",
       "</div>"
      ],
      "text/plain": [
       "        Unnamed: 0         date        jobs    loc_employ    tot_employ\n",
       "count  4991.000000  3083.000000  239.000000   1551.000000   1697.000000\n",
       "mean    325.443398  2011.235809    8.531381     96.114765    316.595757\n",
       "std     341.856816    10.433460   10.894744    566.226261   1673.753586\n",
       "min       0.000000  1887.000000    1.000000     -5.000000      1.000000\n",
       "25%      77.500000  2010.000000    1.000000      5.000000     10.000000\n",
       "50%     157.000000  2013.000000    4.000000     15.000000     35.000000\n",
       "75%     544.000000  2016.000000   12.000000     50.000000    105.000000\n",
       "max    1253.000000  2020.000000   73.000000  11000.000000  25304.000000"
      ]
     },
     "execution_count": 156,
     "metadata": {},
     "output_type": "execute_result"
    }
   ],
   "source": [
    "dfall.describe()"
   ]
  },
  {
   "cell_type": "code",
   "execution_count": 155,
   "metadata": {},
   "outputs": [
    {
     "data": {
      "text/plain": [
       "Unnamed: 0       int64\n",
       "address         object\n",
       "company         object\n",
       "date           float64\n",
       "description     object\n",
       "funding         object\n",
       "i_name          object\n",
       "job_type        object\n",
       "jobs           float64\n",
       "loc_employ     float64\n",
       "tot_employ     float64\n",
       "dtype: object"
      ]
     },
     "execution_count": 155,
     "metadata": {},
     "output_type": "execute_result"
    }
   ],
   "source": [
    "dfall.dtypes"
   ]
  },
  {
   "cell_type": "code",
   "execution_count": 5,
   "metadata": {},
   "outputs": [],
   "source": [
    "dfall['jobs'] = dfall['jobs'].apply(lambda x: x.split(' ')[1] if x==x else x)"
   ]
  },
  {
   "cell_type": "code",
   "execution_count": 6,
   "metadata": {},
   "outputs": [],
   "source": [
    "dfall['jobs'] = dfall['jobs'].apply(lambda x: float(x) if x==x else x)"
   ]
  },
  {
   "cell_type": "code",
   "execution_count": 157,
   "metadata": {},
   "outputs": [
    {
     "data": {
      "text/html": [
       "<div>\n",
       "<style scoped>\n",
       "    .dataframe tbody tr th:only-of-type {\n",
       "        vertical-align: middle;\n",
       "    }\n",
       "\n",
       "    .dataframe tbody tr th {\n",
       "        vertical-align: top;\n",
       "    }\n",
       "\n",
       "    .dataframe thead th {\n",
       "        text-align: right;\n",
       "    }\n",
       "</style>\n",
       "<table border=\"1\" class=\"dataframe\">\n",
       "  <thead>\n",
       "    <tr style=\"text-align: right;\">\n",
       "      <th></th>\n",
       "      <th>Unnamed: 0</th>\n",
       "      <th>address</th>\n",
       "      <th>company</th>\n",
       "      <th>date</th>\n",
       "      <th>description</th>\n",
       "      <th>funding</th>\n",
       "      <th>i_name</th>\n",
       "      <th>job_type</th>\n",
       "      <th>jobs</th>\n",
       "      <th>loc_employ</th>\n",
       "      <th>tot_employ</th>\n",
       "    </tr>\n",
       "  </thead>\n",
       "  <tbody>\n",
       "    <tr>\n",
       "      <td>0</td>\n",
       "      <td>0</td>\n",
       "      <td>Our office is located steps from Madison Squar...</td>\n",
       "      <td>Brigit</td>\n",
       "      <td>2017.0</td>\n",
       "      <td>Brigit is a mission-driven start-up that is di...</td>\n",
       "      <td>NaN</td>\n",
       "      <td>Brigit</td>\n",
       "      <td>Fintech</td>\n",
       "      <td>9.0</td>\n",
       "      <td>37.0</td>\n",
       "      <td>37.0</td>\n",
       "    </tr>\n",
       "    <tr>\n",
       "      <td>1</td>\n",
       "      <td>1</td>\n",
       "      <td>Our office is located in Midtown West - which ...</td>\n",
       "      <td>Zearn</td>\n",
       "      <td>2012.0</td>\n",
       "      <td>We are a nonprofit curriculum publisher and so...</td>\n",
       "      <td>NaN</td>\n",
       "      <td>Zearn</td>\n",
       "      <td>Edtech</td>\n",
       "      <td>1.0</td>\n",
       "      <td>30.0</td>\n",
       "      <td>60.0</td>\n",
       "    </tr>\n",
       "    <tr>\n",
       "      <td>2</td>\n",
       "      <td>2</td>\n",
       "      <td>We're located right in between Union Square an...</td>\n",
       "      <td>MaestroQA</td>\n",
       "      <td>2013.0</td>\n",
       "      <td>MaestroQA provides omni-channel customer servi...</td>\n",
       "      <td>$6.3M</td>\n",
       "      <td>MaestroQA</td>\n",
       "      <td>Cloud + Enterprise Web</td>\n",
       "      <td>4.0</td>\n",
       "      <td>31.0</td>\n",
       "      <td>32.0</td>\n",
       "    </tr>\n",
       "    <tr>\n",
       "      <td>3</td>\n",
       "      <td>3</td>\n",
       "      <td>Our NYC HQ is in a trendy area with lots of sh...</td>\n",
       "      <td>Gympass</td>\n",
       "      <td>2012.0</td>\n",
       "      <td>We simplify wellness so you can find everythin...</td>\n",
       "      <td>NaN</td>\n",
       "      <td>Gympass</td>\n",
       "      <td>Fitness + Healthtech</td>\n",
       "      <td>8.0</td>\n",
       "      <td>103.0</td>\n",
       "      <td>1126.0</td>\n",
       "    </tr>\n",
       "    <tr>\n",
       "      <td>4</td>\n",
       "      <td>4</td>\n",
       "      <td>3 World Trade Center, New York , NY 10007</td>\n",
       "      <td>IEX</td>\n",
       "      <td>2012.0</td>\n",
       "      <td>IEX develops transparent and trusted technolog...</td>\n",
       "      <td>NaN</td>\n",
       "      <td>IEX</td>\n",
       "      <td>Big Data + Fintech</td>\n",
       "      <td>13.0</td>\n",
       "      <td>110.0</td>\n",
       "      <td>125.0</td>\n",
       "    </tr>\n",
       "  </tbody>\n",
       "</table>\n",
       "</div>"
      ],
      "text/plain": [
       "   Unnamed: 0                                            address    company  \\\n",
       "0           0  Our office is located steps from Madison Squar...     Brigit   \n",
       "1           1  Our office is located in Midtown West - which ...      Zearn   \n",
       "2           2  We're located right in between Union Square an...  MaestroQA   \n",
       "3           3  Our NYC HQ is in a trendy area with lots of sh...    Gympass   \n",
       "4           4          3 World Trade Center, New York , NY 10007        IEX   \n",
       "\n",
       "     date                                        description funding  \\\n",
       "0  2017.0  Brigit is a mission-driven start-up that is di...     NaN   \n",
       "1  2012.0  We are a nonprofit curriculum publisher and so...     NaN   \n",
       "2  2013.0  MaestroQA provides omni-channel customer servi...   $6.3M   \n",
       "3  2012.0  We simplify wellness so you can find everythin...     NaN   \n",
       "4  2012.0  IEX develops transparent and trusted technolog...     NaN   \n",
       "\n",
       "      i_name                job_type  jobs  loc_employ  tot_employ  \n",
       "0     Brigit                 Fintech   9.0        37.0        37.0  \n",
       "1      Zearn                  Edtech   1.0        30.0        60.0  \n",
       "2  MaestroQA  Cloud + Enterprise Web   4.0        31.0        32.0  \n",
       "3    Gympass    Fitness + Healthtech   8.0       103.0      1126.0  \n",
       "4        IEX      Big Data + Fintech  13.0       110.0       125.0  "
      ]
     },
     "execution_count": 157,
     "metadata": {},
     "output_type": "execute_result"
    }
   ],
   "source": [
    "dfall.head()"
   ]
  },
  {
   "cell_type": "code",
   "execution_count": 158,
   "metadata": {},
   "outputs": [],
   "source": [
    "j_str = dfall['funding'][2]"
   ]
  },
  {
   "cell_type": "code",
   "execution_count": 159,
   "metadata": {},
   "outputs": [
    {
     "data": {
      "text/plain": [
       "'$6.3M'"
      ]
     },
     "execution_count": 159,
     "metadata": {},
     "output_type": "execute_result"
    }
   ],
   "source": [
    "j_str"
   ]
  },
  {
   "cell_type": "code",
   "execution_count": 160,
   "metadata": {},
   "outputs": [
    {
     "data": {
      "text/plain": [
       "'6.3'"
      ]
     },
     "execution_count": 160,
     "metadata": {},
     "output_type": "execute_result"
    }
   ],
   "source": [
    "j_str[1:-1]"
   ]
  },
  {
   "cell_type": "code",
   "execution_count": 7,
   "metadata": {},
   "outputs": [],
   "source": [
    "dfall['funding'] = dfall['funding'].apply(lambda x: x[1:-1] if x==x else x)"
   ]
  },
  {
   "cell_type": "code",
   "execution_count": 8,
   "metadata": {},
   "outputs": [],
   "source": [
    "dfall['funding'] = dfall['funding'].apply(lambda x: float(x) if x==x else x)"
   ]
  },
  {
   "cell_type": "code",
   "execution_count": 164,
   "metadata": {},
   "outputs": [
    {
     "data": {
      "text/html": [
       "<div>\n",
       "<style scoped>\n",
       "    .dataframe tbody tr th:only-of-type {\n",
       "        vertical-align: middle;\n",
       "    }\n",
       "\n",
       "    .dataframe tbody tr th {\n",
       "        vertical-align: top;\n",
       "    }\n",
       "\n",
       "    .dataframe thead th {\n",
       "        text-align: right;\n",
       "    }\n",
       "</style>\n",
       "<table border=\"1\" class=\"dataframe\">\n",
       "  <thead>\n",
       "    <tr style=\"text-align: right;\">\n",
       "      <th></th>\n",
       "      <th>Unnamed: 0</th>\n",
       "      <th>address</th>\n",
       "      <th>company</th>\n",
       "      <th>date</th>\n",
       "      <th>description</th>\n",
       "      <th>funding</th>\n",
       "      <th>i_name</th>\n",
       "      <th>job_type</th>\n",
       "      <th>jobs</th>\n",
       "      <th>loc_employ</th>\n",
       "      <th>tot_employ</th>\n",
       "    </tr>\n",
       "  </thead>\n",
       "  <tbody>\n",
       "    <tr>\n",
       "      <td>0</td>\n",
       "      <td>0</td>\n",
       "      <td>Our office is located steps from Madison Squar...</td>\n",
       "      <td>Brigit</td>\n",
       "      <td>2017.0</td>\n",
       "      <td>Brigit is a mission-driven start-up that is di...</td>\n",
       "      <td>NaN</td>\n",
       "      <td>Brigit</td>\n",
       "      <td>Fintech</td>\n",
       "      <td>9.0</td>\n",
       "      <td>37.0</td>\n",
       "      <td>37.0</td>\n",
       "    </tr>\n",
       "    <tr>\n",
       "      <td>1</td>\n",
       "      <td>1</td>\n",
       "      <td>Our office is located in Midtown West - which ...</td>\n",
       "      <td>Zearn</td>\n",
       "      <td>2012.0</td>\n",
       "      <td>We are a nonprofit curriculum publisher and so...</td>\n",
       "      <td>NaN</td>\n",
       "      <td>Zearn</td>\n",
       "      <td>Edtech</td>\n",
       "      <td>1.0</td>\n",
       "      <td>30.0</td>\n",
       "      <td>60.0</td>\n",
       "    </tr>\n",
       "    <tr>\n",
       "      <td>2</td>\n",
       "      <td>2</td>\n",
       "      <td>We're located right in between Union Square an...</td>\n",
       "      <td>MaestroQA</td>\n",
       "      <td>2013.0</td>\n",
       "      <td>MaestroQA provides omni-channel customer servi...</td>\n",
       "      <td>6.3</td>\n",
       "      <td>MaestroQA</td>\n",
       "      <td>Cloud + Enterprise Web</td>\n",
       "      <td>4.0</td>\n",
       "      <td>31.0</td>\n",
       "      <td>32.0</td>\n",
       "    </tr>\n",
       "    <tr>\n",
       "      <td>3</td>\n",
       "      <td>3</td>\n",
       "      <td>Our NYC HQ is in a trendy area with lots of sh...</td>\n",
       "      <td>Gympass</td>\n",
       "      <td>2012.0</td>\n",
       "      <td>We simplify wellness so you can find everythin...</td>\n",
       "      <td>NaN</td>\n",
       "      <td>Gympass</td>\n",
       "      <td>Fitness + Healthtech</td>\n",
       "      <td>8.0</td>\n",
       "      <td>103.0</td>\n",
       "      <td>1126.0</td>\n",
       "    </tr>\n",
       "    <tr>\n",
       "      <td>4</td>\n",
       "      <td>4</td>\n",
       "      <td>3 World Trade Center, New York , NY 10007</td>\n",
       "      <td>IEX</td>\n",
       "      <td>2012.0</td>\n",
       "      <td>IEX develops transparent and trusted technolog...</td>\n",
       "      <td>NaN</td>\n",
       "      <td>IEX</td>\n",
       "      <td>Big Data + Fintech</td>\n",
       "      <td>13.0</td>\n",
       "      <td>110.0</td>\n",
       "      <td>125.0</td>\n",
       "    </tr>\n",
       "  </tbody>\n",
       "</table>\n",
       "</div>"
      ],
      "text/plain": [
       "   Unnamed: 0                                            address    company  \\\n",
       "0           0  Our office is located steps from Madison Squar...     Brigit   \n",
       "1           1  Our office is located in Midtown West - which ...      Zearn   \n",
       "2           2  We're located right in between Union Square an...  MaestroQA   \n",
       "3           3  Our NYC HQ is in a trendy area with lots of sh...    Gympass   \n",
       "4           4          3 World Trade Center, New York , NY 10007        IEX   \n",
       "\n",
       "     date                                        description  funding  \\\n",
       "0  2017.0  Brigit is a mission-driven start-up that is di...      NaN   \n",
       "1  2012.0  We are a nonprofit curriculum publisher and so...      NaN   \n",
       "2  2013.0  MaestroQA provides omni-channel customer servi...      6.3   \n",
       "3  2012.0  We simplify wellness so you can find everythin...      NaN   \n",
       "4  2012.0  IEX develops transparent and trusted technolog...      NaN   \n",
       "\n",
       "      i_name                job_type  jobs  loc_employ  tot_employ  \n",
       "0     Brigit                 Fintech   9.0        37.0        37.0  \n",
       "1      Zearn                  Edtech   1.0        30.0        60.0  \n",
       "2  MaestroQA  Cloud + Enterprise Web   4.0        31.0        32.0  \n",
       "3    Gympass    Fitness + Healthtech   8.0       103.0      1126.0  \n",
       "4        IEX      Big Data + Fintech  13.0       110.0       125.0  "
      ]
     },
     "execution_count": 164,
     "metadata": {},
     "output_type": "execute_result"
    }
   ],
   "source": [
    "dfall.head()"
   ]
  },
  {
   "cell_type": "code",
   "execution_count": 165,
   "metadata": {},
   "outputs": [
    {
     "data": {
      "text/html": [
       "<div>\n",
       "<style scoped>\n",
       "    .dataframe tbody tr th:only-of-type {\n",
       "        vertical-align: middle;\n",
       "    }\n",
       "\n",
       "    .dataframe tbody tr th {\n",
       "        vertical-align: top;\n",
       "    }\n",
       "\n",
       "    .dataframe thead th {\n",
       "        text-align: right;\n",
       "    }\n",
       "</style>\n",
       "<table border=\"1\" class=\"dataframe\">\n",
       "  <thead>\n",
       "    <tr style=\"text-align: right;\">\n",
       "      <th></th>\n",
       "      <th>Unnamed: 0</th>\n",
       "      <th>date</th>\n",
       "      <th>funding</th>\n",
       "      <th>jobs</th>\n",
       "      <th>loc_employ</th>\n",
       "      <th>tot_employ</th>\n",
       "    </tr>\n",
       "  </thead>\n",
       "  <tbody>\n",
       "    <tr>\n",
       "      <td>count</td>\n",
       "      <td>4991.000000</td>\n",
       "      <td>3083.000000</td>\n",
       "      <td>446.000000</td>\n",
       "      <td>239.000000</td>\n",
       "      <td>1551.000000</td>\n",
       "      <td>1697.000000</td>\n",
       "    </tr>\n",
       "    <tr>\n",
       "      <td>mean</td>\n",
       "      <td>325.443398</td>\n",
       "      <td>2011.235809</td>\n",
       "      <td>71.268161</td>\n",
       "      <td>8.531381</td>\n",
       "      <td>96.114765</td>\n",
       "      <td>316.595757</td>\n",
       "    </tr>\n",
       "    <tr>\n",
       "      <td>std</td>\n",
       "      <td>341.856816</td>\n",
       "      <td>10.433460</td>\n",
       "      <td>154.405517</td>\n",
       "      <td>10.894744</td>\n",
       "      <td>566.226261</td>\n",
       "      <td>1673.753586</td>\n",
       "    </tr>\n",
       "    <tr>\n",
       "      <td>min</td>\n",
       "      <td>0.000000</td>\n",
       "      <td>1887.000000</td>\n",
       "      <td>0.100000</td>\n",
       "      <td>1.000000</td>\n",
       "      <td>-5.000000</td>\n",
       "      <td>1.000000</td>\n",
       "    </tr>\n",
       "    <tr>\n",
       "      <td>25%</td>\n",
       "      <td>77.500000</td>\n",
       "      <td>2010.000000</td>\n",
       "      <td>6.825000</td>\n",
       "      <td>1.000000</td>\n",
       "      <td>5.000000</td>\n",
       "      <td>10.000000</td>\n",
       "    </tr>\n",
       "    <tr>\n",
       "      <td>50%</td>\n",
       "      <td>157.000000</td>\n",
       "      <td>2013.000000</td>\n",
       "      <td>19.500000</td>\n",
       "      <td>4.000000</td>\n",
       "      <td>15.000000</td>\n",
       "      <td>35.000000</td>\n",
       "    </tr>\n",
       "    <tr>\n",
       "      <td>75%</td>\n",
       "      <td>544.000000</td>\n",
       "      <td>2016.000000</td>\n",
       "      <td>59.750000</td>\n",
       "      <td>12.000000</td>\n",
       "      <td>50.000000</td>\n",
       "      <td>105.000000</td>\n",
       "    </tr>\n",
       "    <tr>\n",
       "      <td>max</td>\n",
       "      <td>1253.000000</td>\n",
       "      <td>2020.000000</td>\n",
       "      <td>1421.000000</td>\n",
       "      <td>73.000000</td>\n",
       "      <td>11000.000000</td>\n",
       "      <td>25304.000000</td>\n",
       "    </tr>\n",
       "  </tbody>\n",
       "</table>\n",
       "</div>"
      ],
      "text/plain": [
       "        Unnamed: 0         date      funding        jobs    loc_employ  \\\n",
       "count  4991.000000  3083.000000   446.000000  239.000000   1551.000000   \n",
       "mean    325.443398  2011.235809    71.268161    8.531381     96.114765   \n",
       "std     341.856816    10.433460   154.405517   10.894744    566.226261   \n",
       "min       0.000000  1887.000000     0.100000    1.000000     -5.000000   \n",
       "25%      77.500000  2010.000000     6.825000    1.000000      5.000000   \n",
       "50%     157.000000  2013.000000    19.500000    4.000000     15.000000   \n",
       "75%     544.000000  2016.000000    59.750000   12.000000     50.000000   \n",
       "max    1253.000000  2020.000000  1421.000000   73.000000  11000.000000   \n",
       "\n",
       "         tot_employ  \n",
       "count   1697.000000  \n",
       "mean     316.595757  \n",
       "std     1673.753586  \n",
       "min        1.000000  \n",
       "25%       10.000000  \n",
       "50%       35.000000  \n",
       "75%      105.000000  \n",
       "max    25304.000000  "
      ]
     },
     "execution_count": 165,
     "metadata": {},
     "output_type": "execute_result"
    }
   ],
   "source": [
    "dfall.describe()"
   ]
  },
  {
   "cell_type": "code",
   "execution_count": 171,
   "metadata": {},
   "outputs": [],
   "source": [
    "j_str = dfall['job_type'][1]"
   ]
  },
  {
   "cell_type": "code",
   "execution_count": 172,
   "metadata": {},
   "outputs": [
    {
     "data": {
      "text/plain": [
       "'Edtech'"
      ]
     },
     "execution_count": 172,
     "metadata": {},
     "output_type": "execute_result"
    }
   ],
   "source": [
    "j_str"
   ]
  },
  {
   "cell_type": "code",
   "execution_count": 173,
   "metadata": {},
   "outputs": [
    {
     "data": {
      "text/plain": [
       "['Edtech']"
      ]
     },
     "execution_count": 173,
     "metadata": {},
     "output_type": "execute_result"
    }
   ],
   "source": [
    "j_str.split(' + ')"
   ]
  },
  {
   "cell_type": "code",
   "execution_count": 169,
   "metadata": {},
   "outputs": [
    {
     "data": {
      "text/plain": [
       "'Enterprise Web'"
      ]
     },
     "execution_count": 169,
     "metadata": {},
     "output_type": "execute_result"
    }
   ],
   "source": [
    "j_str.split(' + ')[1]"
   ]
  },
  {
   "cell_type": "code",
   "execution_count": 170,
   "metadata": {},
   "outputs": [
    {
     "ename": "IndexError",
     "evalue": "list index out of range",
     "output_type": "error",
     "traceback": [
      "\u001b[0;31m---------------------------------------------------------------------------\u001b[0m",
      "\u001b[0;31mIndexError\u001b[0m                                Traceback (most recent call last)",
      "\u001b[0;32m<ipython-input-170-83b58d4ebda8>\u001b[0m in \u001b[0;36m<module>\u001b[0;34m\u001b[0m\n\u001b[0;32m----> 1\u001b[0;31m \u001b[0mj_str\u001b[0m\u001b[0;34m.\u001b[0m\u001b[0msplit\u001b[0m\u001b[0;34m(\u001b[0m\u001b[0;34m' + '\u001b[0m\u001b[0;34m)\u001b[0m\u001b[0;34m[\u001b[0m\u001b[0;36m2\u001b[0m\u001b[0;34m]\u001b[0m\u001b[0;34m\u001b[0m\u001b[0;34m\u001b[0m\u001b[0m\n\u001b[0m",
      "\u001b[0;31mIndexError\u001b[0m: list index out of range"
     ]
    }
   ],
   "source": [
    "j_str.split(' + ')[2]"
   ]
  },
  {
   "cell_type": "code",
   "execution_count": 9,
   "metadata": {},
   "outputs": [],
   "source": [
    "def job_split(jobs, index):\n",
    "    jobs = jobs.split(' + ')\n",
    "    try:\n",
    "        jobs[index]\n",
    "    except: \n",
    "        return None\n",
    "    return jobs[index]\n",
    "        "
   ]
  },
  {
   "cell_type": "code",
   "execution_count": 176,
   "metadata": {},
   "outputs": [
    {
     "data": {
      "text/plain": [
       "'Edtech'"
      ]
     },
     "execution_count": 176,
     "metadata": {},
     "output_type": "execute_result"
    }
   ],
   "source": [
    "job_split(j_str, 0)"
   ]
  },
  {
   "cell_type": "code",
   "execution_count": 177,
   "metadata": {},
   "outputs": [],
   "source": [
    "job_split(j_str, 1)"
   ]
  },
  {
   "cell_type": "code",
   "execution_count": 10,
   "metadata": {},
   "outputs": [],
   "source": [
    "dfall['job_t0'] = dfall['job_type'].apply(lambda x: job_split(x,0) if x==x else x)"
   ]
  },
  {
   "cell_type": "code",
   "execution_count": 180,
   "metadata": {},
   "outputs": [
    {
     "data": {
      "text/html": [
       "<div>\n",
       "<style scoped>\n",
       "    .dataframe tbody tr th:only-of-type {\n",
       "        vertical-align: middle;\n",
       "    }\n",
       "\n",
       "    .dataframe tbody tr th {\n",
       "        vertical-align: top;\n",
       "    }\n",
       "\n",
       "    .dataframe thead th {\n",
       "        text-align: right;\n",
       "    }\n",
       "</style>\n",
       "<table border=\"1\" class=\"dataframe\">\n",
       "  <thead>\n",
       "    <tr style=\"text-align: right;\">\n",
       "      <th></th>\n",
       "      <th>Unnamed: 0</th>\n",
       "      <th>address</th>\n",
       "      <th>company</th>\n",
       "      <th>date</th>\n",
       "      <th>description</th>\n",
       "      <th>funding</th>\n",
       "      <th>i_name</th>\n",
       "      <th>job_type</th>\n",
       "      <th>jobs</th>\n",
       "      <th>loc_employ</th>\n",
       "      <th>tot_employ</th>\n",
       "      <th>job_t0</th>\n",
       "    </tr>\n",
       "  </thead>\n",
       "  <tbody>\n",
       "    <tr>\n",
       "      <td>0</td>\n",
       "      <td>0</td>\n",
       "      <td>Our office is located steps from Madison Squar...</td>\n",
       "      <td>Brigit</td>\n",
       "      <td>2017.0</td>\n",
       "      <td>Brigit is a mission-driven start-up that is di...</td>\n",
       "      <td>NaN</td>\n",
       "      <td>Brigit</td>\n",
       "      <td>Fintech</td>\n",
       "      <td>9.0</td>\n",
       "      <td>37.0</td>\n",
       "      <td>37.0</td>\n",
       "      <td>Fintech</td>\n",
       "    </tr>\n",
       "    <tr>\n",
       "      <td>1</td>\n",
       "      <td>1</td>\n",
       "      <td>Our office is located in Midtown West - which ...</td>\n",
       "      <td>Zearn</td>\n",
       "      <td>2012.0</td>\n",
       "      <td>We are a nonprofit curriculum publisher and so...</td>\n",
       "      <td>NaN</td>\n",
       "      <td>Zearn</td>\n",
       "      <td>Edtech</td>\n",
       "      <td>1.0</td>\n",
       "      <td>30.0</td>\n",
       "      <td>60.0</td>\n",
       "      <td>Edtech</td>\n",
       "    </tr>\n",
       "    <tr>\n",
       "      <td>2</td>\n",
       "      <td>2</td>\n",
       "      <td>We're located right in between Union Square an...</td>\n",
       "      <td>MaestroQA</td>\n",
       "      <td>2013.0</td>\n",
       "      <td>MaestroQA provides omni-channel customer servi...</td>\n",
       "      <td>6.3</td>\n",
       "      <td>MaestroQA</td>\n",
       "      <td>Cloud + Enterprise Web</td>\n",
       "      <td>4.0</td>\n",
       "      <td>31.0</td>\n",
       "      <td>32.0</td>\n",
       "      <td>Cloud</td>\n",
       "    </tr>\n",
       "    <tr>\n",
       "      <td>3</td>\n",
       "      <td>3</td>\n",
       "      <td>Our NYC HQ is in a trendy area with lots of sh...</td>\n",
       "      <td>Gympass</td>\n",
       "      <td>2012.0</td>\n",
       "      <td>We simplify wellness so you can find everythin...</td>\n",
       "      <td>NaN</td>\n",
       "      <td>Gympass</td>\n",
       "      <td>Fitness + Healthtech</td>\n",
       "      <td>8.0</td>\n",
       "      <td>103.0</td>\n",
       "      <td>1126.0</td>\n",
       "      <td>Fitness</td>\n",
       "    </tr>\n",
       "    <tr>\n",
       "      <td>4</td>\n",
       "      <td>4</td>\n",
       "      <td>3 World Trade Center, New York , NY 10007</td>\n",
       "      <td>IEX</td>\n",
       "      <td>2012.0</td>\n",
       "      <td>IEX develops transparent and trusted technolog...</td>\n",
       "      <td>NaN</td>\n",
       "      <td>IEX</td>\n",
       "      <td>Big Data + Fintech</td>\n",
       "      <td>13.0</td>\n",
       "      <td>110.0</td>\n",
       "      <td>125.0</td>\n",
       "      <td>Big Data</td>\n",
       "    </tr>\n",
       "  </tbody>\n",
       "</table>\n",
       "</div>"
      ],
      "text/plain": [
       "   Unnamed: 0                                            address    company  \\\n",
       "0           0  Our office is located steps from Madison Squar...     Brigit   \n",
       "1           1  Our office is located in Midtown West - which ...      Zearn   \n",
       "2           2  We're located right in between Union Square an...  MaestroQA   \n",
       "3           3  Our NYC HQ is in a trendy area with lots of sh...    Gympass   \n",
       "4           4          3 World Trade Center, New York , NY 10007        IEX   \n",
       "\n",
       "     date                                        description  funding  \\\n",
       "0  2017.0  Brigit is a mission-driven start-up that is di...      NaN   \n",
       "1  2012.0  We are a nonprofit curriculum publisher and so...      NaN   \n",
       "2  2013.0  MaestroQA provides omni-channel customer servi...      6.3   \n",
       "3  2012.0  We simplify wellness so you can find everythin...      NaN   \n",
       "4  2012.0  IEX develops transparent and trusted technolog...      NaN   \n",
       "\n",
       "      i_name                job_type  jobs  loc_employ  tot_employ    job_t0  \n",
       "0     Brigit                 Fintech   9.0        37.0        37.0   Fintech  \n",
       "1      Zearn                  Edtech   1.0        30.0        60.0    Edtech  \n",
       "2  MaestroQA  Cloud + Enterprise Web   4.0        31.0        32.0     Cloud  \n",
       "3    Gympass    Fitness + Healthtech   8.0       103.0      1126.0   Fitness  \n",
       "4        IEX      Big Data + Fintech  13.0       110.0       125.0  Big Data  "
      ]
     },
     "execution_count": 180,
     "metadata": {},
     "output_type": "execute_result"
    }
   ],
   "source": [
    "dfall.head()"
   ]
  },
  {
   "cell_type": "code",
   "execution_count": 11,
   "metadata": {},
   "outputs": [],
   "source": [
    "dfall['job_t1'] = dfall['job_type'].apply(lambda x: job_split(x,1) if x==x else x)"
   ]
  },
  {
   "cell_type": "code",
   "execution_count": 12,
   "metadata": {},
   "outputs": [],
   "source": [
    "dfall['job_t2'] = dfall['job_type'].apply(lambda x: job_split(x,2) if x==x else x)"
   ]
  },
  {
   "cell_type": "code",
   "execution_count": 185,
   "metadata": {},
   "outputs": [
    {
     "data": {
      "text/html": [
       "<div>\n",
       "<style scoped>\n",
       "    .dataframe tbody tr th:only-of-type {\n",
       "        vertical-align: middle;\n",
       "    }\n",
       "\n",
       "    .dataframe tbody tr th {\n",
       "        vertical-align: top;\n",
       "    }\n",
       "\n",
       "    .dataframe thead th {\n",
       "        text-align: right;\n",
       "    }\n",
       "</style>\n",
       "<table border=\"1\" class=\"dataframe\">\n",
       "  <thead>\n",
       "    <tr style=\"text-align: right;\">\n",
       "      <th></th>\n",
       "      <th>Unnamed: 0</th>\n",
       "      <th>address</th>\n",
       "      <th>company</th>\n",
       "      <th>date</th>\n",
       "      <th>description</th>\n",
       "      <th>funding</th>\n",
       "      <th>i_name</th>\n",
       "      <th>job_type</th>\n",
       "      <th>jobs</th>\n",
       "      <th>loc_employ</th>\n",
       "      <th>tot_employ</th>\n",
       "      <th>job_t0</th>\n",
       "      <th>job_t1</th>\n",
       "      <th>job_t2</th>\n",
       "    </tr>\n",
       "  </thead>\n",
       "  <tbody>\n",
       "    <tr>\n",
       "      <td>0</td>\n",
       "      <td>0</td>\n",
       "      <td>Our office is located steps from Madison Squar...</td>\n",
       "      <td>Brigit</td>\n",
       "      <td>2017.0</td>\n",
       "      <td>Brigit is a mission-driven start-up that is di...</td>\n",
       "      <td>NaN</td>\n",
       "      <td>Brigit</td>\n",
       "      <td>Fintech</td>\n",
       "      <td>9.0</td>\n",
       "      <td>37.0</td>\n",
       "      <td>37.0</td>\n",
       "      <td>Fintech</td>\n",
       "      <td>None</td>\n",
       "      <td>None</td>\n",
       "    </tr>\n",
       "    <tr>\n",
       "      <td>1</td>\n",
       "      <td>1</td>\n",
       "      <td>Our office is located in Midtown West - which ...</td>\n",
       "      <td>Zearn</td>\n",
       "      <td>2012.0</td>\n",
       "      <td>We are a nonprofit curriculum publisher and so...</td>\n",
       "      <td>NaN</td>\n",
       "      <td>Zearn</td>\n",
       "      <td>Edtech</td>\n",
       "      <td>1.0</td>\n",
       "      <td>30.0</td>\n",
       "      <td>60.0</td>\n",
       "      <td>Edtech</td>\n",
       "      <td>None</td>\n",
       "      <td>None</td>\n",
       "    </tr>\n",
       "    <tr>\n",
       "      <td>2</td>\n",
       "      <td>2</td>\n",
       "      <td>We're located right in between Union Square an...</td>\n",
       "      <td>MaestroQA</td>\n",
       "      <td>2013.0</td>\n",
       "      <td>MaestroQA provides omni-channel customer servi...</td>\n",
       "      <td>6.3</td>\n",
       "      <td>MaestroQA</td>\n",
       "      <td>Cloud + Enterprise Web</td>\n",
       "      <td>4.0</td>\n",
       "      <td>31.0</td>\n",
       "      <td>32.0</td>\n",
       "      <td>Cloud</td>\n",
       "      <td>Enterprise Web</td>\n",
       "      <td>None</td>\n",
       "    </tr>\n",
       "    <tr>\n",
       "      <td>3</td>\n",
       "      <td>3</td>\n",
       "      <td>Our NYC HQ is in a trendy area with lots of sh...</td>\n",
       "      <td>Gympass</td>\n",
       "      <td>2012.0</td>\n",
       "      <td>We simplify wellness so you can find everythin...</td>\n",
       "      <td>NaN</td>\n",
       "      <td>Gympass</td>\n",
       "      <td>Fitness + Healthtech</td>\n",
       "      <td>8.0</td>\n",
       "      <td>103.0</td>\n",
       "      <td>1126.0</td>\n",
       "      <td>Fitness</td>\n",
       "      <td>Healthtech</td>\n",
       "      <td>None</td>\n",
       "    </tr>\n",
       "    <tr>\n",
       "      <td>4</td>\n",
       "      <td>4</td>\n",
       "      <td>3 World Trade Center, New York , NY 10007</td>\n",
       "      <td>IEX</td>\n",
       "      <td>2012.0</td>\n",
       "      <td>IEX develops transparent and trusted technolog...</td>\n",
       "      <td>NaN</td>\n",
       "      <td>IEX</td>\n",
       "      <td>Big Data + Fintech</td>\n",
       "      <td>13.0</td>\n",
       "      <td>110.0</td>\n",
       "      <td>125.0</td>\n",
       "      <td>Big Data</td>\n",
       "      <td>Fintech</td>\n",
       "      <td>None</td>\n",
       "    </tr>\n",
       "  </tbody>\n",
       "</table>\n",
       "</div>"
      ],
      "text/plain": [
       "   Unnamed: 0                                            address    company  \\\n",
       "0           0  Our office is located steps from Madison Squar...     Brigit   \n",
       "1           1  Our office is located in Midtown West - which ...      Zearn   \n",
       "2           2  We're located right in between Union Square an...  MaestroQA   \n",
       "3           3  Our NYC HQ is in a trendy area with lots of sh...    Gympass   \n",
       "4           4          3 World Trade Center, New York , NY 10007        IEX   \n",
       "\n",
       "     date                                        description  funding  \\\n",
       "0  2017.0  Brigit is a mission-driven start-up that is di...      NaN   \n",
       "1  2012.0  We are a nonprofit curriculum publisher and so...      NaN   \n",
       "2  2013.0  MaestroQA provides omni-channel customer servi...      6.3   \n",
       "3  2012.0  We simplify wellness so you can find everythin...      NaN   \n",
       "4  2012.0  IEX develops transparent and trusted technolog...      NaN   \n",
       "\n",
       "      i_name                job_type  jobs  loc_employ  tot_employ    job_t0  \\\n",
       "0     Brigit                 Fintech   9.0        37.0        37.0   Fintech   \n",
       "1      Zearn                  Edtech   1.0        30.0        60.0    Edtech   \n",
       "2  MaestroQA  Cloud + Enterprise Web   4.0        31.0        32.0     Cloud   \n",
       "3    Gympass    Fitness + Healthtech   8.0       103.0      1126.0   Fitness   \n",
       "4        IEX      Big Data + Fintech  13.0       110.0       125.0  Big Data   \n",
       "\n",
       "           job_t1 job_t2  \n",
       "0            None   None  \n",
       "1            None   None  \n",
       "2  Enterprise Web   None  \n",
       "3      Healthtech   None  \n",
       "4         Fintech   None  "
      ]
     },
     "execution_count": 185,
     "metadata": {},
     "output_type": "execute_result"
    }
   ],
   "source": [
    "dfall.head()"
   ]
  },
  {
   "cell_type": "code",
   "execution_count": 13,
   "metadata": {},
   "outputs": [],
   "source": [
    "dfall['g_rate'] = dfall['tot_employ']/(2021 - dfall['date'])"
   ]
  },
  {
   "cell_type": "code",
   "execution_count": 14,
   "metadata": {},
   "outputs": [
    {
     "data": {
      "text/html": [
       "<div>\n",
       "<style scoped>\n",
       "    .dataframe tbody tr th:only-of-type {\n",
       "        vertical-align: middle;\n",
       "    }\n",
       "\n",
       "    .dataframe tbody tr th {\n",
       "        vertical-align: top;\n",
       "    }\n",
       "\n",
       "    .dataframe thead th {\n",
       "        text-align: right;\n",
       "    }\n",
       "</style>\n",
       "<table border=\"1\" class=\"dataframe\">\n",
       "  <thead>\n",
       "    <tr style=\"text-align: right;\">\n",
       "      <th></th>\n",
       "      <th>Unnamed: 0</th>\n",
       "      <th>address</th>\n",
       "      <th>company</th>\n",
       "      <th>date</th>\n",
       "      <th>description</th>\n",
       "      <th>funding</th>\n",
       "      <th>i_name</th>\n",
       "      <th>job_type</th>\n",
       "      <th>jobs</th>\n",
       "      <th>loc_employ</th>\n",
       "      <th>tot_employ</th>\n",
       "      <th>job_t0</th>\n",
       "      <th>job_t1</th>\n",
       "      <th>job_t2</th>\n",
       "      <th>g_rate</th>\n",
       "    </tr>\n",
       "  </thead>\n",
       "  <tbody>\n",
       "    <tr>\n",
       "      <td>0</td>\n",
       "      <td>0</td>\n",
       "      <td>Our office is located steps from Madison Squar...</td>\n",
       "      <td>Brigit</td>\n",
       "      <td>2017.0</td>\n",
       "      <td>Brigit is a mission-driven start-up that is di...</td>\n",
       "      <td>NaN</td>\n",
       "      <td>Brigit</td>\n",
       "      <td>Fintech</td>\n",
       "      <td>9.0</td>\n",
       "      <td>37.0</td>\n",
       "      <td>37.0</td>\n",
       "      <td>Fintech</td>\n",
       "      <td>None</td>\n",
       "      <td>None</td>\n",
       "      <td>9.250000</td>\n",
       "    </tr>\n",
       "    <tr>\n",
       "      <td>1</td>\n",
       "      <td>1</td>\n",
       "      <td>Our office is located in Midtown West - which ...</td>\n",
       "      <td>Zearn</td>\n",
       "      <td>2012.0</td>\n",
       "      <td>We are a nonprofit curriculum publisher and so...</td>\n",
       "      <td>NaN</td>\n",
       "      <td>Zearn</td>\n",
       "      <td>Edtech</td>\n",
       "      <td>1.0</td>\n",
       "      <td>30.0</td>\n",
       "      <td>60.0</td>\n",
       "      <td>Edtech</td>\n",
       "      <td>None</td>\n",
       "      <td>None</td>\n",
       "      <td>6.666667</td>\n",
       "    </tr>\n",
       "    <tr>\n",
       "      <td>2</td>\n",
       "      <td>2</td>\n",
       "      <td>We're located right in between Union Square an...</td>\n",
       "      <td>MaestroQA</td>\n",
       "      <td>2013.0</td>\n",
       "      <td>MaestroQA provides omni-channel customer servi...</td>\n",
       "      <td>6.3</td>\n",
       "      <td>MaestroQA</td>\n",
       "      <td>Cloud + Enterprise Web</td>\n",
       "      <td>4.0</td>\n",
       "      <td>31.0</td>\n",
       "      <td>32.0</td>\n",
       "      <td>Cloud</td>\n",
       "      <td>Enterprise Web</td>\n",
       "      <td>None</td>\n",
       "      <td>4.000000</td>\n",
       "    </tr>\n",
       "    <tr>\n",
       "      <td>3</td>\n",
       "      <td>3</td>\n",
       "      <td>Our NYC HQ is in a trendy area with lots of sh...</td>\n",
       "      <td>Gympass</td>\n",
       "      <td>2012.0</td>\n",
       "      <td>We simplify wellness so you can find everythin...</td>\n",
       "      <td>NaN</td>\n",
       "      <td>Gympass</td>\n",
       "      <td>Fitness + Healthtech</td>\n",
       "      <td>8.0</td>\n",
       "      <td>103.0</td>\n",
       "      <td>1126.0</td>\n",
       "      <td>Fitness</td>\n",
       "      <td>Healthtech</td>\n",
       "      <td>None</td>\n",
       "      <td>125.111111</td>\n",
       "    </tr>\n",
       "    <tr>\n",
       "      <td>4</td>\n",
       "      <td>4</td>\n",
       "      <td>3 World Trade Center, New York , NY 10007</td>\n",
       "      <td>IEX</td>\n",
       "      <td>2012.0</td>\n",
       "      <td>IEX develops transparent and trusted technolog...</td>\n",
       "      <td>NaN</td>\n",
       "      <td>IEX</td>\n",
       "      <td>Big Data + Fintech</td>\n",
       "      <td>13.0</td>\n",
       "      <td>110.0</td>\n",
       "      <td>125.0</td>\n",
       "      <td>Big Data</td>\n",
       "      <td>Fintech</td>\n",
       "      <td>None</td>\n",
       "      <td>13.888889</td>\n",
       "    </tr>\n",
       "  </tbody>\n",
       "</table>\n",
       "</div>"
      ],
      "text/plain": [
       "   Unnamed: 0                                            address    company  \\\n",
       "0           0  Our office is located steps from Madison Squar...     Brigit   \n",
       "1           1  Our office is located in Midtown West - which ...      Zearn   \n",
       "2           2  We're located right in between Union Square an...  MaestroQA   \n",
       "3           3  Our NYC HQ is in a trendy area with lots of sh...    Gympass   \n",
       "4           4          3 World Trade Center, New York , NY 10007        IEX   \n",
       "\n",
       "     date                                        description  funding  \\\n",
       "0  2017.0  Brigit is a mission-driven start-up that is di...      NaN   \n",
       "1  2012.0  We are a nonprofit curriculum publisher and so...      NaN   \n",
       "2  2013.0  MaestroQA provides omni-channel customer servi...      6.3   \n",
       "3  2012.0  We simplify wellness so you can find everythin...      NaN   \n",
       "4  2012.0  IEX develops transparent and trusted technolog...      NaN   \n",
       "\n",
       "      i_name                job_type  jobs  loc_employ  tot_employ    job_t0  \\\n",
       "0     Brigit                 Fintech   9.0        37.0        37.0   Fintech   \n",
       "1      Zearn                  Edtech   1.0        30.0        60.0    Edtech   \n",
       "2  MaestroQA  Cloud + Enterprise Web   4.0        31.0        32.0     Cloud   \n",
       "3    Gympass    Fitness + Healthtech   8.0       103.0      1126.0   Fitness   \n",
       "4        IEX      Big Data + Fintech  13.0       110.0       125.0  Big Data   \n",
       "\n",
       "           job_t1 job_t2      g_rate  \n",
       "0            None   None    9.250000  \n",
       "1            None   None    6.666667  \n",
       "2  Enterprise Web   None    4.000000  \n",
       "3      Healthtech   None  125.111111  \n",
       "4         Fintech   None   13.888889  "
      ]
     },
     "execution_count": 14,
     "metadata": {},
     "output_type": "execute_result"
    }
   ],
   "source": [
    "dfall.head()"
   ]
  },
  {
   "cell_type": "code",
   "execution_count": 15,
   "metadata": {},
   "outputs": [],
   "source": [
    "dfall.to_csv('builtinnyc_data_mod.csv')"
   ]
  },
  {
   "cell_type": "code",
   "execution_count": 186,
   "metadata": {},
   "outputs": [
    {
     "data": {
      "text/plain": [
       "Fintech            391\n",
       "AdTech             381\n",
       "Software           378\n",
       "eCommerce          305\n",
       "Agency             282\n",
       "                  ... \n",
       "Virtual Reality      4\n",
       "Cannabis             4\n",
       "Computer Vision      3\n",
       "Aerospace            1\n",
       "Robotics             1\n",
       "Name: job_t0, Length: 61, dtype: int64"
      ]
     },
     "execution_count": 186,
     "metadata": {},
     "output_type": "execute_result"
    }
   ],
   "source": [
    "dfall['job_t0'].value_counts()"
   ]
  },
  {
   "cell_type": "code",
   "execution_count": 187,
   "metadata": {},
   "outputs": [
    {
     "data": {
      "text/plain": [
       "Software                       196\n",
       "Marketing Tech                 146\n",
       "Information Technology          99\n",
       "Mobile                          94\n",
       "Digital Media                   94\n",
       "                              ... \n",
       "Angel or VC Firm                 1\n",
       "Cannabis                         1\n",
       "Aerospace                        1\n",
       "Coupons                          1\n",
       "Natural Language Processing      1\n",
       "Name: job_t1, Length: 62, dtype: int64"
      ]
     },
     "execution_count": 187,
     "metadata": {},
     "output_type": "execute_result"
    }
   ],
   "source": [
    "dfall['job_t1'].value_counts()"
   ]
  },
  {
   "cell_type": "code",
   "execution_count": 188,
   "metadata": {},
   "outputs": [
    {
     "data": {
      "text/plain": [
       "Entertainment         32\n",
       "Family                16\n",
       "Digital Media          6\n",
       "Mobile                 5\n",
       "Retail                 4\n",
       "Sports                 2\n",
       "Other                  1\n",
       "Food                   1\n",
       "Virtual Reality        1\n",
       "Travel                 1\n",
       "Internet of Things     1\n",
       "Real Estate            1\n",
       "Name: job_t2, dtype: int64"
      ]
     },
     "execution_count": 188,
     "metadata": {},
     "output_type": "execute_result"
    }
   ],
   "source": [
    "dfall['job_t2'].value_counts()"
   ]
  },
  {
   "cell_type": "code",
   "execution_count": 396,
   "metadata": {},
   "outputs": [],
   "source": [
    "dfall['counts'] = dfall['date'].value_counts() "
   ]
  },
  {
   "cell_type": "code",
   "execution_count": 397,
   "metadata": {},
   "outputs": [
    {
     "data": {
      "text/plain": [
       "<matplotlib.collections.PathCollection at 0x1a2819b8d0>"
      ]
     },
     "execution_count": 397,
     "metadata": {},
     "output_type": "execute_result"
    },
    {
     "data": {
      "image/png": "[encoded data removed]",
      "text/plain": [
       "<Figure size 432x288 with 1 Axes>"
      ]
     },
     "metadata": {},
     "output_type": "display_data"
    }
   ],
   "source": [
    "plt.scatter(x=dfall['date'], y=dfall['counts'])"
   ]
  },
  {
   "cell_type": "code",
   "execution_count": 392,
   "metadata": {},
   "outputs": [
    {
     "data": {
      "text/plain": [
       "<matplotlib.axes._subplots.AxesSubplot at 0x1a28025410>"
      ]
     },
     "execution_count": 392,
     "metadata": {},
     "output_type": "execute_result"
    },
    {
     "data": {
      "image/png": "[encoded data removed]",
      "text/plain": [
       "<Figure size 432x288 with 1 Axes>"
      ]
     },
     "metadata": {},
     "output_type": "display_data"
    }
   ],
   "source": [
    "scatter_df = dfall[['date', 'tot_employ']]\n",
    "scatter_df = scatter_df.loc[(scatter_df['date']>1990)]\n",
    "scatter_df = scatter_df.sort_values('date')\n",
    "df_grp = scatter_df.groupby('date')\n",
    "key_list = df_grp.groups.keys()\n",
    "df_med = pd.DataFrame(df_grp.median())\n",
    "df_med['real_date'] = key_list\n",
    "\n",
    "#med_list = df_grp.median()\n",
    "#df_med = pd.DataFrame(scatter_df.groupby(['real_date'])['tot_employ'].median())\n",
    "#df_med['date'] = range(1991,2020)\n",
    "sns.regplot(df_med['real_date'], df_med['tot_employ'], order=1)"
   ]
  },
  {
   "cell_type": "code",
   "execution_count": 464,
   "metadata": {},
   "outputs": [
    {
     "data": {
      "text/plain": [
       "<matplotlib.axes._subplots.AxesSubplot at 0x1a29d72490>"
      ]
     },
     "execution_count": 464,
     "metadata": {},
     "output_type": "execute_result"
    },
    {
     "data": {
      "image/png": "[encoded data removed]",
      "text/plain": [
       "<Figure size 432x288 with 1 Axes>"
      ]
     },
     "metadata": {},
     "output_type": "display_data"
    }
   ],
   "source": [
    "scatter_df = scatter_df.loc[(scatter_df['date']>2000)]\n",
    "df_counts = scatter_df['date'].value_counts().rename_axis('date').reset_index(name='counts')\n",
    "#df_counts['date'].astype(int)\n",
    "df_counts['date'] = df_counts['date'].astype(str)\n",
    "df_counts['date'] = df_counts['date'].apply(lambda x: x.split('.')[0][2:])\n",
    "pp = sns.barplot(df_counts['date'], df_counts['counts'], ci=None, color='red')\n",
    "\n",
    "#for ind, label in enumerate(pp.get_xticklabels()):\n",
    "   \n",
    "#    if ind % 10 == 0:  # every 10th label is kept\n",
    "#        label.set_visible(True)\n",
    "#    else:\n",
    "#        label.set_visible(False)\n",
    "pp        \n",
    "#df_counts = pd.DataFrame(scatter_df['date'].value_counts())\n",
    "#= scatter_df.sort_values('date')\n"
   ]
  },
  {
   "cell_type": "code",
   "execution_count": null,
   "metadata": {},
   "outputs": [],
   "source": [
    "scatter_df = dfall[['date', 'job_t0']]\n",
    "scatter_df = scatter_df.loc[(scatter_df['date']>2000)]\n",
    "scatter_df = scatter_df.sort_values('date')\n",
    "df_grp = scatter_df.groupby('date')\n",
    "key_list = df_grp.groups.keys()\n",
    "df_med = pd.DataFrame(df_grp.median())\n",
    "df_med['real_date'] = key_list\n",
    "\n",
    "#med_list = df_grp.median()\n",
    "#df_med = pd.DataFrame(scatter_df.groupby(['real_date'])['tot_employ'].median())\n",
    "#df_med['date'] = range(1991,2020)\n",
    "sns.regplot(df_med['real_date'], df_med['tot_employ'], order=1)"
   ]
  },
  {
   "cell_type": "code",
   "execution_count": 467,
   "metadata": {},
   "outputs": [],
   "source": [
    "scatter_df = dfall[['date', 'job_t0']]\n",
    "scatter_df = scatter_df.loc[(scatter_df['date']>2000)]\n",
    "scatter_df = scatter_df.sort_values('date')\n",
    "\n",
    "job_df = scatter_df.groupby(['date', 'job_t0']).size().unstack(fill_value=0)"
   ]
  },
  {
   "cell_type": "code",
   "execution_count": 470,
   "metadata": {},
   "outputs": [
    {
     "data": {
      "text/plain": [
       "date\n",
       "2001                     Agency\n",
       "2002                     Agency\n",
       "2003                     AdTech\n",
       "2004                  eCommerce\n",
       "2005                     AdTech\n",
       "2006                     AdTech\n",
       "2007                     AdTech\n",
       "2008                     AdTech\n",
       "2009                     AdTech\n",
       "2010                     AdTech\n",
       "2011                     AdTech\n",
       "2012                   Software\n",
       "2013                     AdTech\n",
       "2014                    Fintech\n",
       "2015                  eCommerce\n",
       "2016                    Fintech\n",
       "2017    Artificial Intelligence\n",
       "2018                 Healthtech\n",
       "2019    Artificial Intelligence\n",
       "2020    Artificial Intelligence\n",
       "dtype: object"
      ]
     },
     "execution_count": 470,
     "metadata": {},
     "output_type": "execute_result"
    }
   ],
   "source": [
    "job_df.idxmax(axis = 1)"
   ]
  },
  {
   "cell_type": "code",
   "execution_count": 471,
   "metadata": {},
   "outputs": [
    {
     "data": {
      "text/plain": [
       "date\n",
       "2001                  Software\n",
       "2002                  Software\n",
       "2003                    Agency\n",
       "2004    Information Technology\n",
       "2005        Internet of Things\n",
       "2006             Digital Media\n",
       "2007            Marketing Tech\n",
       "2008                  Software\n",
       "2009            Marketing Tech\n",
       "2010                  Software\n",
       "2011                    Mobile\n",
       "2012    Information Technology\n",
       "2013                  Software\n",
       "2014                  Software\n",
       "2015                  Software\n",
       "2016                   Fintech\n",
       "2017                   Fintech\n",
       "2018                  Software\n",
       "2019    Information Technology\n",
       "2020                Healthtech\n",
       "dtype: object"
      ]
     },
     "execution_count": 471,
     "metadata": {},
     "output_type": "execute_result"
    }
   ],
   "source": [
    "scatter_df = dfall[['date', 'job_t1']]\n",
    "scatter_df = scatter_df.loc[(scatter_df['date']>2000)]\n",
    "scatter_df = scatter_df.sort_values('date')\n",
    "\n",
    "job_df1 = scatter_df.groupby(['date', 'job_t1']).size().unstack(fill_value=0)\n",
    "job_df1.idxmax(axis = 1)"
   ]
  },
  {
   "cell_type": "code",
   "execution_count": 474,
   "metadata": {},
   "outputs": [],
   "source": [
    "scatter_df = dfall[['jobs', 'job_t0']]\n",
    "#scatter_df = scatter_df.loc[(scatter_df['date']>2000)]\n",
    "scatter_df = scatter_df.sort_values('jobs', ascending=True)\n",
    "\n",
    "job_df = scatter_df.groupby(['jobs', 'job_t0']).size().unstack(fill_value=0)"
   ]
  },
  {
   "cell_type": "code",
   "execution_count": 476,
   "metadata": {},
   "outputs": [
    {
     "data": {
      "text/plain": [
       "jobs\n",
       "1                  Healthtech\n",
       "2                      Agency\n",
       "3                    Software\n",
       "4     Artificial Intelligence\n",
       "5                      AdTech\n",
       "6                     Fintech\n",
       "7                    Big Data\n",
       "8                       Cloud\n",
       "9                     Fintech\n",
       "10                    Fintech\n",
       "11              Digital Media\n",
       "12    Artificial Intelligence\n",
       "13                    Fintech\n",
       "14                    Fintech\n",
       "15                   Big Data\n",
       "16    Artificial Intelligence\n",
       "17                  eCommerce\n",
       "18                   Big Data\n",
       "19                     AdTech\n",
       "20    Artificial Intelligence\n",
       "22     Information Technology\n",
       "23                 Healthtech\n",
       "26                   Big Data\n",
       "28               Consumer Web\n",
       "30               Consumer Web\n",
       "34                     Edtech\n",
       "36               Consumer Web\n",
       "38                    Fitness\n",
       "42                      Cloud\n",
       "49                   Security\n",
       "54                   Software\n",
       "59                    Fintech\n",
       "73                   Big Data\n",
       "dtype: object"
      ]
     },
     "execution_count": 476,
     "metadata": {},
     "output_type": "execute_result"
    }
   ],
   "source": [
    "job_df.idxmax(axis = 1)"
   ]
  },
  {
   "cell_type": "code",
   "execution_count": 486,
   "metadata": {},
   "outputs": [],
   "source": [
    "from matplotlib import pyplot\n",
    "import seaborn"
   ]
  },
  {
   "cell_type": "code",
   "execution_count": 28,
   "metadata": {},
   "outputs": [
    {
     "data": {
      "image/png": "[encoded data removed]",
      "text/plain": [
       "<Figure size 792x360 with 1 Axes>"
      ]
     },
     "metadata": {
      "needs_background": "light"
     },
     "output_type": "display_data"
    }
   ],
   "source": [
    "job_df = dfall[['jobs', 'job_t0']]\n",
    "j_grp_df = job_df.groupby('job_t0')\n",
    "key_list = j_grp_df.groups.keys()\n",
    "j_sum_df = pd.DataFrame(j_grp_df.sum())\n",
    "j_sum_df['industry'] = key_list\n",
    "j_sum_df = j_sum_df.sort_values('jobs', ascending=False)\n",
    "j_sum_df.replace([\"Artificial Intelligence\"],[\"AI\"], inplace=True)\n",
    "j_sub_df = j_sum_df.head(8)\n",
    "\n",
    "a4_dims = (11, 5)\n",
    "fig, ax = pyplot.subplots(figsize=a4_dims)\n",
    "pp = sns.barplot(j_sub_df['industry'], j_sub_df['jobs'], ci=None, color='red')\n",
    "\n",
    "#med_list = df_grp.median()\n",
    "#df_med = pd.DataFrame(scatter_df.groupby(['real_date'])['tot_employ'].median())\n",
    "#df_med['date'] = range(1991,2020)\n",
    "#sns.regplot(df_med['real_date'], df_med['tot_employ'], order=1)"
   ]
  },
  {
   "cell_type": "code",
   "execution_count": 31,
   "metadata": {},
   "outputs": [
    {
     "data": {
      "text/html": [
       "<div>\n",
       "<style scoped>\n",
       "    .dataframe tbody tr th:only-of-type {\n",
       "        vertical-align: middle;\n",
       "    }\n",
       "\n",
       "    .dataframe tbody tr th {\n",
       "        vertical-align: top;\n",
       "    }\n",
       "\n",
       "    .dataframe thead th {\n",
       "        text-align: right;\n",
       "    }\n",
       "</style>\n",
       "<table border=\"1\" class=\"dataframe\">\n",
       "  <thead>\n",
       "    <tr style=\"text-align: right;\">\n",
       "      <th></th>\n",
       "      <th>jobs</th>\n",
       "      <th>industry</th>\n",
       "    </tr>\n",
       "    <tr>\n",
       "      <th>job_t0</th>\n",
       "      <th></th>\n",
       "      <th></th>\n",
       "    </tr>\n",
       "  </thead>\n",
       "  <tbody>\n",
       "    <tr>\n",
       "      <td>Fintech</td>\n",
       "      <td>306.0</td>\n",
       "      <td>Fintech</td>\n",
       "    </tr>\n",
       "    <tr>\n",
       "      <td>Big Data</td>\n",
       "      <td>182.0</td>\n",
       "      <td>Big Data</td>\n",
       "    </tr>\n",
       "    <tr>\n",
       "      <td>Software</td>\n",
       "      <td>137.0</td>\n",
       "      <td>Software</td>\n",
       "    </tr>\n",
       "    <tr>\n",
       "      <td>Cloud</td>\n",
       "      <td>117.0</td>\n",
       "      <td>Cloud</td>\n",
       "    </tr>\n",
       "    <tr>\n",
       "      <td>Consumer Web</td>\n",
       "      <td>115.0</td>\n",
       "      <td>Consumer Web</td>\n",
       "    </tr>\n",
       "    <tr>\n",
       "      <td>Artificial Intelligence</td>\n",
       "      <td>104.0</td>\n",
       "      <td>AI</td>\n",
       "    </tr>\n",
       "    <tr>\n",
       "      <td>Healthtech</td>\n",
       "      <td>90.0</td>\n",
       "      <td>Healthtech</td>\n",
       "    </tr>\n",
       "    <tr>\n",
       "      <td>eCommerce</td>\n",
       "      <td>84.0</td>\n",
       "      <td>eCommerce</td>\n",
       "    </tr>\n",
       "    <tr>\n",
       "      <td>AdTech</td>\n",
       "      <td>75.0</td>\n",
       "      <td>AdTech</td>\n",
       "    </tr>\n",
       "    <tr>\n",
       "      <td>Security</td>\n",
       "      <td>67.0</td>\n",
       "      <td>Security</td>\n",
       "    </tr>\n",
       "    <tr>\n",
       "      <td>Real Estate</td>\n",
       "      <td>60.0</td>\n",
       "      <td>Real Estate</td>\n",
       "    </tr>\n",
       "    <tr>\n",
       "      <td>Information Technology</td>\n",
       "      <td>58.0</td>\n",
       "      <td>Information Technology</td>\n",
       "    </tr>\n",
       "    <tr>\n",
       "      <td>Edtech</td>\n",
       "      <td>47.0</td>\n",
       "      <td>Edtech</td>\n",
       "    </tr>\n",
       "    <tr>\n",
       "      <td>Fitness</td>\n",
       "      <td>47.0</td>\n",
       "      <td>Fitness</td>\n",
       "    </tr>\n",
       "    <tr>\n",
       "      <td>Enterprise Web</td>\n",
       "      <td>44.0</td>\n",
       "      <td>Enterprise Web</td>\n",
       "    </tr>\n",
       "    <tr>\n",
       "      <td>Marketing Tech</td>\n",
       "      <td>39.0</td>\n",
       "      <td>Marketing Tech</td>\n",
       "    </tr>\n",
       "    <tr>\n",
       "      <td>Fashion</td>\n",
       "      <td>34.0</td>\n",
       "      <td>Fashion</td>\n",
       "    </tr>\n",
       "    <tr>\n",
       "      <td>Blockchain</td>\n",
       "      <td>28.0</td>\n",
       "      <td>Blockchain</td>\n",
       "    </tr>\n",
       "    <tr>\n",
       "      <td>Professional Services</td>\n",
       "      <td>26.0</td>\n",
       "      <td>Professional Services</td>\n",
       "    </tr>\n",
       "    <tr>\n",
       "      <td>Mobile</td>\n",
       "      <td>23.0</td>\n",
       "      <td>Mobile</td>\n",
       "    </tr>\n",
       "  </tbody>\n",
       "</table>\n",
       "</div>"
      ],
      "text/plain": [
       "                          jobs                industry\n",
       "job_t0                                                \n",
       "Fintech                  306.0                 Fintech\n",
       "Big Data                 182.0                Big Data\n",
       "Software                 137.0                Software\n",
       "Cloud                    117.0                   Cloud\n",
       "Consumer Web             115.0            Consumer Web\n",
       "Artificial Intelligence  104.0                      AI\n",
       "Healthtech                90.0              Healthtech\n",
       "eCommerce                 84.0               eCommerce\n",
       "AdTech                    75.0                  AdTech\n",
       "Security                  67.0                Security\n",
       "Real Estate               60.0             Real Estate\n",
       "Information Technology    58.0  Information Technology\n",
       "Edtech                    47.0                  Edtech\n",
       "Fitness                   47.0                 Fitness\n",
       "Enterprise Web            44.0          Enterprise Web\n",
       "Marketing Tech            39.0          Marketing Tech\n",
       "Fashion                   34.0                 Fashion\n",
       "Blockchain                28.0              Blockchain\n",
       "Professional Services     26.0   Professional Services\n",
       "Mobile                    23.0                  Mobile"
      ]
     },
     "execution_count": 31,
     "metadata": {},
     "output_type": "execute_result"
    }
   ],
   "source": [
    "j_sum_df.head(20)"
   ]
  },
  {
   "cell_type": "code",
   "execution_count": 27,
   "metadata": {},
   "outputs": [
    {
     "data": {
      "image/png": "[encoded data removed]",
      "text/plain": [
       "<Figure size 792x360 with 1 Axes>"
      ]
     },
     "metadata": {
      "needs_background": "light"
     },
     "output_type": "display_data"
    }
   ],
   "source": [
    "job_df = dfall[['funding', 'job_t0']]\n",
    "j_grp_df = job_df.groupby('job_t0')\n",
    "key_list = j_grp_df.groups.keys()\n",
    "j_sum_df = pd.DataFrame(j_grp_df.sum())\n",
    "j_sum_df['industry'] = key_list\n",
    "j_sum_df = j_sum_df.sort_values('funding', ascending=False)\n",
    "j_sum_df.replace([\"Artificial Intelligence\",\"Information Technology\"],[\"AI\", \"IT\"], inplace=True)\n",
    "j_sub_df = j_sum_df.head(8)\n",
    "\n",
    "a4_dims = (11, 5)\n",
    "fig, ax = pyplot.subplots(figsize=a4_dims)\n",
    "pp = sns.barplot(j_sub_df['industry'], j_sub_df['funding'], ci=None, color='red')"
   ]
  },
  {
   "cell_type": "code",
   "execution_count": null,
   "metadata": {},
   "outputs": [],
   "source": [
    "j_sub_df"
   ]
  },
  {
   "cell_type": "code",
   "execution_count": 33,
   "metadata": {},
   "outputs": [
    {
     "data": {
      "image/png": "[encoded data removed]",
      "text/plain": [
       "<Figure size 792x360 with 1 Axes>"
      ]
     },
     "metadata": {
      "needs_background": "light"
     },
     "output_type": "display_data"
    }
   ],
   "source": [
    "job_df = dfall[['g_rate', 'job_t0']]\n",
    "j_grp_df = job_df.groupby('job_t0')\n",
    "key_list = j_grp_df.groups.keys()\n",
    "j_sum_df = pd.DataFrame(j_grp_df.median())\n",
    "j_sum_df['industry'] = key_list\n",
    "j_sum_df = j_sum_df.sort_values('g_rate', ascending=False)\n",
    "j_sum_df.replace([\"Artificial Intelligence\",\"Information Technology\",\n",
    "                 \"Natural Language Processing\"],[\"AI\", \"IT\", \"NLP\"], inplace=True)\n",
    "j_sub_df = j_sum_df.head(8)\n",
    "\n",
    "a4_dims = (11, 5)\n",
    "fig, ax = pyplot.subplots(figsize=a4_dims)\n",
    "pp = sns.barplot(j_sub_df['industry'], j_sub_df['g_rate'], ci=None, color='red')"
   ]
  },
  {
   "cell_type": "code",
   "execution_count": 36,
   "metadata": {},
   "outputs": [
    {
     "data": {
      "image/png": "[encoded data removed]",
      "text/plain": [
       "<Figure size 792x360 with 1 Axes>"
      ]
     },
     "metadata": {
      "needs_background": "light"
     },
     "output_type": "display_data"
    }
   ],
   "source": [
    "job_df = dfall[['tot_employ', 'job_t0']]\n",
    "j_grp_df = job_df.groupby('job_t0')\n",
    "key_list = j_grp_df.groups.keys()\n",
    "j_sum_df = pd.DataFrame(j_grp_df.sum())\n",
    "j_sum_df['industry'] = key_list\n",
    "j_sum_df = j_sum_df.sort_values('tot_employ', ascending=False)\n",
    "j_sum_df.replace([\"Artificial Intelligence\",\"Information Technology\",\n",
    "                 \"Natural Language Processing\"],[\"AI\", \"IT\", \"NLP\"], inplace=True)\n",
    "j_sub_df = j_sum_df.head(8)\n",
    "\n",
    "a4_dims = (11, 5)\n",
    "fig, ax = pyplot.subplots(figsize=a4_dims)\n",
    "pp = sns.barplot(j_sub_df['industry'], j_sub_df['tot_employ'], ci=None, color='red')"
   ]
  },
  {
   "cell_type": "code",
   "execution_count": 37,
   "metadata": {},
   "outputs": [
    {
     "data": {
      "image/png": "[encoded data removed]",
      "text/plain": [
       "<Figure size 792x360 with 1 Axes>"
      ]
     },
     "metadata": {
      "needs_background": "light"
     },
     "output_type": "display_data"
    }
   ],
   "source": [
    "d_job_df = dfall[['date','job_t0']]\n",
    "d_grp_df = d_job_df.groupby('job_t0')\n",
    "key_list = d_grp_df.groups.keys()\n",
    "d_sum_df = pd.DataFrame(d_grp_df.median())\n",
    "d_sum_df['industry'] = key_list\n",
    "\n",
    "j_job_df = dfall[['date','job_t0']]\n",
    "d_grp_df = d_job_df.groupby('job_t0')\n",
    "key_list = d_grp_df.groups.keys()\n",
    "d_sum_df = pd.DataFrame(d_grp_df.median())\n",
    "d_sum_df['industry'] = key_list\n",
    "\n",
    "job_df = dfall[['tot_employ','job_t0']]\n",
    "j_grp_df = job_df.groupby('job_t0')\n",
    "key_list = j_grp_df.groups.keys()\n",
    "j_sum_df = pd.DataFrame(j_grp_df.median())\n",
    "j_sum_df['industry'] = key_list\n",
    "\n",
    "j_sum_df = j_sum_df.sort_values('date', ascending=False)\n",
    "j_sum_df.replace([\"Artificial Intelligence\",\"Information Technology\",\n",
    "                 \"Natural Language Processing\"],[\"AI\", \"IT\", \"NLP\"], inplace=True)\n",
    "j_sub_df = j_sum_df.head(8)\n",
    "\n",
    "a4_dims = (11, 5)\n",
    "fig, ax = pyplot.subplots(figsize=a4_dims)\n",
    "pp = sns.barplot(j_sub_df['industry'], j_sub_df['date'], ci=None, color='red')"
   ]
  },
  {
   "cell_type": "code",
   "execution_count": 50,
   "metadata": {},
   "outputs": [],
   "source": [
    "d_job_df = dfall[['date','job_t0']]\n",
    "d_grp_df = d_job_df.groupby('job_t0')\n",
    "key_list = d_grp_df.groups.keys()\n",
    "d_sum_df = pd.DataFrame(d_grp_df.median())\n",
    "d_sum_df['industry'] = key_list\n",
    "\n",
    "job_df = dfall[['tot_employ','job_t0']]\n",
    "j_grp_df = job_df.groupby('job_t0')\n",
    "key_list = j_grp_df.groups.keys()\n",
    "j_sum_df = pd.DataFrame(j_grp_df.median())\n",
    "j_sum_df['industry'] = key_list"
   ]
  },
  {
   "cell_type": "code",
   "execution_count": 69,
   "metadata": {},
   "outputs": [],
   "source": [
    "rate = pd.merge(d_sum_df, j_sum_df, on = 'industry')"
   ]
  },
  {
   "cell_type": "code",
   "execution_count": 70,
   "metadata": {},
   "outputs": [],
   "source": [
    "rate['g_rate']= rate['tot_employ']/(2021-rate['date'])"
   ]
  },
  {
   "cell_type": "code",
   "execution_count": 73,
   "metadata": {},
   "outputs": [
    {
     "data": {
      "image/png": "[encoded data removed]",
      "text/plain": [
       "<Figure size 792x360 with 1 Axes>"
      ]
     },
     "metadata": {
      "needs_background": "light"
     },
     "output_type": "display_data"
    }
   ],
   "source": [
    "rate = rate.sort_values('g_rate', ascending=False)\n",
    "rate.replace([\"Artificial Intelligence\",\"Information Technology\",\n",
    "                 \"Natural Language Processing\"],[\"AI\", \"IT\", \"NLP\"], inplace=True)\n",
    "rate = rate.head(5)\n",
    "\n",
    "a4_dims = (11, 5)\n",
    "fig, ax = pyplot.subplots(figsize=a4_dims)\n",
    "pp = sns.barplot(rate['industry'], rate['g_rate'], ci=None, color='red')"
   ]
  },
  {
   "cell_type": "code",
   "execution_count": 71,
   "metadata": {},
   "outputs": [
    {
     "data": {
      "text/html": [
       "<div>\n",
       "<style scoped>\n",
       "    .dataframe tbody tr th:only-of-type {\n",
       "        vertical-align: middle;\n",
       "    }\n",
       "\n",
       "    .dataframe tbody tr th {\n",
       "        vertical-align: top;\n",
       "    }\n",
       "\n",
       "    .dataframe thead th {\n",
       "        text-align: right;\n",
       "    }\n",
       "</style>\n",
       "<table border=\"1\" class=\"dataframe\">\n",
       "  <thead>\n",
       "    <tr style=\"text-align: right;\">\n",
       "      <th></th>\n",
       "      <th>date</th>\n",
       "      <th>industry</th>\n",
       "      <th>tot_employ</th>\n",
       "      <th>g_rate</th>\n",
       "    </tr>\n",
       "  </thead>\n",
       "  <tbody>\n",
       "    <tr>\n",
       "      <td>38</td>\n",
       "      <td>2019.0</td>\n",
       "      <td>NLP</td>\n",
       "      <td>1002.5</td>\n",
       "      <td>501.250000</td>\n",
       "    </tr>\n",
       "    <tr>\n",
       "      <td>47</td>\n",
       "      <td>2015.0</td>\n",
       "      <td>Retail</td>\n",
       "      <td>615.0</td>\n",
       "      <td>102.500000</td>\n",
       "    </tr>\n",
       "    <tr>\n",
       "      <td>13</td>\n",
       "      <td>2012.0</td>\n",
       "      <td>Computer Vision</td>\n",
       "      <td>120.0</td>\n",
       "      <td>13.333333</td>\n",
       "    </tr>\n",
       "    <tr>\n",
       "      <td>32</td>\n",
       "      <td>2013.0</td>\n",
       "      <td>Legal Tech</td>\n",
       "      <td>93.5</td>\n",
       "      <td>11.687500</td>\n",
       "    </tr>\n",
       "    <tr>\n",
       "      <td>55</td>\n",
       "      <td>2008.0</td>\n",
       "      <td>Sports</td>\n",
       "      <td>128.5</td>\n",
       "      <td>9.884615</td>\n",
       "    </tr>\n",
       "    <tr>\n",
       "      <td>35</td>\n",
       "      <td>2012.0</td>\n",
       "      <td>Marketing Tech</td>\n",
       "      <td>80.0</td>\n",
       "      <td>8.888889</td>\n",
       "    </tr>\n",
       "    <tr>\n",
       "      <td>50</td>\n",
       "      <td>2013.5</td>\n",
       "      <td>Security</td>\n",
       "      <td>66.0</td>\n",
       "      <td>8.800000</td>\n",
       "    </tr>\n",
       "    <tr>\n",
       "      <td>7</td>\n",
       "      <td>2014.5</td>\n",
       "      <td>Beauty</td>\n",
       "      <td>55.0</td>\n",
       "      <td>8.461538</td>\n",
       "    </tr>\n",
       "    <tr>\n",
       "      <td>22</td>\n",
       "      <td>2015.0</td>\n",
       "      <td>Food</td>\n",
       "      <td>50.0</td>\n",
       "      <td>8.333333</td>\n",
       "    </tr>\n",
       "    <tr>\n",
       "      <td>44</td>\n",
       "      <td>2015.0</td>\n",
       "      <td>Productivity</td>\n",
       "      <td>50.0</td>\n",
       "      <td>8.333333</td>\n",
       "    </tr>\n",
       "    <tr>\n",
       "      <td>16</td>\n",
       "      <td>2012.0</td>\n",
       "      <td>Edtech</td>\n",
       "      <td>75.0</td>\n",
       "      <td>8.333333</td>\n",
       "    </tr>\n",
       "    <tr>\n",
       "      <td>46</td>\n",
       "      <td>2015.0</td>\n",
       "      <td>Real Estate</td>\n",
       "      <td>50.0</td>\n",
       "      <td>8.333333</td>\n",
       "    </tr>\n",
       "    <tr>\n",
       "      <td>29</td>\n",
       "      <td>2016.0</td>\n",
       "      <td>Insurance</td>\n",
       "      <td>41.0</td>\n",
       "      <td>8.200000</td>\n",
       "    </tr>\n",
       "    <tr>\n",
       "      <td>1</td>\n",
       "      <td>2011.0</td>\n",
       "      <td>AdTech</td>\n",
       "      <td>80.0</td>\n",
       "      <td>8.000000</td>\n",
       "    </tr>\n",
       "    <tr>\n",
       "      <td>24</td>\n",
       "      <td>2015.0</td>\n",
       "      <td>Greentech</td>\n",
       "      <td>47.5</td>\n",
       "      <td>7.916667</td>\n",
       "    </tr>\n",
       "    <tr>\n",
       "      <td>26</td>\n",
       "      <td>2014.0</td>\n",
       "      <td>Hardware</td>\n",
       "      <td>55.0</td>\n",
       "      <td>7.857143</td>\n",
       "    </tr>\n",
       "    <tr>\n",
       "      <td>23</td>\n",
       "      <td>2011.5</td>\n",
       "      <td>Gaming</td>\n",
       "      <td>72.5</td>\n",
       "      <td>7.631579</td>\n",
       "    </tr>\n",
       "    <tr>\n",
       "      <td>8</td>\n",
       "      <td>2012.0</td>\n",
       "      <td>Big Data</td>\n",
       "      <td>61.0</td>\n",
       "      <td>6.777778</td>\n",
       "    </tr>\n",
       "    <tr>\n",
       "      <td>11</td>\n",
       "      <td>2012.0</td>\n",
       "      <td>Cloud</td>\n",
       "      <td>57.5</td>\n",
       "      <td>6.388889</td>\n",
       "    </tr>\n",
       "    <tr>\n",
       "      <td>39</td>\n",
       "      <td>2013.0</td>\n",
       "      <td>News</td>\n",
       "      <td>50.0</td>\n",
       "      <td>6.250000</td>\n",
       "    </tr>\n",
       "  </tbody>\n",
       "</table>\n",
       "</div>"
      ],
      "text/plain": [
       "      date         industry  tot_employ      g_rate\n",
       "38  2019.0              NLP      1002.5  501.250000\n",
       "47  2015.0           Retail       615.0  102.500000\n",
       "13  2012.0  Computer Vision       120.0   13.333333\n",
       "32  2013.0       Legal Tech        93.5   11.687500\n",
       "55  2008.0           Sports       128.5    9.884615\n",
       "35  2012.0   Marketing Tech        80.0    8.888889\n",
       "50  2013.5         Security        66.0    8.800000\n",
       "7   2014.5           Beauty        55.0    8.461538\n",
       "22  2015.0             Food        50.0    8.333333\n",
       "44  2015.0     Productivity        50.0    8.333333\n",
       "16  2012.0           Edtech        75.0    8.333333\n",
       "46  2015.0      Real Estate        50.0    8.333333\n",
       "29  2016.0        Insurance        41.0    8.200000\n",
       "1   2011.0           AdTech        80.0    8.000000\n",
       "24  2015.0        Greentech        47.5    7.916667\n",
       "26  2014.0         Hardware        55.0    7.857143\n",
       "23  2011.5           Gaming        72.5    7.631579\n",
       "8   2012.0         Big Data        61.0    6.777778\n",
       "11  2012.0            Cloud        57.5    6.388889\n",
       "39  2013.0             News        50.0    6.250000"
      ]
     },
     "execution_count": 71,
     "metadata": {},
     "output_type": "execute_result"
    }
   ],
   "source": [
    "rate = rate.sort_values('g_rate', ascending=False)\n",
    "rate.replace([\"Artificial Intelligence\",\"Information Technology\",\n",
    "                 \"Natural Language Processing\"],[\"AI\", \"IT\", \"NLP\"], inplace=True)\n",
    "rate.head(20)"
   ]
  },
  {
   "cell_type": "code",
   "execution_count": 48,
   "metadata": {},
   "outputs": [
    {
     "data": {
      "text/plain": [
       "dict_keys(['3D Printing', 'AdTech', 'Aerospace', 'Agency', 'Angel or VC Firm', 'Artificial Intelligence', 'Automotive', 'Beauty', 'Big Data', 'Blockchain', 'Cannabis', 'Cloud', 'Co-Working Space or Incubator', 'Computer Vision', 'Consumer Web', 'Digital Media', 'Edtech', 'Enterprise Web', 'Events', 'Fashion', 'Fintech', 'Fitness', 'Food', 'Gaming', 'Greentech', 'HR Tech', 'Hardware', 'Healthtech', 'Information Technology', 'Insurance', 'Internet of Things', 'Kids', 'Legal Tech', 'Logistics', 'Machine Learning', 'Marketing Tech', 'Mobile', 'Music', 'Natural Language Processing', 'News', 'On-Demand', 'Other', 'Payments', 'Pet', 'Productivity', 'Professional Services', 'Real Estate', 'Retail', 'Robotics', 'Sales', 'Security', 'Sharing Economy', 'Social Impact', 'Social Media', 'Software', 'Sports', 'Transportation', 'Travel', 'Virtual Reality', 'Wearables', 'eCommerce'])"
      ]
     },
     "execution_count": 48,
     "metadata": {},
     "output_type": "execute_result"
    }
   ],
   "source": [
    "key_list"
   ]
  },
  {
   "cell_type": "code",
   "execution_count": 38,
   "metadata": {},
   "outputs": [
    {
     "data": {
      "text/html": [
       "<div>\n",
       "<style scoped>\n",
       "    .dataframe tbody tr th:only-of-type {\n",
       "        vertical-align: middle;\n",
       "    }\n",
       "\n",
       "    .dataframe tbody tr th {\n",
       "        vertical-align: top;\n",
       "    }\n",
       "\n",
       "    .dataframe thead th {\n",
       "        text-align: right;\n",
       "    }\n",
       "</style>\n",
       "<table border=\"1\" class=\"dataframe\">\n",
       "  <thead>\n",
       "    <tr style=\"text-align: right;\">\n",
       "      <th></th>\n",
       "      <th>date</th>\n",
       "      <th>industry</th>\n",
       "    </tr>\n",
       "    <tr>\n",
       "      <th>job_t0</th>\n",
       "      <th></th>\n",
       "      <th></th>\n",
       "    </tr>\n",
       "  </thead>\n",
       "  <tbody>\n",
       "    <tr>\n",
       "      <td>Natural Language Processing</td>\n",
       "      <td>2019.0</td>\n",
       "      <td>NLP</td>\n",
       "    </tr>\n",
       "    <tr>\n",
       "      <td>Pet</td>\n",
       "      <td>2018.0</td>\n",
       "      <td>Pet</td>\n",
       "    </tr>\n",
       "    <tr>\n",
       "      <td>Cannabis</td>\n",
       "      <td>2018.0</td>\n",
       "      <td>Cannabis</td>\n",
       "    </tr>\n",
       "    <tr>\n",
       "      <td>3D Printing</td>\n",
       "      <td>2016.0</td>\n",
       "      <td>3D Printing</td>\n",
       "    </tr>\n",
       "    <tr>\n",
       "      <td>Virtual Reality</td>\n",
       "      <td>2016.0</td>\n",
       "      <td>Virtual Reality</td>\n",
       "    </tr>\n",
       "    <tr>\n",
       "      <td>Logistics</td>\n",
       "      <td>2016.0</td>\n",
       "      <td>Logistics</td>\n",
       "    </tr>\n",
       "    <tr>\n",
       "      <td>Artificial Intelligence</td>\n",
       "      <td>2016.0</td>\n",
       "      <td>AI</td>\n",
       "    </tr>\n",
       "    <tr>\n",
       "      <td>Machine Learning</td>\n",
       "      <td>2016.0</td>\n",
       "      <td>Machine Learning</td>\n",
       "    </tr>\n",
       "    <tr>\n",
       "      <td>Blockchain</td>\n",
       "      <td>2016.0</td>\n",
       "      <td>Blockchain</td>\n",
       "    </tr>\n",
       "    <tr>\n",
       "      <td>Co-Working Space or Incubator</td>\n",
       "      <td>2016.0</td>\n",
       "      <td>Co-Working Space or Incubator</td>\n",
       "    </tr>\n",
       "    <tr>\n",
       "      <td>Fitness</td>\n",
       "      <td>2016.0</td>\n",
       "      <td>Fitness</td>\n",
       "    </tr>\n",
       "    <tr>\n",
       "      <td>Insurance</td>\n",
       "      <td>2016.0</td>\n",
       "      <td>Insurance</td>\n",
       "    </tr>\n",
       "    <tr>\n",
       "      <td>Healthtech</td>\n",
       "      <td>2015.0</td>\n",
       "      <td>Healthtech</td>\n",
       "    </tr>\n",
       "    <tr>\n",
       "      <td>HR Tech</td>\n",
       "      <td>2015.0</td>\n",
       "      <td>HR Tech</td>\n",
       "    </tr>\n",
       "    <tr>\n",
       "      <td>Greentech</td>\n",
       "      <td>2015.0</td>\n",
       "      <td>Greentech</td>\n",
       "    </tr>\n",
       "    <tr>\n",
       "      <td>Food</td>\n",
       "      <td>2015.0</td>\n",
       "      <td>Food</td>\n",
       "    </tr>\n",
       "    <tr>\n",
       "      <td>Real Estate</td>\n",
       "      <td>2015.0</td>\n",
       "      <td>Real Estate</td>\n",
       "    </tr>\n",
       "    <tr>\n",
       "      <td>Productivity</td>\n",
       "      <td>2015.0</td>\n",
       "      <td>Productivity</td>\n",
       "    </tr>\n",
       "    <tr>\n",
       "      <td>Retail</td>\n",
       "      <td>2015.0</td>\n",
       "      <td>Retail</td>\n",
       "    </tr>\n",
       "    <tr>\n",
       "      <td>Robotics</td>\n",
       "      <td>2015.0</td>\n",
       "      <td>Robotics</td>\n",
       "    </tr>\n",
       "  </tbody>\n",
       "</table>\n",
       "</div>"
      ],
      "text/plain": [
       "                                 date                       industry\n",
       "job_t0                                                              \n",
       "Natural Language Processing    2019.0                            NLP\n",
       "Pet                            2018.0                            Pet\n",
       "Cannabis                       2018.0                       Cannabis\n",
       "3D Printing                    2016.0                    3D Printing\n",
       "Virtual Reality                2016.0                Virtual Reality\n",
       "Logistics                      2016.0                      Logistics\n",
       "Artificial Intelligence        2016.0                             AI\n",
       "Machine Learning               2016.0               Machine Learning\n",
       "Blockchain                     2016.0                     Blockchain\n",
       "Co-Working Space or Incubator  2016.0  Co-Working Space or Incubator\n",
       "Fitness                        2016.0                        Fitness\n",
       "Insurance                      2016.0                      Insurance\n",
       "Healthtech                     2015.0                     Healthtech\n",
       "HR Tech                        2015.0                        HR Tech\n",
       "Greentech                      2015.0                      Greentech\n",
       "Food                           2015.0                           Food\n",
       "Real Estate                    2015.0                    Real Estate\n",
       "Productivity                   2015.0                   Productivity\n",
       "Retail                         2015.0                         Retail\n",
       "Robotics                       2015.0                       Robotics"
      ]
     },
     "execution_count": 38,
     "metadata": {},
     "output_type": "execute_result"
    }
   ],
   "source": [
    "j_sum_df.head(20)"
   ]
  },
  {
   "cell_type": "code",
   "execution_count": 497,
   "metadata": {},
   "outputs": [
    {
     "data": {
      "text/plain": [
       "<matplotlib.collections.PathCollection at 0x1a2ad1ba90>"
      ]
     },
     "execution_count": 497,
     "metadata": {},
     "output_type": "execute_result"
    },
    {
     "data": {
      "image/png": "[encoded data removed]",
      "text/plain": [
       "<Figure size 432x288 with 1 Axes>"
      ]
     },
     "metadata": {},
     "output_type": "display_data"
    }
   ],
   "source": [
    "plt.scatter(x=dfall['funding'], y=dfall['tot_employ'])"
   ]
  },
  {
   "cell_type": "code",
   "execution_count": 499,
   "metadata": {},
   "outputs": [
    {
     "data": {
      "text/plain": [
       "<matplotlib.axes._subplots.AxesSubplot at 0x1a2af67490>"
      ]
     },
     "execution_count": 499,
     "metadata": {},
     "output_type": "execute_result"
    },
    {
     "data": {
      "image/png": "[encoded data removed]",
      "text/plain": [
       "<Figure size 432x288 with 1 Axes>"
      ]
     },
     "metadata": {},
     "output_type": "display_data"
    }
   ],
   "source": [
    "scatter_df = dfall[['funding','tot_employ']]\n",
    "scatter_df = scatter_df.loc[scatter_df.apply(lambda x: np.abs(x - x.mean()) / x.std() < 3).all(axis=1)]\n",
    "#scatter_df.plot.scatter(x='funding', y='tot_employ')\n",
    "sns.regplot(scatter_df['funding'], scatter_df['tot_employ'], order=1)"
   ]
  },
  {
   "cell_type": "code",
   "execution_count": 500,
   "metadata": {},
   "outputs": [
    {
     "data": {
      "text/plain": [
       "<matplotlib.axes._subplots.AxesSubplot at 0x1a2b045550>"
      ]
     },
     "execution_count": 500,
     "metadata": {},
     "output_type": "execute_result"
    },
    {
     "data": {
      "image/png": "[encoded data removed]",
      "text/plain": [
       "<Figure size 432x288 with 1 Axes>"
      ]
     },
     "metadata": {},
     "output_type": "display_data"
    }
   ],
   "source": [
    "scatter_df = dfall[['funding','jobs']]\n",
    "scatter_df = scatter_df.loc[scatter_df.apply(lambda x: np.abs(x - x.mean()) / x.std() < 3).all(axis=1)]\n",
    "#scatter_df.plot.scatter(x='funding', y='tot_employ')\n",
    "sns.regplot(scatter_df['funding'], scatter_df['jobs'], order=1)"
   ]
  },
  {
   "cell_type": "code",
   "execution_count": 501,
   "metadata": {},
   "outputs": [
    {
     "data": {
      "text/plain": [
       "<matplotlib.axes._subplots.AxesSubplot at 0x1a2b14ce90>"
      ]
     },
     "execution_count": 501,
     "metadata": {},
     "output_type": "execute_result"
    },
    {
     "data": {
      "image/png": "[encoded data removed]",
      "text/plain": [
       "<Figure size 432x288 with 1 Axes>"
      ]
     },
     "metadata": {},
     "output_type": "display_data"
    }
   ],
   "source": [
    "scatter_df = dfall[['tot_employ','jobs']]\n",
    "scatter_df = scatter_df.loc[scatter_df.apply(lambda x: np.abs(x - x.mean()) / x.std() < 3).all(axis=1)]\n",
    "#scatter_df.plot.scatter(x='funding', y='tot_employ')\n",
    "sns.regplot(scatter_df['tot_employ'], scatter_df['jobs'], order=1)"
   ]
  },
  {
   "cell_type": "code",
   "execution_count": 502,
   "metadata": {},
   "outputs": [
    {
     "data": {
      "text/plain": [
       "<matplotlib.axes._subplots.AxesSubplot at 0x1a2b230490>"
      ]
     },
     "execution_count": 502,
     "metadata": {},
     "output_type": "execute_result"
    },
    {
     "data": {
      "image/png": "[encoded data removed]",
      "text/plain": [
       "<Figure size 432x288 with 1 Axes>"
      ]
     },
     "metadata": {},
     "output_type": "display_data"
    }
   ],
   "source": [
    "scatter_df = dfall[['date','jobs']]\n",
    "scatter_df = scatter_df.loc[scatter_df.apply(lambda x: np.abs(x - x.mean()) / x.std() < 3).all(axis=1)]\n",
    "#scatter_df.plot.scatter(x='funding', y='tot_employ')\n",
    "sns.regplot(scatter_df['date'], scatter_df['jobs'], order=1)"
   ]
  },
  {
   "cell_type": "markdown",
   "metadata": {},
   "source": [
    "df_med"
   ]
  },
  {
   "cell_type": "code",
   "execution_count": 510,
   "metadata": {},
   "outputs": [],
   "source": [
    "scatter_df = dfall[['g_rate','jobs']]"
   ]
  },
  {
   "cell_type": "code",
   "execution_count": 511,
   "metadata": {},
   "outputs": [
    {
     "data": {
      "text/html": [
       "<div>\n",
       "<style scoped>\n",
       "    .dataframe tbody tr th:only-of-type {\n",
       "        vertical-align: middle;\n",
       "    }\n",
       "\n",
       "    .dataframe tbody tr th {\n",
       "        vertical-align: top;\n",
       "    }\n",
       "\n",
       "    .dataframe thead th {\n",
       "        text-align: right;\n",
       "    }\n",
       "</style>\n",
       "<table border=\"1\" class=\"dataframe\">\n",
       "  <thead>\n",
       "    <tr style=\"text-align: right;\">\n",
       "      <th></th>\n",
       "      <th>g_rate</th>\n",
       "      <th>jobs</th>\n",
       "    </tr>\n",
       "  </thead>\n",
       "  <tbody>\n",
       "    <tr>\n",
       "      <td>count</td>\n",
       "      <td>1591</td>\n",
       "      <td>239</td>\n",
       "    </tr>\n",
       "    <tr>\n",
       "      <td>mean</td>\n",
       "      <td>31</td>\n",
       "      <td>9</td>\n",
       "    </tr>\n",
       "    <tr>\n",
       "      <td>std</td>\n",
       "      <td>233</td>\n",
       "      <td>11</td>\n",
       "    </tr>\n",
       "    <tr>\n",
       "      <td>min</td>\n",
       "      <td>0</td>\n",
       "      <td>1</td>\n",
       "    </tr>\n",
       "    <tr>\n",
       "      <td>25%</td>\n",
       "      <td>2</td>\n",
       "      <td>1</td>\n",
       "    </tr>\n",
       "    <tr>\n",
       "      <td>50%</td>\n",
       "      <td>5</td>\n",
       "      <td>4</td>\n",
       "    </tr>\n",
       "    <tr>\n",
       "      <td>75%</td>\n",
       "      <td>13</td>\n",
       "      <td>12</td>\n",
       "    </tr>\n",
       "    <tr>\n",
       "      <td>max</td>\n",
       "      <td>5000</td>\n",
       "      <td>73</td>\n",
       "    </tr>\n",
       "  </tbody>\n",
       "</table>\n",
       "</div>"
      ],
      "text/plain": [
       "       g_rate  jobs\n",
       "count    1591   239\n",
       "mean       31     9\n",
       "std       233    11\n",
       "min         0     1\n",
       "25%         2     1\n",
       "50%         5     4\n",
       "75%        13    12\n",
       "max      5000    73"
      ]
     },
     "execution_count": 511,
     "metadata": {},
     "output_type": "execute_result"
    }
   ],
   "source": [
    "scatter_df.describe()"
   ]
  },
  {
   "cell_type": "code",
   "execution_count": 514,
   "metadata": {},
   "outputs": [
    {
     "data": {
      "text/plain": [
       "<matplotlib.axes._subplots.AxesSubplot at 0x1a2a648710>"
      ]
     },
     "execution_count": 514,
     "metadata": {},
     "output_type": "execute_result"
    },
    {
     "data": {
      "image/png": "[encoded data removed]",
      "text/plain": [
       "<Figure size 432x288 with 1 Axes>"
      ]
     },
     "metadata": {},
     "output_type": "display_data"
    }
   ],
   "source": [
    "scatter_df = dfall[['g_rate','jobs']]\n",
    "scatter_df = scatter_df.loc[(scatter_df['g_rate']<100) & (scatter_df['jobs']<50) ]\n",
    "#scatter_df = scatter_df.loc[scatter_df.apply(lambda x: np.abs(x - x.mean()) / x.std() < 3).all(axis=1)]\n",
    "#scatter_df.plot.scatter(x='funding', y='tot_employ')\n",
    "sns.regplot(scatter_df['g_rate'], scatter_df['jobs'], order=1)"
   ]
  },
  {
   "cell_type": "code",
   "execution_count": 298,
   "metadata": {},
   "outputs": [],
   "source": [
    "df_max = pd.DataFrame(scatter_df.groupby(['date'])['tot_employ'].max())"
   ]
  },
  {
   "cell_type": "code",
   "execution_count": 309,
   "metadata": {},
   "outputs": [],
   "source": [
    "df_max['date'] = range(1996,2021)"
   ]
  },
  {
   "cell_type": "code",
   "execution_count": 312,
   "metadata": {},
   "outputs": [
    {
     "data": {
      "text/plain": [
       "<matplotlib.collections.PathCollection at 0x1a27836150>"
      ]
     },
     "execution_count": 312,
     "metadata": {},
     "output_type": "execute_result"
    },
    {
     "data": {
      "image/png": "[encoded data removed]",
      "text/plain": [
       "<Figure size 432x288 with 1 Axes>"
      ]
     },
     "metadata": {},
     "output_type": "display_data"
    }
   ],
   "source": [
    "plt.scatter(x=df_max['date'], y=df_max['tot_employ'])"
   ]
  },
  {
   "cell_type": "code",
   "execution_count": 315,
   "metadata": {},
   "outputs": [],
   "source": [
    "df_med = pd.DataFrame(scatter_df.groupby(['date'])['tot_employ'].median())"
   ]
  },
  {
   "cell_type": "code",
   "execution_count": 326,
   "metadata": {},
   "outputs": [
    {
     "data": {
      "text/html": [
       "<div>\n",
       "<style scoped>\n",
       "    .dataframe tbody tr th:only-of-type {\n",
       "        vertical-align: middle;\n",
       "    }\n",
       "\n",
       "    .dataframe tbody tr th {\n",
       "        vertical-align: top;\n",
       "    }\n",
       "\n",
       "    .dataframe thead th {\n",
       "        text-align: right;\n",
       "    }\n",
       "</style>\n",
       "<table border=\"1\" class=\"dataframe\">\n",
       "  <thead>\n",
       "    <tr style=\"text-align: right;\">\n",
       "      <th></th>\n",
       "      <th>tot_employ</th>\n",
       "    </tr>\n",
       "    <tr>\n",
       "      <th>date</th>\n",
       "      <th></th>\n",
       "    </tr>\n",
       "  </thead>\n",
       "  <tbody>\n",
       "    <tr>\n",
       "      <td>1991.0</td>\n",
       "      <td>790.0</td>\n",
       "    </tr>\n",
       "    <tr>\n",
       "      <td>1992.0</td>\n",
       "      <td>14.0</td>\n",
       "    </tr>\n",
       "    <tr>\n",
       "      <td>1994.0</td>\n",
       "      <td>12.0</td>\n",
       "    </tr>\n",
       "    <tr>\n",
       "      <td>1995.0</td>\n",
       "      <td>180.0</td>\n",
       "    </tr>\n",
       "    <tr>\n",
       "      <td>1996.0</td>\n",
       "      <td>500.0</td>\n",
       "    </tr>\n",
       "    <tr>\n",
       "      <td>1997.0</td>\n",
       "      <td>50.0</td>\n",
       "    </tr>\n",
       "    <tr>\n",
       "      <td>1998.0</td>\n",
       "      <td>60.0</td>\n",
       "    </tr>\n",
       "    <tr>\n",
       "      <td>1999.0</td>\n",
       "      <td>234.0</td>\n",
       "    </tr>\n",
       "    <tr>\n",
       "      <td>2000.0</td>\n",
       "      <td>125.0</td>\n",
       "    </tr>\n",
       "    <tr>\n",
       "      <td>2001.0</td>\n",
       "      <td>210.0</td>\n",
       "    </tr>\n",
       "    <tr>\n",
       "      <td>2002.0</td>\n",
       "      <td>68.0</td>\n",
       "    </tr>\n",
       "    <tr>\n",
       "      <td>2003.0</td>\n",
       "      <td>145.0</td>\n",
       "    </tr>\n",
       "    <tr>\n",
       "      <td>2004.0</td>\n",
       "      <td>104.0</td>\n",
       "    </tr>\n",
       "    <tr>\n",
       "      <td>2005.0</td>\n",
       "      <td>60.0</td>\n",
       "    </tr>\n",
       "    <tr>\n",
       "      <td>2006.0</td>\n",
       "      <td>120.0</td>\n",
       "    </tr>\n",
       "    <tr>\n",
       "      <td>2007.0</td>\n",
       "      <td>203.5</td>\n",
       "    </tr>\n",
       "    <tr>\n",
       "      <td>2008.0</td>\n",
       "      <td>70.0</td>\n",
       "    </tr>\n",
       "    <tr>\n",
       "      <td>2009.0</td>\n",
       "      <td>84.0</td>\n",
       "    </tr>\n",
       "    <tr>\n",
       "      <td>2010.0</td>\n",
       "      <td>50.0</td>\n",
       "    </tr>\n",
       "    <tr>\n",
       "      <td>2011.0</td>\n",
       "      <td>78.0</td>\n",
       "    </tr>\n",
       "    <tr>\n",
       "      <td>2012.0</td>\n",
       "      <td>50.0</td>\n",
       "    </tr>\n",
       "    <tr>\n",
       "      <td>2013.0</td>\n",
       "      <td>70.0</td>\n",
       "    </tr>\n",
       "    <tr>\n",
       "      <td>2014.0</td>\n",
       "      <td>37.0</td>\n",
       "    </tr>\n",
       "    <tr>\n",
       "      <td>2015.0</td>\n",
       "      <td>17.0</td>\n",
       "    </tr>\n",
       "    <tr>\n",
       "      <td>2016.0</td>\n",
       "      <td>20.5</td>\n",
       "    </tr>\n",
       "    <tr>\n",
       "      <td>2017.0</td>\n",
       "      <td>11.5</td>\n",
       "    </tr>\n",
       "    <tr>\n",
       "      <td>2018.0</td>\n",
       "      <td>11.0</td>\n",
       "    </tr>\n",
       "    <tr>\n",
       "      <td>2019.0</td>\n",
       "      <td>8.0</td>\n",
       "    </tr>\n",
       "    <tr>\n",
       "      <td>2020.0</td>\n",
       "      <td>9.0</td>\n",
       "    </tr>\n",
       "  </tbody>\n",
       "</table>\n",
       "</div>"
      ],
      "text/plain": [
       "        tot_employ\n",
       "date              \n",
       "1991.0       790.0\n",
       "1992.0        14.0\n",
       "1994.0        12.0\n",
       "1995.0       180.0\n",
       "1996.0       500.0\n",
       "1997.0        50.0\n",
       "1998.0        60.0\n",
       "1999.0       234.0\n",
       "2000.0       125.0\n",
       "2001.0       210.0\n",
       "2002.0        68.0\n",
       "2003.0       145.0\n",
       "2004.0       104.0\n",
       "2005.0        60.0\n",
       "2006.0       120.0\n",
       "2007.0       203.5\n",
       "2008.0        70.0\n",
       "2009.0        84.0\n",
       "2010.0        50.0\n",
       "2011.0        78.0\n",
       "2012.0        50.0\n",
       "2013.0        70.0\n",
       "2014.0        37.0\n",
       "2015.0        17.0\n",
       "2016.0        20.5\n",
       "2017.0        11.5\n",
       "2018.0        11.0\n",
       "2019.0         8.0\n",
       "2020.0         9.0"
      ]
     },
     "execution_count": 326,
     "metadata": {},
     "output_type": "execute_result"
    }
   ],
   "source": [
    "df_med"
   ]
  },
  {
   "cell_type": "code",
   "execution_count": 316,
   "metadata": {},
   "outputs": [],
   "source": [
    "df_med['date'] = range(1996,2021)"
   ]
  },
  {
   "cell_type": "code",
   "execution_count": 317,
   "metadata": {},
   "outputs": [
    {
     "data": {
      "text/plain": [
       "<matplotlib.collections.PathCollection at 0x1a27a09610>"
      ]
     },
     "execution_count": 317,
     "metadata": {},
     "output_type": "execute_result"
    },
    {
     "data": {
      "image/png": "[encoded data removed]",
      "text/plain": [
       "<Figure size 432x288 with 1 Axes>"
      ]
     },
     "metadata": {},
     "output_type": "display_data"
    }
   ],
   "source": [
    "plt.scatter(x=df_med['date'], y=df_med['tot_employ'])"
   ]
  },
  {
   "cell_type": "code",
   "execution_count": 320,
   "metadata": {},
   "outputs": [
    {
     "data": {
      "text/plain": [
       "<matplotlib.axes._subplots.AxesSubplot at 0x1a27a09d50>"
      ]
     },
     "execution_count": 320,
     "metadata": {},
     "output_type": "execute_result"
    },
    {
     "data": {
      "image/png": "[encoded data removed]",
      "text/plain": [
       "<Figure size 432x288 with 1 Axes>"
      ]
     },
     "metadata": {},
     "output_type": "display_data"
    }
   ],
   "source": [
    "sns.regplot(df_med['date'], df_med['tot_employ'], order=1)"
   ]
  },
  {
   "cell_type": "code",
   "execution_count": 292,
   "metadata": {},
   "outputs": [
    {
     "data": {
      "text/html": [
       "<div>\n",
       "<style scoped>\n",
       "    .dataframe tbody tr th:only-of-type {\n",
       "        vertical-align: middle;\n",
       "    }\n",
       "\n",
       "    .dataframe tbody tr th {\n",
       "        vertical-align: top;\n",
       "    }\n",
       "\n",
       "    .dataframe thead th {\n",
       "        text-align: right;\n",
       "    }\n",
       "</style>\n",
       "<table border=\"1\" class=\"dataframe\">\n",
       "  <thead>\n",
       "    <tr style=\"text-align: right;\">\n",
       "      <th></th>\n",
       "      <th>tot_employ</th>\n",
       "    </tr>\n",
       "  </thead>\n",
       "  <tbody>\n",
       "    <tr>\n",
       "      <td>3167</td>\n",
       "      <td>NaN</td>\n",
       "    </tr>\n",
       "    <tr>\n",
       "      <td>3203</td>\n",
       "      <td>NaN</td>\n",
       "    </tr>\n",
       "    <tr>\n",
       "      <td>3277</td>\n",
       "      <td>NaN</td>\n",
       "    </tr>\n",
       "    <tr>\n",
       "      <td>3166</td>\n",
       "      <td>NaN</td>\n",
       "    </tr>\n",
       "    <tr>\n",
       "      <td>4379</td>\n",
       "      <td>NaN</td>\n",
       "    </tr>\n",
       "    <tr>\n",
       "      <td>...</td>\n",
       "      <td>...</td>\n",
       "    </tr>\n",
       "    <tr>\n",
       "      <td>3681</td>\n",
       "      <td>NaN</td>\n",
       "    </tr>\n",
       "    <tr>\n",
       "      <td>619</td>\n",
       "      <td>70.0</td>\n",
       "    </tr>\n",
       "    <tr>\n",
       "      <td>4948</td>\n",
       "      <td>12.0</td>\n",
       "    </tr>\n",
       "    <tr>\n",
       "      <td>2085</td>\n",
       "      <td>46.0</td>\n",
       "    </tr>\n",
       "    <tr>\n",
       "      <td>4462</td>\n",
       "      <td>NaN</td>\n",
       "    </tr>\n",
       "  </tbody>\n",
       "</table>\n",
       "<p>377 rows × 1 columns</p>\n",
       "</div>"
      ],
      "text/plain": [
       "      tot_employ\n",
       "3167         NaN\n",
       "3203         NaN\n",
       "3277         NaN\n",
       "3166         NaN\n",
       "4379         NaN\n",
       "...          ...\n",
       "3681         NaN\n",
       "619         70.0\n",
       "4948        12.0\n",
       "2085        46.0\n",
       "4462         NaN\n",
       "\n",
       "[377 rows x 1 columns]"
      ]
     },
     "execution_count": 292,
     "metadata": {},
     "output_type": "execute_result"
    }
   ],
   "source": [
    "df_stats[['tot_employ']].get_group(2014.0)"
   ]
  },
  {
   "cell_type": "code",
   "execution_count": null,
   "metadata": {},
   "outputs": [],
   "source": [
    "df_stats.agg({'tot_employ':'mean'})"
   ]
  },
  {
   "cell_type": "code",
   "execution_count": 246,
   "metadata": {},
   "outputs": [],
   "source": [
    "df_stats = scatter_df.groupby('date').agg(['mean', 'max', 'median'])"
   ]
  },
  {
   "cell_type": "code",
   "execution_count": 243,
   "metadata": {},
   "outputs": [
    {
     "data": {
      "text/plain": [
       "<matplotlib.axes._subplots.AxesSubplot at 0x1a270d3e50>"
      ]
     },
     "execution_count": 243,
     "metadata": {},
     "output_type": "execute_result"
    },
    {
     "data": {
      "image/png": "[encoded data removed]",
      "text/plain": [
       "<Figure size 432x288 with 1 Axes>"
      ]
     },
     "metadata": {},
     "output_type": "display_data"
    }
   ],
   "source": [
    "scatter_df.plot.scatter(x='date', y='tot_employ')"
   ]
  },
  {
   "cell_type": "code",
   "execution_count": 244,
   "metadata": {},
   "outputs": [
    {
     "data": {
      "text/plain": [
       "<matplotlib.axes._subplots.AxesSubplot at 0x1a26dd84d0>"
      ]
     },
     "execution_count": 244,
     "metadata": {},
     "output_type": "execute_result"
    },
    {
     "data": {
      "image/png": "[encoded data removed]",
      "text/plain": [
       "<Figure size 432x288 with 1 Axes>"
      ]
     },
     "metadata": {},
     "output_type": "display_data"
    }
   ],
   "source": [
    "scatter_df.boxplot(by='date', column = 'tot_employ')"
   ]
  },
  {
   "cell_type": "code",
   "execution_count": 230,
   "metadata": {},
   "outputs": [],
   "source": [
    "import seaborn as sns"
   ]
  },
  {
   "cell_type": "code",
   "execution_count": 251,
   "metadata": {},
   "outputs": [
    {
     "data": {
      "text/html": [
       "<div>\n",
       "<style scoped>\n",
       "    .dataframe tbody tr th:only-of-type {\n",
       "        vertical-align: middle;\n",
       "    }\n",
       "\n",
       "    .dataframe tbody tr th {\n",
       "        vertical-align: top;\n",
       "    }\n",
       "\n",
       "    .dataframe thead tr th {\n",
       "        text-align: left;\n",
       "    }\n",
       "\n",
       "    .dataframe thead tr:last-of-type th {\n",
       "        text-align: right;\n",
       "    }\n",
       "</style>\n",
       "<table border=\"1\" class=\"dataframe\">\n",
       "  <thead>\n",
       "    <tr>\n",
       "      <th></th>\n",
       "      <th colspan=\"3\" halign=\"left\">tot_employ</th>\n",
       "    </tr>\n",
       "    <tr>\n",
       "      <th></th>\n",
       "      <th>mean</th>\n",
       "      <th>max</th>\n",
       "      <th>median</th>\n",
       "    </tr>\n",
       "    <tr>\n",
       "      <th>date</th>\n",
       "      <th></th>\n",
       "      <th></th>\n",
       "      <th></th>\n",
       "    </tr>\n",
       "  </thead>\n",
       "  <tbody>\n",
       "    <tr>\n",
       "      <td>1996.0</td>\n",
       "      <td>500.000000</td>\n",
       "      <td>500.0</td>\n",
       "      <td>500.0</td>\n",
       "    </tr>\n",
       "    <tr>\n",
       "      <td>1997.0</td>\n",
       "      <td>690.333333</td>\n",
       "      <td>2000.0</td>\n",
       "      <td>50.0</td>\n",
       "    </tr>\n",
       "    <tr>\n",
       "      <td>1998.0</td>\n",
       "      <td>93.125000</td>\n",
       "      <td>180.0</td>\n",
       "      <td>60.0</td>\n",
       "    </tr>\n",
       "    <tr>\n",
       "      <td>1999.0</td>\n",
       "      <td>732.111111</td>\n",
       "      <td>4000.0</td>\n",
       "      <td>234.0</td>\n",
       "    </tr>\n",
       "    <tr>\n",
       "      <td>2000.0</td>\n",
       "      <td>401.900000</td>\n",
       "      <td>2500.0</td>\n",
       "      <td>125.0</td>\n",
       "    </tr>\n",
       "  </tbody>\n",
       "</table>\n",
       "</div>"
      ],
      "text/plain": [
       "        tot_employ               \n",
       "              mean     max median\n",
       "date                             \n",
       "1996.0  500.000000   500.0  500.0\n",
       "1997.0  690.333333  2000.0   50.0\n",
       "1998.0   93.125000   180.0   60.0\n",
       "1999.0  732.111111  4000.0  234.0\n",
       "2000.0  401.900000  2500.0  125.0"
      ]
     },
     "execution_count": 251,
     "metadata": {},
     "output_type": "execute_result"
    }
   ],
   "source": [
    "df_stats.head()"
   ]
  },
  {
   "cell_type": "code",
   "execution_count": 257,
   "metadata": {},
   "outputs": [
    {
     "data": {
      "text/html": [
       "<div>\n",
       "<style scoped>\n",
       "    .dataframe tbody tr th:only-of-type {\n",
       "        vertical-align: middle;\n",
       "    }\n",
       "\n",
       "    .dataframe tbody tr th {\n",
       "        vertical-align: top;\n",
       "    }\n",
       "\n",
       "    .dataframe thead tr th {\n",
       "        text-align: left;\n",
       "    }\n",
       "</style>\n",
       "<table border=\"1\" class=\"dataframe\">\n",
       "  <thead>\n",
       "    <tr>\n",
       "      <th></th>\n",
       "      <th>date</th>\n",
       "      <th colspan=\"3\" halign=\"left\">tot_employ</th>\n",
       "    </tr>\n",
       "    <tr>\n",
       "      <th></th>\n",
       "      <th></th>\n",
       "      <th>mean</th>\n",
       "      <th>max</th>\n",
       "      <th>median</th>\n",
       "    </tr>\n",
       "  </thead>\n",
       "  <tbody>\n",
       "    <tr>\n",
       "      <td>0</td>\n",
       "      <td>1996.0</td>\n",
       "      <td>500.000000</td>\n",
       "      <td>500.0</td>\n",
       "      <td>500.0</td>\n",
       "    </tr>\n",
       "    <tr>\n",
       "      <td>1</td>\n",
       "      <td>1997.0</td>\n",
       "      <td>690.333333</td>\n",
       "      <td>2000.0</td>\n",
       "      <td>50.0</td>\n",
       "    </tr>\n",
       "    <tr>\n",
       "      <td>2</td>\n",
       "      <td>1998.0</td>\n",
       "      <td>93.125000</td>\n",
       "      <td>180.0</td>\n",
       "      <td>60.0</td>\n",
       "    </tr>\n",
       "    <tr>\n",
       "      <td>3</td>\n",
       "      <td>1999.0</td>\n",
       "      <td>732.111111</td>\n",
       "      <td>4000.0</td>\n",
       "      <td>234.0</td>\n",
       "    </tr>\n",
       "    <tr>\n",
       "      <td>4</td>\n",
       "      <td>2000.0</td>\n",
       "      <td>401.900000</td>\n",
       "      <td>2500.0</td>\n",
       "      <td>125.0</td>\n",
       "    </tr>\n",
       "    <tr>\n",
       "      <td>5</td>\n",
       "      <td>2001.0</td>\n",
       "      <td>292.250000</td>\n",
       "      <td>1534.0</td>\n",
       "      <td>210.0</td>\n",
       "    </tr>\n",
       "    <tr>\n",
       "      <td>6</td>\n",
       "      <td>2002.0</td>\n",
       "      <td>436.800000</td>\n",
       "      <td>4000.0</td>\n",
       "      <td>68.0</td>\n",
       "    </tr>\n",
       "    <tr>\n",
       "      <td>7</td>\n",
       "      <td>2003.0</td>\n",
       "      <td>225.125000</td>\n",
       "      <td>1200.0</td>\n",
       "      <td>145.0</td>\n",
       "    </tr>\n",
       "    <tr>\n",
       "      <td>8</td>\n",
       "      <td>2004.0</td>\n",
       "      <td>521.500000</td>\n",
       "      <td>6000.0</td>\n",
       "      <td>104.0</td>\n",
       "    </tr>\n",
       "    <tr>\n",
       "      <td>9</td>\n",
       "      <td>2005.0</td>\n",
       "      <td>564.210526</td>\n",
       "      <td>3000.0</td>\n",
       "      <td>60.0</td>\n",
       "    </tr>\n",
       "    <tr>\n",
       "      <td>10</td>\n",
       "      <td>2006.0</td>\n",
       "      <td>796.500000</td>\n",
       "      <td>5000.0</td>\n",
       "      <td>120.0</td>\n",
       "    </tr>\n",
       "    <tr>\n",
       "      <td>11</td>\n",
       "      <td>2007.0</td>\n",
       "      <td>348.833333</td>\n",
       "      <td>900.0</td>\n",
       "      <td>203.5</td>\n",
       "    </tr>\n",
       "    <tr>\n",
       "      <td>12</td>\n",
       "      <td>2008.0</td>\n",
       "      <td>328.577778</td>\n",
       "      <td>2500.0</td>\n",
       "      <td>70.0</td>\n",
       "    </tr>\n",
       "    <tr>\n",
       "      <td>13</td>\n",
       "      <td>2009.0</td>\n",
       "      <td>280.508475</td>\n",
       "      <td>2000.0</td>\n",
       "      <td>84.0</td>\n",
       "    </tr>\n",
       "    <tr>\n",
       "      <td>14</td>\n",
       "      <td>2010.0</td>\n",
       "      <td>170.881356</td>\n",
       "      <td>1200.0</td>\n",
       "      <td>50.0</td>\n",
       "    </tr>\n",
       "    <tr>\n",
       "      <td>15</td>\n",
       "      <td>2011.0</td>\n",
       "      <td>166.164557</td>\n",
       "      <td>2000.0</td>\n",
       "      <td>78.0</td>\n",
       "    </tr>\n",
       "    <tr>\n",
       "      <td>16</td>\n",
       "      <td>2012.0</td>\n",
       "      <td>132.438462</td>\n",
       "      <td>1400.0</td>\n",
       "      <td>50.0</td>\n",
       "    </tr>\n",
       "    <tr>\n",
       "      <td>17</td>\n",
       "      <td>2013.0</td>\n",
       "      <td>241.356322</td>\n",
       "      <td>5000.0</td>\n",
       "      <td>70.0</td>\n",
       "    </tr>\n",
       "    <tr>\n",
       "      <td>18</td>\n",
       "      <td>2014.0</td>\n",
       "      <td>67.065789</td>\n",
       "      <td>723.0</td>\n",
       "      <td>37.0</td>\n",
       "    </tr>\n",
       "    <tr>\n",
       "      <td>19</td>\n",
       "      <td>2015.0</td>\n",
       "      <td>59.846995</td>\n",
       "      <td>900.0</td>\n",
       "      <td>17.0</td>\n",
       "    </tr>\n",
       "    <tr>\n",
       "      <td>20</td>\n",
       "      <td>2016.0</td>\n",
       "      <td>57.141026</td>\n",
       "      <td>700.0</td>\n",
       "      <td>20.5</td>\n",
       "    </tr>\n",
       "    <tr>\n",
       "      <td>21</td>\n",
       "      <td>2017.0</td>\n",
       "      <td>35.825581</td>\n",
       "      <td>500.0</td>\n",
       "      <td>11.5</td>\n",
       "    </tr>\n",
       "    <tr>\n",
       "      <td>22</td>\n",
       "      <td>2018.0</td>\n",
       "      <td>56.384615</td>\n",
       "      <td>1100.0</td>\n",
       "      <td>11.0</td>\n",
       "    </tr>\n",
       "    <tr>\n",
       "      <td>23</td>\n",
       "      <td>2019.0</td>\n",
       "      <td>278.144444</td>\n",
       "      <td>10000.0</td>\n",
       "      <td>8.0</td>\n",
       "    </tr>\n",
       "    <tr>\n",
       "      <td>24</td>\n",
       "      <td>2020.0</td>\n",
       "      <td>325.240000</td>\n",
       "      <td>3803.0</td>\n",
       "      <td>9.0</td>\n",
       "    </tr>\n",
       "  </tbody>\n",
       "</table>\n",
       "</div>"
      ],
      "text/plain": [
       "      date  tot_employ                \n",
       "                  mean      max median\n",
       "0   1996.0  500.000000    500.0  500.0\n",
       "1   1997.0  690.333333   2000.0   50.0\n",
       "2   1998.0   93.125000    180.0   60.0\n",
       "3   1999.0  732.111111   4000.0  234.0\n",
       "4   2000.0  401.900000   2500.0  125.0\n",
       "5   2001.0  292.250000   1534.0  210.0\n",
       "6   2002.0  436.800000   4000.0   68.0\n",
       "7   2003.0  225.125000   1200.0  145.0\n",
       "8   2004.0  521.500000   6000.0  104.0\n",
       "9   2005.0  564.210526   3000.0   60.0\n",
       "10  2006.0  796.500000   5000.0  120.0\n",
       "11  2007.0  348.833333    900.0  203.5\n",
       "12  2008.0  328.577778   2500.0   70.0\n",
       "13  2009.0  280.508475   2000.0   84.0\n",
       "14  2010.0  170.881356   1200.0   50.0\n",
       "15  2011.0  166.164557   2000.0   78.0\n",
       "16  2012.0  132.438462   1400.0   50.0\n",
       "17  2013.0  241.356322   5000.0   70.0\n",
       "18  2014.0   67.065789    723.0   37.0\n",
       "19  2015.0   59.846995    900.0   17.0\n",
       "20  2016.0   57.141026    700.0   20.5\n",
       "21  2017.0   35.825581    500.0   11.5\n",
       "22  2018.0   56.384615   1100.0   11.0\n",
       "23  2019.0  278.144444  10000.0    8.0\n",
       "24  2020.0  325.240000   3803.0    9.0"
      ]
     },
     "execution_count": 257,
     "metadata": {},
     "output_type": "execute_result"
    }
   ],
   "source": [
    "df_stats.reset_index()"
   ]
  },
  {
   "cell_type": "code",
   "execution_count": 258,
   "metadata": {},
   "outputs": [
    {
     "ename": "KeyError",
     "evalue": "'date'",
     "output_type": "error",
     "traceback": [
      "\u001b[0;31m---------------------------------------------------------------------------\u001b[0m",
      "\u001b[0;31mKeyError\u001b[0m                                  Traceback (most recent call last)",
      "\u001b[0;32m/Applications/anaconda3/lib/python3.7/site-packages/pandas/core/indexes/base.py\u001b[0m in \u001b[0;36mget_loc\u001b[0;34m(self, key, method, tolerance)\u001b[0m\n\u001b[1;32m   2896\u001b[0m             \u001b[0;32mtry\u001b[0m\u001b[0;34m:\u001b[0m\u001b[0;34m\u001b[0m\u001b[0;34m\u001b[0m\u001b[0m\n\u001b[0;32m-> 2897\u001b[0;31m                 \u001b[0;32mreturn\u001b[0m \u001b[0mself\u001b[0m\u001b[0;34m.\u001b[0m\u001b[0m_engine\u001b[0m\u001b[0;34m.\u001b[0m\u001b[0mget_loc\u001b[0m\u001b[0;34m(\u001b[0m\u001b[0mkey\u001b[0m\u001b[0;34m)\u001b[0m\u001b[0;34m\u001b[0m\u001b[0;34m\u001b[0m\u001b[0m\n\u001b[0m\u001b[1;32m   2898\u001b[0m             \u001b[0;32mexcept\u001b[0m \u001b[0mKeyError\u001b[0m\u001b[0;34m:\u001b[0m\u001b[0;34m\u001b[0m\u001b[0;34m\u001b[0m\u001b[0m\n",
      "\u001b[0;32mpandas/_libs/index.pyx\u001b[0m in \u001b[0;36mpandas._libs.index.IndexEngine.get_loc\u001b[0;34m()\u001b[0m\n",
      "\u001b[0;32mpandas/_libs/index.pyx\u001b[0m in \u001b[0;36mpandas._libs.index.IndexEngine.get_loc\u001b[0;34m()\u001b[0m\n",
      "\u001b[0;32mpandas/_libs/hashtable_class_helper.pxi\u001b[0m in \u001b[0;36mpandas._libs.hashtable.PyObjectHashTable.get_item\u001b[0;34m()\u001b[0m\n",
      "\u001b[0;32mpandas/_libs/hashtable_class_helper.pxi\u001b[0m in \u001b[0;36mpandas._libs.hashtable.PyObjectHashTable.get_item\u001b[0;34m()\u001b[0m\n",
      "\u001b[0;31mKeyError\u001b[0m: 'date'",
      "\nDuring handling of the above exception, another exception occurred:\n",
      "\u001b[0;31mKeyError\u001b[0m                                  Traceback (most recent call last)",
      "\u001b[0;32m<ipython-input-258-afa0714eeb19>\u001b[0m in \u001b[0;36m<module>\u001b[0;34m\u001b[0m\n\u001b[0;32m----> 1\u001b[0;31m \u001b[0mdf_stats\u001b[0m\u001b[0;34m[\u001b[0m\u001b[0;34m'date'\u001b[0m\u001b[0;34m]\u001b[0m\u001b[0;34m\u001b[0m\u001b[0;34m\u001b[0m\u001b[0m\n\u001b[0m",
      "\u001b[0;32m/Applications/anaconda3/lib/python3.7/site-packages/pandas/core/frame.py\u001b[0m in \u001b[0;36m__getitem__\u001b[0;34m(self, key)\u001b[0m\n\u001b[1;32m   2977\u001b[0m         \u001b[0;32mif\u001b[0m \u001b[0mis_single_key\u001b[0m\u001b[0;34m:\u001b[0m\u001b[0;34m\u001b[0m\u001b[0;34m\u001b[0m\u001b[0m\n\u001b[1;32m   2978\u001b[0m             \u001b[0;32mif\u001b[0m \u001b[0mself\u001b[0m\u001b[0;34m.\u001b[0m\u001b[0mcolumns\u001b[0m\u001b[0;34m.\u001b[0m\u001b[0mnlevels\u001b[0m \u001b[0;34m>\u001b[0m \u001b[0;36m1\u001b[0m\u001b[0;34m:\u001b[0m\u001b[0;34m\u001b[0m\u001b[0;34m\u001b[0m\u001b[0m\n\u001b[0;32m-> 2979\u001b[0;31m                 \u001b[0;32mreturn\u001b[0m \u001b[0mself\u001b[0m\u001b[0;34m.\u001b[0m\u001b[0m_getitem_multilevel\u001b[0m\u001b[0;34m(\u001b[0m\u001b[0mkey\u001b[0m\u001b[0;34m)\u001b[0m\u001b[0;34m\u001b[0m\u001b[0;34m\u001b[0m\u001b[0m\n\u001b[0m\u001b[1;32m   2980\u001b[0m             \u001b[0mindexer\u001b[0m \u001b[0;34m=\u001b[0m \u001b[0mself\u001b[0m\u001b[0;34m.\u001b[0m\u001b[0mcolumns\u001b[0m\u001b[0;34m.\u001b[0m\u001b[0mget_loc\u001b[0m\u001b[0;34m(\u001b[0m\u001b[0mkey\u001b[0m\u001b[0;34m)\u001b[0m\u001b[0;34m\u001b[0m\u001b[0;34m\u001b[0m\u001b[0m\n\u001b[1;32m   2981\u001b[0m             \u001b[0;32mif\u001b[0m \u001b[0mis_integer\u001b[0m\u001b[0;34m(\u001b[0m\u001b[0mindexer\u001b[0m\u001b[0;34m)\u001b[0m\u001b[0;34m:\u001b[0m\u001b[0;34m\u001b[0m\u001b[0;34m\u001b[0m\u001b[0m\n",
      "\u001b[0;32m/Applications/anaconda3/lib/python3.7/site-packages/pandas/core/frame.py\u001b[0m in \u001b[0;36m_getitem_multilevel\u001b[0;34m(self, key)\u001b[0m\n\u001b[1;32m   3026\u001b[0m \u001b[0;34m\u001b[0m\u001b[0m\n\u001b[1;32m   3027\u001b[0m     \u001b[0;32mdef\u001b[0m \u001b[0m_getitem_multilevel\u001b[0m\u001b[0;34m(\u001b[0m\u001b[0mself\u001b[0m\u001b[0;34m,\u001b[0m \u001b[0mkey\u001b[0m\u001b[0;34m)\u001b[0m\u001b[0;34m:\u001b[0m\u001b[0;34m\u001b[0m\u001b[0;34m\u001b[0m\u001b[0m\n\u001b[0;32m-> 3028\u001b[0;31m         \u001b[0mloc\u001b[0m \u001b[0;34m=\u001b[0m \u001b[0mself\u001b[0m\u001b[0;34m.\u001b[0m\u001b[0mcolumns\u001b[0m\u001b[0;34m.\u001b[0m\u001b[0mget_loc\u001b[0m\u001b[0;34m(\u001b[0m\u001b[0mkey\u001b[0m\u001b[0;34m)\u001b[0m\u001b[0;34m\u001b[0m\u001b[0;34m\u001b[0m\u001b[0m\n\u001b[0m\u001b[1;32m   3029\u001b[0m         \u001b[0;32mif\u001b[0m \u001b[0misinstance\u001b[0m\u001b[0;34m(\u001b[0m\u001b[0mloc\u001b[0m\u001b[0;34m,\u001b[0m \u001b[0;34m(\u001b[0m\u001b[0mslice\u001b[0m\u001b[0;34m,\u001b[0m \u001b[0mSeries\u001b[0m\u001b[0;34m,\u001b[0m \u001b[0mnp\u001b[0m\u001b[0;34m.\u001b[0m\u001b[0mndarray\u001b[0m\u001b[0;34m,\u001b[0m \u001b[0mIndex\u001b[0m\u001b[0;34m)\u001b[0m\u001b[0;34m)\u001b[0m\u001b[0;34m:\u001b[0m\u001b[0;34m\u001b[0m\u001b[0;34m\u001b[0m\u001b[0m\n\u001b[1;32m   3030\u001b[0m             \u001b[0mnew_columns\u001b[0m \u001b[0;34m=\u001b[0m \u001b[0mself\u001b[0m\u001b[0;34m.\u001b[0m\u001b[0mcolumns\u001b[0m\u001b[0;34m[\u001b[0m\u001b[0mloc\u001b[0m\u001b[0;34m]\u001b[0m\u001b[0;34m\u001b[0m\u001b[0;34m\u001b[0m\u001b[0m\n",
      "\u001b[0;32m/Applications/anaconda3/lib/python3.7/site-packages/pandas/core/indexes/multi.py\u001b[0m in \u001b[0;36mget_loc\u001b[0;34m(self, key, method)\u001b[0m\n\u001b[1;32m   2672\u001b[0m \u001b[0;34m\u001b[0m\u001b[0m\n\u001b[1;32m   2673\u001b[0m         \u001b[0;32mif\u001b[0m \u001b[0;32mnot\u001b[0m \u001b[0misinstance\u001b[0m\u001b[0;34m(\u001b[0m\u001b[0mkey\u001b[0m\u001b[0;34m,\u001b[0m \u001b[0mtuple\u001b[0m\u001b[0;34m)\u001b[0m\u001b[0;34m:\u001b[0m\u001b[0;34m\u001b[0m\u001b[0;34m\u001b[0m\u001b[0m\n\u001b[0;32m-> 2674\u001b[0;31m             \u001b[0mloc\u001b[0m \u001b[0;34m=\u001b[0m \u001b[0mself\u001b[0m\u001b[0;34m.\u001b[0m\u001b[0m_get_level_indexer\u001b[0m\u001b[0;34m(\u001b[0m\u001b[0mkey\u001b[0m\u001b[0;34m,\u001b[0m \u001b[0mlevel\u001b[0m\u001b[0;34m=\u001b[0m\u001b[0;36m0\u001b[0m\u001b[0;34m)\u001b[0m\u001b[0;34m\u001b[0m\u001b[0;34m\u001b[0m\u001b[0m\n\u001b[0m\u001b[1;32m   2675\u001b[0m             \u001b[0;32mreturn\u001b[0m \u001b[0m_maybe_to_slice\u001b[0m\u001b[0;34m(\u001b[0m\u001b[0mloc\u001b[0m\u001b[0;34m)\u001b[0m\u001b[0;34m\u001b[0m\u001b[0;34m\u001b[0m\u001b[0m\n\u001b[1;32m   2676\u001b[0m \u001b[0;34m\u001b[0m\u001b[0m\n",
      "\u001b[0;32m/Applications/anaconda3/lib/python3.7/site-packages/pandas/core/indexes/multi.py\u001b[0m in \u001b[0;36m_get_level_indexer\u001b[0;34m(self, key, level, indexer)\u001b[0m\n\u001b[1;32m   2937\u001b[0m         \u001b[0;32melse\u001b[0m\u001b[0;34m:\u001b[0m\u001b[0;34m\u001b[0m\u001b[0;34m\u001b[0m\u001b[0m\n\u001b[1;32m   2938\u001b[0m \u001b[0;34m\u001b[0m\u001b[0m\n\u001b[0;32m-> 2939\u001b[0;31m             \u001b[0mcode\u001b[0m \u001b[0;34m=\u001b[0m \u001b[0mlevel_index\u001b[0m\u001b[0;34m.\u001b[0m\u001b[0mget_loc\u001b[0m\u001b[0;34m(\u001b[0m\u001b[0mkey\u001b[0m\u001b[0;34m)\u001b[0m\u001b[0;34m\u001b[0m\u001b[0;34m\u001b[0m\u001b[0m\n\u001b[0m\u001b[1;32m   2940\u001b[0m \u001b[0;34m\u001b[0m\u001b[0m\n\u001b[1;32m   2941\u001b[0m             \u001b[0;32mif\u001b[0m \u001b[0mlevel\u001b[0m \u001b[0;34m>\u001b[0m \u001b[0;36m0\u001b[0m \u001b[0;32mor\u001b[0m \u001b[0mself\u001b[0m\u001b[0;34m.\u001b[0m\u001b[0mlexsort_depth\u001b[0m \u001b[0;34m==\u001b[0m \u001b[0;36m0\u001b[0m\u001b[0;34m:\u001b[0m\u001b[0;34m\u001b[0m\u001b[0;34m\u001b[0m\u001b[0m\n",
      "\u001b[0;32m/Applications/anaconda3/lib/python3.7/site-packages/pandas/core/indexes/base.py\u001b[0m in \u001b[0;36mget_loc\u001b[0;34m(self, key, method, tolerance)\u001b[0m\n\u001b[1;32m   2897\u001b[0m                 \u001b[0;32mreturn\u001b[0m \u001b[0mself\u001b[0m\u001b[0;34m.\u001b[0m\u001b[0m_engine\u001b[0m\u001b[0;34m.\u001b[0m\u001b[0mget_loc\u001b[0m\u001b[0;34m(\u001b[0m\u001b[0mkey\u001b[0m\u001b[0;34m)\u001b[0m\u001b[0;34m\u001b[0m\u001b[0;34m\u001b[0m\u001b[0m\n\u001b[1;32m   2898\u001b[0m             \u001b[0;32mexcept\u001b[0m \u001b[0mKeyError\u001b[0m\u001b[0;34m:\u001b[0m\u001b[0;34m\u001b[0m\u001b[0;34m\u001b[0m\u001b[0m\n\u001b[0;32m-> 2899\u001b[0;31m                 \u001b[0;32mreturn\u001b[0m \u001b[0mself\u001b[0m\u001b[0;34m.\u001b[0m\u001b[0m_engine\u001b[0m\u001b[0;34m.\u001b[0m\u001b[0mget_loc\u001b[0m\u001b[0;34m(\u001b[0m\u001b[0mself\u001b[0m\u001b[0;34m.\u001b[0m\u001b[0m_maybe_cast_indexer\u001b[0m\u001b[0;34m(\u001b[0m\u001b[0mkey\u001b[0m\u001b[0;34m)\u001b[0m\u001b[0;34m)\u001b[0m\u001b[0;34m\u001b[0m\u001b[0;34m\u001b[0m\u001b[0m\n\u001b[0m\u001b[1;32m   2900\u001b[0m         \u001b[0mindexer\u001b[0m \u001b[0;34m=\u001b[0m \u001b[0mself\u001b[0m\u001b[0;34m.\u001b[0m\u001b[0mget_indexer\u001b[0m\u001b[0;34m(\u001b[0m\u001b[0;34m[\u001b[0m\u001b[0mkey\u001b[0m\u001b[0;34m]\u001b[0m\u001b[0;34m,\u001b[0m \u001b[0mmethod\u001b[0m\u001b[0;34m=\u001b[0m\u001b[0mmethod\u001b[0m\u001b[0;34m,\u001b[0m \u001b[0mtolerance\u001b[0m\u001b[0;34m=\u001b[0m\u001b[0mtolerance\u001b[0m\u001b[0;34m)\u001b[0m\u001b[0;34m\u001b[0m\u001b[0;34m\u001b[0m\u001b[0m\n\u001b[1;32m   2901\u001b[0m         \u001b[0;32mif\u001b[0m \u001b[0mindexer\u001b[0m\u001b[0;34m.\u001b[0m\u001b[0mndim\u001b[0m \u001b[0;34m>\u001b[0m \u001b[0;36m1\u001b[0m \u001b[0;32mor\u001b[0m \u001b[0mindexer\u001b[0m\u001b[0;34m.\u001b[0m\u001b[0msize\u001b[0m \u001b[0;34m>\u001b[0m \u001b[0;36m1\u001b[0m\u001b[0;34m:\u001b[0m\u001b[0;34m\u001b[0m\u001b[0;34m\u001b[0m\u001b[0m\n",
      "\u001b[0;32mpandas/_libs/index.pyx\u001b[0m in \u001b[0;36mpandas._libs.index.IndexEngine.get_loc\u001b[0;34m()\u001b[0m\n",
      "\u001b[0;32mpandas/_libs/index.pyx\u001b[0m in \u001b[0;36mpandas._libs.index.IndexEngine.get_loc\u001b[0;34m()\u001b[0m\n",
      "\u001b[0;32mpandas/_libs/hashtable_class_helper.pxi\u001b[0m in \u001b[0;36mpandas._libs.hashtable.PyObjectHashTable.get_item\u001b[0;34m()\u001b[0m\n",
      "\u001b[0;32mpandas/_libs/hashtable_class_helper.pxi\u001b[0m in \u001b[0;36mpandas._libs.hashtable.PyObjectHashTable.get_item\u001b[0;34m()\u001b[0m\n",
      "\u001b[0;31mKeyError\u001b[0m: 'date'"
     ]
    }
   ],
   "source": [
    "df_stats['date']"
   ]
  },
  {
   "cell_type": "code",
   "execution_count": 250,
   "metadata": {},
   "outputs": [
    {
     "ename": "KeyError",
     "evalue": "'date'",
     "output_type": "error",
     "traceback": [
      "\u001b[0;31m---------------------------------------------------------------------------\u001b[0m",
      "\u001b[0;31mKeyError\u001b[0m                                  Traceback (most recent call last)",
      "\u001b[0;32m/Applications/anaconda3/lib/python3.7/site-packages/pandas/core/indexes/base.py\u001b[0m in \u001b[0;36mget_loc\u001b[0;34m(self, key, method, tolerance)\u001b[0m\n\u001b[1;32m   2896\u001b[0m             \u001b[0;32mtry\u001b[0m\u001b[0;34m:\u001b[0m\u001b[0;34m\u001b[0m\u001b[0;34m\u001b[0m\u001b[0m\n\u001b[0;32m-> 2897\u001b[0;31m                 \u001b[0;32mreturn\u001b[0m \u001b[0mself\u001b[0m\u001b[0;34m.\u001b[0m\u001b[0m_engine\u001b[0m\u001b[0;34m.\u001b[0m\u001b[0mget_loc\u001b[0m\u001b[0;34m(\u001b[0m\u001b[0mkey\u001b[0m\u001b[0;34m)\u001b[0m\u001b[0;34m\u001b[0m\u001b[0;34m\u001b[0m\u001b[0m\n\u001b[0m\u001b[1;32m   2898\u001b[0m             \u001b[0;32mexcept\u001b[0m \u001b[0mKeyError\u001b[0m\u001b[0;34m:\u001b[0m\u001b[0;34m\u001b[0m\u001b[0;34m\u001b[0m\u001b[0m\n",
      "\u001b[0;32mpandas/_libs/index.pyx\u001b[0m in \u001b[0;36mpandas._libs.index.IndexEngine.get_loc\u001b[0;34m()\u001b[0m\n",
      "\u001b[0;32mpandas/_libs/index.pyx\u001b[0m in \u001b[0;36mpandas._libs.index.IndexEngine.get_loc\u001b[0;34m()\u001b[0m\n",
      "\u001b[0;32mpandas/_libs/hashtable_class_helper.pxi\u001b[0m in \u001b[0;36mpandas._libs.hashtable.PyObjectHashTable.get_item\u001b[0;34m()\u001b[0m\n",
      "\u001b[0;32mpandas/_libs/hashtable_class_helper.pxi\u001b[0m in \u001b[0;36mpandas._libs.hashtable.PyObjectHashTable.get_item\u001b[0;34m()\u001b[0m\n",
      "\u001b[0;31mKeyError\u001b[0m: 'date'",
      "\nDuring handling of the above exception, another exception occurred:\n",
      "\u001b[0;31mKeyError\u001b[0m                                  Traceback (most recent call last)",
      "\u001b[0;32m<ipython-input-250-35df7484114e>\u001b[0m in \u001b[0;36m<module>\u001b[0;34m\u001b[0m\n\u001b[0;32m----> 1\u001b[0;31m \u001b[0msns\u001b[0m\u001b[0;34m.\u001b[0m\u001b[0mregplot\u001b[0m\u001b[0;34m(\u001b[0m\u001b[0mdf_stats\u001b[0m\u001b[0;34m[\u001b[0m\u001b[0;34m'date'\u001b[0m\u001b[0;34m]\u001b[0m\u001b[0;34m,\u001b[0m \u001b[0mdf_stats\u001b[0m\u001b[0;34m[\u001b[0m\u001b[0;34m'mean'\u001b[0m\u001b[0;34m]\u001b[0m\u001b[0;34m,\u001b[0m \u001b[0morder\u001b[0m\u001b[0;34m=\u001b[0m\u001b[0;36m2\u001b[0m\u001b[0;34m)\u001b[0m\u001b[0;34m\u001b[0m\u001b[0;34m\u001b[0m\u001b[0m\n\u001b[0m",
      "\u001b[0;32m/Applications/anaconda3/lib/python3.7/site-packages/pandas/core/frame.py\u001b[0m in \u001b[0;36m__getitem__\u001b[0;34m(self, key)\u001b[0m\n\u001b[1;32m   2977\u001b[0m         \u001b[0;32mif\u001b[0m \u001b[0mis_single_key\u001b[0m\u001b[0;34m:\u001b[0m\u001b[0;34m\u001b[0m\u001b[0;34m\u001b[0m\u001b[0m\n\u001b[1;32m   2978\u001b[0m             \u001b[0;32mif\u001b[0m \u001b[0mself\u001b[0m\u001b[0;34m.\u001b[0m\u001b[0mcolumns\u001b[0m\u001b[0;34m.\u001b[0m\u001b[0mnlevels\u001b[0m \u001b[0;34m>\u001b[0m \u001b[0;36m1\u001b[0m\u001b[0;34m:\u001b[0m\u001b[0;34m\u001b[0m\u001b[0;34m\u001b[0m\u001b[0m\n\u001b[0;32m-> 2979\u001b[0;31m                 \u001b[0;32mreturn\u001b[0m \u001b[0mself\u001b[0m\u001b[0;34m.\u001b[0m\u001b[0m_getitem_multilevel\u001b[0m\u001b[0;34m(\u001b[0m\u001b[0mkey\u001b[0m\u001b[0;34m)\u001b[0m\u001b[0;34m\u001b[0m\u001b[0;34m\u001b[0m\u001b[0m\n\u001b[0m\u001b[1;32m   2980\u001b[0m             \u001b[0mindexer\u001b[0m \u001b[0;34m=\u001b[0m \u001b[0mself\u001b[0m\u001b[0;34m.\u001b[0m\u001b[0mcolumns\u001b[0m\u001b[0;34m.\u001b[0m\u001b[0mget_loc\u001b[0m\u001b[0;34m(\u001b[0m\u001b[0mkey\u001b[0m\u001b[0;34m)\u001b[0m\u001b[0;34m\u001b[0m\u001b[0;34m\u001b[0m\u001b[0m\n\u001b[1;32m   2981\u001b[0m             \u001b[0;32mif\u001b[0m \u001b[0mis_integer\u001b[0m\u001b[0;34m(\u001b[0m\u001b[0mindexer\u001b[0m\u001b[0;34m)\u001b[0m\u001b[0;34m:\u001b[0m\u001b[0;34m\u001b[0m\u001b[0;34m\u001b[0m\u001b[0m\n",
      "\u001b[0;32m/Applications/anaconda3/lib/python3.7/site-packages/pandas/core/frame.py\u001b[0m in \u001b[0;36m_getitem_multilevel\u001b[0;34m(self, key)\u001b[0m\n\u001b[1;32m   3026\u001b[0m \u001b[0;34m\u001b[0m\u001b[0m\n\u001b[1;32m   3027\u001b[0m     \u001b[0;32mdef\u001b[0m \u001b[0m_getitem_multilevel\u001b[0m\u001b[0;34m(\u001b[0m\u001b[0mself\u001b[0m\u001b[0;34m,\u001b[0m \u001b[0mkey\u001b[0m\u001b[0;34m)\u001b[0m\u001b[0;34m:\u001b[0m\u001b[0;34m\u001b[0m\u001b[0;34m\u001b[0m\u001b[0m\n\u001b[0;32m-> 3028\u001b[0;31m         \u001b[0mloc\u001b[0m \u001b[0;34m=\u001b[0m \u001b[0mself\u001b[0m\u001b[0;34m.\u001b[0m\u001b[0mcolumns\u001b[0m\u001b[0;34m.\u001b[0m\u001b[0mget_loc\u001b[0m\u001b[0;34m(\u001b[0m\u001b[0mkey\u001b[0m\u001b[0;34m)\u001b[0m\u001b[0;34m\u001b[0m\u001b[0;34m\u001b[0m\u001b[0m\n\u001b[0m\u001b[1;32m   3029\u001b[0m         \u001b[0;32mif\u001b[0m \u001b[0misinstance\u001b[0m\u001b[0;34m(\u001b[0m\u001b[0mloc\u001b[0m\u001b[0;34m,\u001b[0m \u001b[0;34m(\u001b[0m\u001b[0mslice\u001b[0m\u001b[0;34m,\u001b[0m \u001b[0mSeries\u001b[0m\u001b[0;34m,\u001b[0m \u001b[0mnp\u001b[0m\u001b[0;34m.\u001b[0m\u001b[0mndarray\u001b[0m\u001b[0;34m,\u001b[0m \u001b[0mIndex\u001b[0m\u001b[0;34m)\u001b[0m\u001b[0;34m)\u001b[0m\u001b[0;34m:\u001b[0m\u001b[0;34m\u001b[0m\u001b[0;34m\u001b[0m\u001b[0m\n\u001b[1;32m   3030\u001b[0m             \u001b[0mnew_columns\u001b[0m \u001b[0;34m=\u001b[0m \u001b[0mself\u001b[0m\u001b[0;34m.\u001b[0m\u001b[0mcolumns\u001b[0m\u001b[0;34m[\u001b[0m\u001b[0mloc\u001b[0m\u001b[0;34m]\u001b[0m\u001b[0;34m\u001b[0m\u001b[0;34m\u001b[0m\u001b[0m\n",
      "\u001b[0;32m/Applications/anaconda3/lib/python3.7/site-packages/pandas/core/indexes/multi.py\u001b[0m in \u001b[0;36mget_loc\u001b[0;34m(self, key, method)\u001b[0m\n\u001b[1;32m   2672\u001b[0m \u001b[0;34m\u001b[0m\u001b[0m\n\u001b[1;32m   2673\u001b[0m         \u001b[0;32mif\u001b[0m \u001b[0;32mnot\u001b[0m \u001b[0misinstance\u001b[0m\u001b[0;34m(\u001b[0m\u001b[0mkey\u001b[0m\u001b[0;34m,\u001b[0m \u001b[0mtuple\u001b[0m\u001b[0;34m)\u001b[0m\u001b[0;34m:\u001b[0m\u001b[0;34m\u001b[0m\u001b[0;34m\u001b[0m\u001b[0m\n\u001b[0;32m-> 2674\u001b[0;31m             \u001b[0mloc\u001b[0m \u001b[0;34m=\u001b[0m \u001b[0mself\u001b[0m\u001b[0;34m.\u001b[0m\u001b[0m_get_level_indexer\u001b[0m\u001b[0;34m(\u001b[0m\u001b[0mkey\u001b[0m\u001b[0;34m,\u001b[0m \u001b[0mlevel\u001b[0m\u001b[0;34m=\u001b[0m\u001b[0;36m0\u001b[0m\u001b[0;34m)\u001b[0m\u001b[0;34m\u001b[0m\u001b[0;34m\u001b[0m\u001b[0m\n\u001b[0m\u001b[1;32m   2675\u001b[0m             \u001b[0;32mreturn\u001b[0m \u001b[0m_maybe_to_slice\u001b[0m\u001b[0;34m(\u001b[0m\u001b[0mloc\u001b[0m\u001b[0;34m)\u001b[0m\u001b[0;34m\u001b[0m\u001b[0;34m\u001b[0m\u001b[0m\n\u001b[1;32m   2676\u001b[0m \u001b[0;34m\u001b[0m\u001b[0m\n",
      "\u001b[0;32m/Applications/anaconda3/lib/python3.7/site-packages/pandas/core/indexes/multi.py\u001b[0m in \u001b[0;36m_get_level_indexer\u001b[0;34m(self, key, level, indexer)\u001b[0m\n\u001b[1;32m   2937\u001b[0m         \u001b[0;32melse\u001b[0m\u001b[0;34m:\u001b[0m\u001b[0;34m\u001b[0m\u001b[0;34m\u001b[0m\u001b[0m\n\u001b[1;32m   2938\u001b[0m \u001b[0;34m\u001b[0m\u001b[0m\n\u001b[0;32m-> 2939\u001b[0;31m             \u001b[0mcode\u001b[0m \u001b[0;34m=\u001b[0m \u001b[0mlevel_index\u001b[0m\u001b[0;34m.\u001b[0m\u001b[0mget_loc\u001b[0m\u001b[0;34m(\u001b[0m\u001b[0mkey\u001b[0m\u001b[0;34m)\u001b[0m\u001b[0;34m\u001b[0m\u001b[0;34m\u001b[0m\u001b[0m\n\u001b[0m\u001b[1;32m   2940\u001b[0m \u001b[0;34m\u001b[0m\u001b[0m\n\u001b[1;32m   2941\u001b[0m             \u001b[0;32mif\u001b[0m \u001b[0mlevel\u001b[0m \u001b[0;34m>\u001b[0m \u001b[0;36m0\u001b[0m \u001b[0;32mor\u001b[0m \u001b[0mself\u001b[0m\u001b[0;34m.\u001b[0m\u001b[0mlexsort_depth\u001b[0m \u001b[0;34m==\u001b[0m \u001b[0;36m0\u001b[0m\u001b[0;34m:\u001b[0m\u001b[0;34m\u001b[0m\u001b[0;34m\u001b[0m\u001b[0m\n",
      "\u001b[0;32m/Applications/anaconda3/lib/python3.7/site-packages/pandas/core/indexes/base.py\u001b[0m in \u001b[0;36mget_loc\u001b[0;34m(self, key, method, tolerance)\u001b[0m\n\u001b[1;32m   2897\u001b[0m                 \u001b[0;32mreturn\u001b[0m \u001b[0mself\u001b[0m\u001b[0;34m.\u001b[0m\u001b[0m_engine\u001b[0m\u001b[0;34m.\u001b[0m\u001b[0mget_loc\u001b[0m\u001b[0;34m(\u001b[0m\u001b[0mkey\u001b[0m\u001b[0;34m)\u001b[0m\u001b[0;34m\u001b[0m\u001b[0;34m\u001b[0m\u001b[0m\n\u001b[1;32m   2898\u001b[0m             \u001b[0;32mexcept\u001b[0m \u001b[0mKeyError\u001b[0m\u001b[0;34m:\u001b[0m\u001b[0;34m\u001b[0m\u001b[0;34m\u001b[0m\u001b[0m\n\u001b[0;32m-> 2899\u001b[0;31m                 \u001b[0;32mreturn\u001b[0m \u001b[0mself\u001b[0m\u001b[0;34m.\u001b[0m\u001b[0m_engine\u001b[0m\u001b[0;34m.\u001b[0m\u001b[0mget_loc\u001b[0m\u001b[0;34m(\u001b[0m\u001b[0mself\u001b[0m\u001b[0;34m.\u001b[0m\u001b[0m_maybe_cast_indexer\u001b[0m\u001b[0;34m(\u001b[0m\u001b[0mkey\u001b[0m\u001b[0;34m)\u001b[0m\u001b[0;34m)\u001b[0m\u001b[0;34m\u001b[0m\u001b[0;34m\u001b[0m\u001b[0m\n\u001b[0m\u001b[1;32m   2900\u001b[0m         \u001b[0mindexer\u001b[0m \u001b[0;34m=\u001b[0m \u001b[0mself\u001b[0m\u001b[0;34m.\u001b[0m\u001b[0mget_indexer\u001b[0m\u001b[0;34m(\u001b[0m\u001b[0;34m[\u001b[0m\u001b[0mkey\u001b[0m\u001b[0;34m]\u001b[0m\u001b[0;34m,\u001b[0m \u001b[0mmethod\u001b[0m\u001b[0;34m=\u001b[0m\u001b[0mmethod\u001b[0m\u001b[0;34m,\u001b[0m \u001b[0mtolerance\u001b[0m\u001b[0;34m=\u001b[0m\u001b[0mtolerance\u001b[0m\u001b[0;34m)\u001b[0m\u001b[0;34m\u001b[0m\u001b[0;34m\u001b[0m\u001b[0m\n\u001b[1;32m   2901\u001b[0m         \u001b[0;32mif\u001b[0m \u001b[0mindexer\u001b[0m\u001b[0;34m.\u001b[0m\u001b[0mndim\u001b[0m \u001b[0;34m>\u001b[0m \u001b[0;36m1\u001b[0m \u001b[0;32mor\u001b[0m \u001b[0mindexer\u001b[0m\u001b[0;34m.\u001b[0m\u001b[0msize\u001b[0m \u001b[0;34m>\u001b[0m \u001b[0;36m1\u001b[0m\u001b[0;34m:\u001b[0m\u001b[0;34m\u001b[0m\u001b[0;34m\u001b[0m\u001b[0m\n",
      "\u001b[0;32mpandas/_libs/index.pyx\u001b[0m in \u001b[0;36mpandas._libs.index.IndexEngine.get_loc\u001b[0;34m()\u001b[0m\n",
      "\u001b[0;32mpandas/_libs/index.pyx\u001b[0m in \u001b[0;36mpandas._libs.index.IndexEngine.get_loc\u001b[0;34m()\u001b[0m\n",
      "\u001b[0;32mpandas/_libs/hashtable_class_helper.pxi\u001b[0m in \u001b[0;36mpandas._libs.hashtable.PyObjectHashTable.get_item\u001b[0;34m()\u001b[0m\n",
      "\u001b[0;32mpandas/_libs/hashtable_class_helper.pxi\u001b[0m in \u001b[0;36mpandas._libs.hashtable.PyObjectHashTable.get_item\u001b[0;34m()\u001b[0m\n",
      "\u001b[0;31mKeyError\u001b[0m: 'date'"
     ]
    }
   ],
   "source": [
    "sns.regplot(df_stats['date'], df_stats['mean'], order=2)"
   ]
  },
  {
   "cell_type": "code",
   "execution_count": 223,
   "metadata": {},
   "outputs": [],
   "source": [
    "z = np.polyfit(x=scatter_df['date'], y=scatter_df['tot_employ'], deg=2)\n",
    "p = np.poly1d(z)\n",
    "scatter_df['trendline'] = p(scatter_df['date'])"
   ]
  },
  {
   "cell_type": "code",
   "execution_count": 218,
   "metadata": {},
   "outputs": [
    {
     "data": {
      "text/html": [
       "<div>\n",
       "<style scoped>\n",
       "    .dataframe tbody tr th:only-of-type {\n",
       "        vertical-align: middle;\n",
       "    }\n",
       "\n",
       "    .dataframe tbody tr th {\n",
       "        vertical-align: top;\n",
       "    }\n",
       "\n",
       "    .dataframe thead th {\n",
       "        text-align: right;\n",
       "    }\n",
       "</style>\n",
       "<table border=\"1\" class=\"dataframe\">\n",
       "  <thead>\n",
       "    <tr style=\"text-align: right;\">\n",
       "      <th></th>\n",
       "      <th>date</th>\n",
       "      <th>tot_employ</th>\n",
       "      <th>trendline</th>\n",
       "    </tr>\n",
       "  </thead>\n",
       "  <tbody>\n",
       "    <tr>\n",
       "      <td>3527</td>\n",
       "      <td>1980.0</td>\n",
       "      <td>93.0</td>\n",
       "      <td>491.709393</td>\n",
       "    </tr>\n",
       "    <tr>\n",
       "      <td>4978</td>\n",
       "      <td>1980.0</td>\n",
       "      <td>93.0</td>\n",
       "      <td>491.709393</td>\n",
       "    </tr>\n",
       "    <tr>\n",
       "      <td>2877</td>\n",
       "      <td>1982.0</td>\n",
       "      <td>520.0</td>\n",
       "      <td>496.577824</td>\n",
       "    </tr>\n",
       "    <tr>\n",
       "      <td>278</td>\n",
       "      <td>1982.0</td>\n",
       "      <td>520.0</td>\n",
       "      <td>496.577824</td>\n",
       "    </tr>\n",
       "    <tr>\n",
       "      <td>789</td>\n",
       "      <td>1982.0</td>\n",
       "      <td>520.0</td>\n",
       "      <td>496.577824</td>\n",
       "    </tr>\n",
       "    <tr>\n",
       "      <td>...</td>\n",
       "      <td>...</td>\n",
       "      <td>...</td>\n",
       "      <td>...</td>\n",
       "    </tr>\n",
       "    <tr>\n",
       "      <td>197</td>\n",
       "      <td>2020.0</td>\n",
       "      <td>20.0</td>\n",
       "      <td>-24.768348</td>\n",
       "    </tr>\n",
       "    <tr>\n",
       "      <td>4192</td>\n",
       "      <td>2020.0</td>\n",
       "      <td>7.0</td>\n",
       "      <td>-24.768348</td>\n",
       "    </tr>\n",
       "    <tr>\n",
       "      <td>920</td>\n",
       "      <td>2020.0</td>\n",
       "      <td>5.0</td>\n",
       "      <td>-24.768348</td>\n",
       "    </tr>\n",
       "    <tr>\n",
       "      <td>3938</td>\n",
       "      <td>2020.0</td>\n",
       "      <td>60.0</td>\n",
       "      <td>-24.768348</td>\n",
       "    </tr>\n",
       "    <tr>\n",
       "      <td>3702</td>\n",
       "      <td>2020.0</td>\n",
       "      <td>5.0</td>\n",
       "      <td>-24.768348</td>\n",
       "    </tr>\n",
       "  </tbody>\n",
       "</table>\n",
       "<p>1560 rows × 3 columns</p>\n",
       "</div>"
      ],
      "text/plain": [
       "        date  tot_employ   trendline\n",
       "3527  1980.0        93.0  491.709393\n",
       "4978  1980.0        93.0  491.709393\n",
       "2877  1982.0       520.0  496.577824\n",
       "278   1982.0       520.0  496.577824\n",
       "789   1982.0       520.0  496.577824\n",
       "...      ...         ...         ...\n",
       "197   2020.0        20.0  -24.768348\n",
       "4192  2020.0         7.0  -24.768348\n",
       "920   2020.0         5.0  -24.768348\n",
       "3938  2020.0        60.0  -24.768348\n",
       "3702  2020.0         5.0  -24.768348\n",
       "\n",
       "[1560 rows x 3 columns]"
      ]
     },
     "execution_count": 218,
     "metadata": {},
     "output_type": "execute_result"
    }
   ],
   "source": [
    "scatter_df"
   ]
  },
  {
   "cell_type": "code",
   "execution_count": 224,
   "metadata": {},
   "outputs": [
    {
     "data": {
      "image/png": "[encoded data removed]",
      "text/plain": [
       "<Figure size 432x288 with 1 Axes>"
      ]
     },
     "metadata": {},
     "output_type": "display_data"
    }
   ],
   "source": [
    "ax = scatter_df.plot.scatter(x='date', y='tot_employ')\n",
    "#scatter_df.set_index('date', inplace=True)\n",
    "scatter_df.trendline.sort_index().plot(ax=ax)\n",
    "plt.gca().invert_xaxis()"
   ]
  },
  {
   "cell_type": "code",
   "execution_count": null,
   "metadata": {},
   "outputs": [],
   "source": []
  }
 ],
 "metadata": {
  "kernelspec": {
   "display_name": "Python 3",
   "language": "python",
   "name": "python3"
  },
  "language_info": {
   "codemirror_mode": {
    "name": "ipython",
    "version": 3
   },
   "file_extension": ".py",
   "mimetype": "text/x-python",
   "name": "python",
   "nbconvert_exporter": "python",
   "pygments_lexer": "ipython3",
   "version": "3.7.4"
  }
 },
 "nbformat": 4,
 "nbformat_minor": 2
}
